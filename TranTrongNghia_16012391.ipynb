{
  "nbformat": 4,
  "nbformat_minor": 0,
  "metadata": {
    "colab": {
      "name": "TranTrongNghia_16012391",
      "provenance": []
    },
    "kernelspec": {
      "name": "python3",
      "display_name": "Python 3"
    }
  },
  "cells": [
    {
      "cell_type": "markdown",
      "metadata": {
        "id": "L_rGeTfjEW68"
      },
      "source": [
        "Lập trình phân tích dữ liệu 2_ Trần Trọng Nghĩa - 16012391"
      ]
    },
    {
      "cell_type": "code",
      "metadata": {
        "id": "33a4GSRREdB9"
      },
      "source": [
        "import numpy as np\r\n",
        "import pandas as pd\r\n",
        "import matplotlib.pyplot as plt\r\n",
        "import seaborn as sns"
      ],
      "execution_count": 9,
      "outputs": []
    },
    {
      "cell_type": "code",
      "metadata": {
        "id": "PkV4gvFrFIWG"
      },
      "source": [
        "df = pd.read_excel('/content/KQThiLyThuyet-26.12.2020_ca2.xls')"
      ],
      "execution_count": 10,
      "outputs": []
    },
    {
      "cell_type": "code",
      "metadata": {
        "id": "5nAUiDVLGOgL"
      },
      "source": [
        "df=pd.ExcelFile('/content/KQThiLyThuyet-26.12.2020_ca2.xls')"
      ],
      "execution_count": 15,
      "outputs": []
    },
    {
      "cell_type": "code",
      "metadata": {
        "id": "XEv6_QrEGQeN"
      },
      "source": [
        "result=df.parse('Sheet1')"
      ],
      "execution_count": 16,
      "outputs": []
    },
    {
      "cell_type": "code",
      "metadata": {
        "colab": {
          "base_uri": "https://localhost:8080/"
        },
        "id": "Y1IdcnwuGTXd",
        "outputId": "71b3affc-904c-4204-a275-3e92d597e665"
      },
      "source": [
        "result.isnull().sum()"
      ],
      "execution_count": 17,
      "outputs": [
        {
          "output_type": "execute_result",
          "data": {
            "text/plain": [
              "STT          0\n",
              "Mã SV        0\n",
              "Họ đệm       0\n",
              "Tên          0\n",
              "Giới tính    0\n",
              "Ngày sinh    4\n",
              "Điểm         0\n",
              "Điểm.1       0\n",
              "dtype: int64"
            ]
          },
          "metadata": {
            "tags": []
          },
          "execution_count": 17
        }
      ]
    },
    {
      "cell_type": "code",
      "metadata": {
        "colab": {
          "base_uri": "https://localhost:8080/",
          "height": 204
        },
        "id": "CqcphhoAGZL8",
        "outputId": "a1b724d5-9637-4f8e-e0fc-43de5b28f41f"
      },
      "source": [
        "result.head()"
      ],
      "execution_count": 21,
      "outputs": [
        {
          "output_type": "execute_result",
          "data": {
            "text/html": [
              "<div>\n",
              "<style scoped>\n",
              "    .dataframe tbody tr th:only-of-type {\n",
              "        vertical-align: middle;\n",
              "    }\n",
              "\n",
              "    .dataframe tbody tr th {\n",
              "        vertical-align: top;\n",
              "    }\n",
              "\n",
              "    .dataframe thead th {\n",
              "        text-align: right;\n",
              "    }\n",
              "</style>\n",
              "<table border=\"1\" class=\"dataframe\">\n",
              "  <thead>\n",
              "    <tr style=\"text-align: right;\">\n",
              "      <th></th>\n",
              "      <th>STT</th>\n",
              "      <th>Mã SV</th>\n",
              "      <th>Họ đệm</th>\n",
              "      <th>Tên</th>\n",
              "      <th>Giới tính</th>\n",
              "      <th>Ngày sinh</th>\n",
              "      <th>Điểm</th>\n",
              "      <th>Điểm.1</th>\n",
              "    </tr>\n",
              "  </thead>\n",
              "  <tbody>\n",
              "    <tr>\n",
              "      <th>0</th>\n",
              "      <td>1</td>\n",
              "      <td>18066431</td>\n",
              "      <td>Đỗ Huy Quốc</td>\n",
              "      <td>An</td>\n",
              "      <td>Nữ</td>\n",
              "      <td>2000-08-11 00:00:00</td>\n",
              "      <td>5.0</td>\n",
              "      <td>5.0</td>\n",
              "    </tr>\n",
              "    <tr>\n",
              "      <th>1</th>\n",
              "      <td>2</td>\n",
              "      <td>18031341</td>\n",
              "      <td>Hồ Văn Công</td>\n",
              "      <td>Anh</td>\n",
              "      <td>Nữ</td>\n",
              "      <td>27/09/2000</td>\n",
              "      <td>5.5</td>\n",
              "      <td>5.5</td>\n",
              "    </tr>\n",
              "    <tr>\n",
              "      <th>2</th>\n",
              "      <td>4</td>\n",
              "      <td>19462511</td>\n",
              "      <td>Nguyễn Thị Tuyết</td>\n",
              "      <td>Anh</td>\n",
              "      <td>Nữ</td>\n",
              "      <td>2001-01-01 00:00:00</td>\n",
              "      <td>6.3</td>\n",
              "      <td>6.5</td>\n",
              "    </tr>\n",
              "    <tr>\n",
              "      <th>3</th>\n",
              "      <td>5</td>\n",
              "      <td>18002951</td>\n",
              "      <td>Bùi Thái</td>\n",
              "      <td>Bình</td>\n",
              "      <td>Nữ</td>\n",
              "      <td>25/09/2000</td>\n",
              "      <td>5.8</td>\n",
              "      <td>6.0</td>\n",
              "    </tr>\n",
              "    <tr>\n",
              "      <th>4</th>\n",
              "      <td>6</td>\n",
              "      <td>18024551</td>\n",
              "      <td>Bùi Kim</td>\n",
              "      <td>Chi</td>\n",
              "      <td>Nữ</td>\n",
              "      <td>2000-04-06 00:00:00</td>\n",
              "      <td>7.0</td>\n",
              "      <td>7.0</td>\n",
              "    </tr>\n",
              "  </tbody>\n",
              "</table>\n",
              "</div>"
            ],
            "text/plain": [
              "   STT     Mã SV            Họ đệm  ...            Ngày sinh Điểm Điểm.1\n",
              "0    1  18066431       Đỗ Huy Quốc  ...  2000-08-11 00:00:00  5.0    5.0\n",
              "1    2  18031341       Hồ Văn Công  ...           27/09/2000  5.5    5.5\n",
              "2    4  19462511  Nguyễn Thị Tuyết  ...  2001-01-01 00:00:00  6.3    6.5\n",
              "3    5  18002951          Bùi Thái  ...           25/09/2000  5.8    6.0\n",
              "4    6  18024551           Bùi Kim  ...  2000-04-06 00:00:00  7.0    7.0\n",
              "\n",
              "[5 rows x 8 columns]"
            ]
          },
          "metadata": {
            "tags": []
          },
          "execution_count": 21
        }
      ]
    },
    {
      "cell_type": "code",
      "metadata": {
        "colab": {
          "base_uri": "https://localhost:8080/"
        },
        "id": "ZyjWmcFRGlYV",
        "outputId": "6cadfc83-f543-4f0f-e2bf-9eef55c45617"
      },
      "source": [
        "result['Ngày sinh'].value_counts().idxmax()"
      ],
      "execution_count": 23,
      "outputs": [
        {
          "output_type": "execute_result",
          "data": {
            "text/plain": [
              "datetime.datetime(1999, 10, 10, 0, 0)"
            ]
          },
          "metadata": {
            "tags": []
          },
          "execution_count": 23
        }
      ]
    },
    {
      "cell_type": "code",
      "metadata": {
        "id": "chybS9_UGzql"
      },
      "source": [
        "result['Ngày sinh'].fillna(result['Ngày sinh'].value_counts().idxmax(),inplace=True)"
      ],
      "execution_count": 25,
      "outputs": []
    },
    {
      "cell_type": "code",
      "metadata": {
        "colab": {
          "base_uri": "https://localhost:8080/"
        },
        "id": "JDahUaxgG1rd",
        "outputId": "9647f3d9-8a75-4713-9895-6947f5ba441f"
      },
      "source": [
        "\r\n",
        "result.isnull().sum()"
      ],
      "execution_count": 26,
      "outputs": [
        {
          "output_type": "execute_result",
          "data": {
            "text/plain": [
              "STT          0\n",
              "Mã SV        0\n",
              "Họ đệm       0\n",
              "Tên          0\n",
              "Giới tính    0\n",
              "Ngày sinh    0\n",
              "Điểm         0\n",
              "Điểm.1       0\n",
              "dtype: int64"
            ]
          },
          "metadata": {
            "tags": []
          },
          "execution_count": 26
        }
      ]
    },
    {
      "cell_type": "code",
      "metadata": {
        "colab": {
          "base_uri": "https://localhost:8080/",
          "height": 297
        },
        "id": "nlFGT1lEG4sc",
        "outputId": "a8594499-2e71-4325-a3e5-4ccdfbcaf5c4"
      },
      "source": [
        "result.describe()"
      ],
      "execution_count": 30,
      "outputs": [
        {
          "output_type": "execute_result",
          "data": {
            "text/html": [
              "<div>\n",
              "<style scoped>\n",
              "    .dataframe tbody tr th:only-of-type {\n",
              "        vertical-align: middle;\n",
              "    }\n",
              "\n",
              "    .dataframe tbody tr th {\n",
              "        vertical-align: top;\n",
              "    }\n",
              "\n",
              "    .dataframe thead th {\n",
              "        text-align: right;\n",
              "    }\n",
              "</style>\n",
              "<table border=\"1\" class=\"dataframe\">\n",
              "  <thead>\n",
              "    <tr style=\"text-align: right;\">\n",
              "      <th></th>\n",
              "      <th>STT</th>\n",
              "      <th>Mã SV</th>\n",
              "      <th>Điểm</th>\n",
              "      <th>Điểm.1</th>\n",
              "    </tr>\n",
              "  </thead>\n",
              "  <tbody>\n",
              "    <tr>\n",
              "      <th>count</th>\n",
              "      <td>64.000000</td>\n",
              "      <td>6.400000e+01</td>\n",
              "      <td>64.000000</td>\n",
              "      <td>64.000000</td>\n",
              "    </tr>\n",
              "    <tr>\n",
              "      <th>mean</th>\n",
              "      <td>33.468750</td>\n",
              "      <td>1.881333e+07</td>\n",
              "      <td>5.315625</td>\n",
              "      <td>5.421875</td>\n",
              "    </tr>\n",
              "    <tr>\n",
              "      <th>std</th>\n",
              "      <td>18.672592</td>\n",
              "      <td>1.030669e+07</td>\n",
              "      <td>1.205703</td>\n",
              "      <td>1.225453</td>\n",
              "    </tr>\n",
              "    <tr>\n",
              "      <th>min</th>\n",
              "      <td>1.000000</td>\n",
              "      <td>1.404069e+07</td>\n",
              "      <td>0.000000</td>\n",
              "      <td>0.000000</td>\n",
              "    </tr>\n",
              "    <tr>\n",
              "      <th>25%</th>\n",
              "      <td>17.750000</td>\n",
              "      <td>1.707397e+07</td>\n",
              "      <td>4.725000</td>\n",
              "      <td>4.875000</td>\n",
              "    </tr>\n",
              "    <tr>\n",
              "      <th>50%</th>\n",
              "      <td>33.500000</td>\n",
              "      <td>1.801700e+07</td>\n",
              "      <td>5.400000</td>\n",
              "      <td>5.500000</td>\n",
              "    </tr>\n",
              "    <tr>\n",
              "      <th>75%</th>\n",
              "      <td>49.250000</td>\n",
              "      <td>1.805240e+07</td>\n",
              "      <td>6.300000</td>\n",
              "      <td>6.500000</td>\n",
              "    </tr>\n",
              "    <tr>\n",
              "      <th>max</th>\n",
              "      <td>65.000000</td>\n",
              "      <td>9.966611e+07</td>\n",
              "      <td>7.000000</td>\n",
              "      <td>7.000000</td>\n",
              "    </tr>\n",
              "  </tbody>\n",
              "</table>\n",
              "</div>"
            ],
            "text/plain": [
              "             STT         Mã SV       Điểm     Điểm.1\n",
              "count  64.000000  6.400000e+01  64.000000  64.000000\n",
              "mean   33.468750  1.881333e+07   5.315625   5.421875\n",
              "std    18.672592  1.030669e+07   1.205703   1.225453\n",
              "min     1.000000  1.404069e+07   0.000000   0.000000\n",
              "25%    17.750000  1.707397e+07   4.725000   4.875000\n",
              "50%    33.500000  1.801700e+07   5.400000   5.500000\n",
              "75%    49.250000  1.805240e+07   6.300000   6.500000\n",
              "max    65.000000  9.966611e+07   7.000000   7.000000"
            ]
          },
          "metadata": {
            "tags": []
          },
          "execution_count": 30
        }
      ]
    },
    {
      "cell_type": "code",
      "metadata": {
        "colab": {
          "base_uri": "https://localhost:8080/",
          "height": 296
        },
        "id": "O4EGNv21HDdU",
        "outputId": "e54ce527-fdd5-4f25-c9a1-7d32fe71c0d6"
      },
      "source": [
        "sns.countplot(x='Điểm', data=result)"
      ],
      "execution_count": 31,
      "outputs": [
        {
          "output_type": "execute_result",
          "data": {
            "text/plain": [
              "<matplotlib.axes._subplots.AxesSubplot at 0x7f8df1e29160>"
            ]
          },
          "metadata": {
            "tags": []
          },
          "execution_count": 31
        },
        {
          "output_type": "display_data",
          "data": {
            "image/png": "[encoded data removed]",
            "text/plain": [
              "<Figure size 432x288 with 1 Axes>"
            ]
          },
          "metadata": {
            "tags": [],
            "needs_background": "light"
          }
        }
      ]
    },
    {
      "cell_type": "code",
      "metadata": {
        "colab": {
          "base_uri": "https://localhost:8080/",
          "height": 386
        },
        "id": "jczN0GXDHbQ_",
        "outputId": "a9dd09a2-c546-4a9b-cd26-7c8e2e499e73"
      },
      "source": [
        "\r\n",
        "sns.displot(result['Điểm'], kde=True).set(xlabel='Điểm', ylabel='Count')"
      ],
      "execution_count": 34,
      "outputs": [
        {
          "output_type": "execute_result",
          "data": {
            "text/plain": [
              "<seaborn.axisgrid.FacetGrid at 0x7f8df1ac5a20>"
            ]
          },
          "metadata": {
            "tags": []
          },
          "execution_count": 34
        },
        {
          "output_type": "display_data",
          "data": {
            "image/png": "[encoded data removed]",
            "text/plain": [
              "<Figure size 360x360 with 1 Axes>"
            ]
          },
          "metadata": {
            "tags": [],
            "needs_background": "light"
          }
        }
      ]
    },
    {
      "cell_type": "markdown",
      "metadata": {
        "id": "jULat8JSHx5X"
      },
      "source": [
        "\r\n",
        "Phân phối điểm ở giai đoạn từ 3.5 đến 7 là chủ yếu. Nhiều nhất là ở khoảng 6 đến 7"
      ]
    },
    {
      "cell_type": "code",
      "metadata": {
        "colab": {
          "base_uri": "https://localhost:8080/",
          "height": 350
        },
        "id": "tdmajbq4HmPp",
        "outputId": "f9627570-9447-4a3b-ce1d-a31931369604"
      },
      "source": [
        "sns.boxplot(result['Điểm'])"
      ],
      "execution_count": 38,
      "outputs": [
        {
          "output_type": "stream",
          "text": [
            "/usr/local/lib/python3.6/dist-packages/seaborn/_decorators.py:43: FutureWarning: Pass the following variable as a keyword arg: x. From version 0.12, the only valid positional argument will be `data`, and passing other arguments without an explicit keyword will result in an error or misinterpretation.\n",
            "  FutureWarning\n"
          ],
          "name": "stderr"
        },
        {
          "output_type": "execute_result",
          "data": {
            "text/plain": [
              "<matplotlib.axes._subplots.AxesSubplot at 0x7f8dee9e6cf8>"
            ]
          },
          "metadata": {
            "tags": []
          },
          "execution_count": 38
        },
        {
          "output_type": "display_data",
          "data": {
            "image/png": "[encoded data removed]",
            "text/plain": [
              "<Figure size 432x288 with 1 Axes>"
            ]
          },
          "metadata": {
            "tags": [],
            "needs_background": "light"
          }
        }
      ]
    },
    {
      "cell_type": "code",
      "metadata": {
        "colab": {
          "base_uri": "https://localhost:8080/",
          "height": 296
        },
        "id": "gsjEdyyxHo4f",
        "outputId": "99813621-cadf-4320-bb5d-0a89cea357e5"
      },
      "source": [
        "sns.boxplot(x=result['Giới tính'], y=result['Điểm'])"
      ],
      "execution_count": 39,
      "outputs": [
        {
          "output_type": "execute_result",
          "data": {
            "text/plain": [
              "<matplotlib.axes._subplots.AxesSubplot at 0x7f8deeb42c88>"
            ]
          },
          "metadata": {
            "tags": []
          },
          "execution_count": 39
        },
        {
          "output_type": "display_data",
          "data": {
            "image/png": "[encoded data removed]",
            "text/plain": [
              "<Figure size 432x288 with 1 Axes>"
            ]
          },
          "metadata": {
            "tags": [],
            "needs_background": "light"
          }
        }
      ]
    },
    {
      "cell_type": "markdown",
      "metadata": {
        "id": "C-H1VHicHstI"
      },
      "source": [
        "Ta thấy sự tương quan của biến điểm giữa Nam và Nữ tương đối đồng đều. Tuy nhiên vì số lượng Nam quá ít nên khó có thế khẳng định sự khác nhau về điểm giữa nam và nữ\r\n"
      ]
    }
  ]
}