{
  "nbformat": 4,
  "nbformat_minor": 0,
  "metadata": {
    "colab": {
      "name": "thongkemota.ipynb",
      "provenance": [],
      "include_colab_link": true
    },
    "kernelspec": {
      "name": "python3",
      "display_name": "Python 3"
    }
  },
  "cells": [
    {
      "cell_type": "markdown",
      "metadata": {
        "id": "view-in-github",
        "colab_type": "text"
      },
      "source": [
        "<a href=\"https://colab.research.google.com/github/danthunguyenh/baitap/blob/main/thongkemota.ipynb\" target=\"_parent\"><img src=\"https://colab.research.google.com/assets/colab-badge.svg\" alt=\"Open In Colab\"/></a>"
      ]
    },
    {
      "cell_type": "code",
      "metadata": {
        "id": "en8KkbmfdXSO"
      },
      "source": [
        "import os\r\n",
        "from pathlib import Path\r\n",
        "data_path = Path('/content/')\r\n",
        "os.chdir(data_path)"
      ],
      "execution_count": null,
      "outputs": []
    },
    {
      "cell_type": "markdown",
      "metadata": {
        "id": "ozXgwgH7iIx0"
      },
      "source": [
        "Tạo thư mục làm việc"
      ]
    },
    {
      "cell_type": "code",
      "metadata": {
        "id": "Elsbc6g1fIp9"
      },
      "source": [
        "import pandas as pd\r\n",
        "df = pd.read_csv('http://www.statslab.cam.ac.uk/~rds37/teaching/statistical_modelling/BrainSize.csv')\r\n",
        "df2 = pd.read_excel('https://mathcs.org/statistics/course/00-data/distribution-data.xls')"
      ],
      "execution_count": null,
      "outputs": []
    },
    {
      "cell_type": "markdown",
      "metadata": {
        "id": "UtFPd3_biWkc"
      },
      "source": [
        "Import dataset"
      ]
    },
    {
      "cell_type": "code",
      "metadata": {
        "id": "RJGAVzxAgL5N",
        "colab": {
          "base_uri": "https://localhost:8080/"
        },
        "outputId": "d59b9715-3306-40cc-a13e-dd9c983ab1aa"
      },
      "source": [
        "df.shape"
      ],
      "execution_count": null,
      "outputs": [
        {
          "output_type": "execute_result",
          "data": {
            "text/plain": [
              "(38, 7)"
            ]
          },
          "metadata": {
            "tags": []
          },
          "execution_count": 28
        }
      ]
    },
    {
      "cell_type": "markdown",
      "metadata": {
        "id": "eJeW3SBLiZed"
      },
      "source": [
        "Xuất kích thước dataset"
      ]
    },
    {
      "cell_type": "code",
      "metadata": {
        "colab": {
          "base_uri": "https://localhost:8080/"
        },
        "id": "e1j8V-YbhY9e",
        "outputId": "4bfe2203-d886-4b83-f1ed-2cb55629bcd2"
      },
      "source": [
        "df.shape[0]"
      ],
      "execution_count": null,
      "outputs": [
        {
          "output_type": "execute_result",
          "data": {
            "text/plain": [
              "38"
            ]
          },
          "metadata": {
            "tags": []
          },
          "execution_count": 29
        }
      ]
    },
    {
      "cell_type": "markdown",
      "metadata": {
        "id": "qvZd2Pqcidjk"
      },
      "source": [
        "Xuất số dòng dữ liệu"
      ]
    },
    {
      "cell_type": "code",
      "metadata": {
        "colab": {
          "base_uri": "https://localhost:8080/"
        },
        "id": "LHlkQJlphcYM",
        "outputId": "8276ae1a-8fdf-4274-ae73-5d3f3398018a"
      },
      "source": [
        "df.shape[1]"
      ],
      "execution_count": null,
      "outputs": [
        {
          "output_type": "execute_result",
          "data": {
            "text/plain": [
              "7"
            ]
          },
          "metadata": {
            "tags": []
          },
          "execution_count": 30
        }
      ]
    },
    {
      "cell_type": "markdown",
      "metadata": {
        "id": "tdDFHHIiigZU"
      },
      "source": [
        "Xuất số cột dữ liệu"
      ]
    },
    {
      "cell_type": "code",
      "metadata": {
        "colab": {
          "base_uri": "https://localhost:8080/"
        },
        "id": "Y1LrMqzkhdTc",
        "outputId": "70166ccc-02e0-413c-e506-0f1019195bb6"
      },
      "source": [
        "df.info()"
      ],
      "execution_count": null,
      "outputs": [
        {
          "output_type": "stream",
          "text": [
            "<class 'pandas.core.frame.DataFrame'>\n",
            "RangeIndex: 38 entries, 0 to 37\n",
            "Data columns (total 7 columns):\n",
            " #   Column     Non-Null Count  Dtype  \n",
            "---  ------     --------------  -----  \n",
            " 0   Gender     38 non-null     object \n",
            " 1   FSIQ       38 non-null     int64  \n",
            " 2   VIQ        38 non-null     int64  \n",
            " 3   PIQ        38 non-null     int64  \n",
            " 4   Weight     38 non-null     int64  \n",
            " 5   Height     38 non-null     float64\n",
            " 6   MRI_Count  38 non-null     int64  \n",
            "dtypes: float64(1), int64(5), object(1)\n",
            "memory usage: 2.2+ KB\n"
          ],
          "name": "stdout"
        }
      ]
    },
    {
      "cell_type": "markdown",
      "metadata": {
        "id": "59XJtuJkixh0"
      },
      "source": [
        "Xuất thông tin các cột dữ liệu, số dòng và kiểu dữ liệu"
      ]
    },
    {
      "cell_type": "code",
      "metadata": {
        "colab": {
          "base_uri": "https://localhost:8080/",
          "height": 297
        },
        "id": "dHC8QeemheKs",
        "outputId": "7632f808-79c5-42e7-d81d-7b5f0832b15c"
      },
      "source": [
        "df.describe()"
      ],
      "execution_count": null,
      "outputs": [
        {
          "output_type": "execute_result",
          "data": {
            "text/html": [
              "<div>\n",
              "<style scoped>\n",
              "    .dataframe tbody tr th:only-of-type {\n",
              "        vertical-align: middle;\n",
              "    }\n",
              "\n",
              "    .dataframe tbody tr th {\n",
              "        vertical-align: top;\n",
              "    }\n",
              "\n",
              "    .dataframe thead th {\n",
              "        text-align: right;\n",
              "    }\n",
              "</style>\n",
              "<table border=\"1\" class=\"dataframe\">\n",
              "  <thead>\n",
              "    <tr style=\"text-align: right;\">\n",
              "      <th></th>\n",
              "      <th>FSIQ</th>\n",
              "      <th>VIQ</th>\n",
              "      <th>PIQ</th>\n",
              "      <th>Weight</th>\n",
              "      <th>Height</th>\n",
              "      <th>MRI_Count</th>\n",
              "    </tr>\n",
              "  </thead>\n",
              "  <tbody>\n",
              "    <tr>\n",
              "      <th>count</th>\n",
              "      <td>38.000000</td>\n",
              "      <td>38.000000</td>\n",
              "      <td>38.000000</td>\n",
              "      <td>38.000000</td>\n",
              "      <td>38.000000</td>\n",
              "      <td>3.800000e+01</td>\n",
              "    </tr>\n",
              "    <tr>\n",
              "      <th>mean</th>\n",
              "      <td>113.552632</td>\n",
              "      <td>112.131579</td>\n",
              "      <td>111.342105</td>\n",
              "      <td>151.052632</td>\n",
              "      <td>68.421053</td>\n",
              "      <td>9.067542e+05</td>\n",
              "    </tr>\n",
              "    <tr>\n",
              "      <th>std</th>\n",
              "      <td>23.815391</td>\n",
              "      <td>22.939605</td>\n",
              "      <td>22.597867</td>\n",
              "      <td>23.478509</td>\n",
              "      <td>3.993790</td>\n",
              "      <td>7.256175e+04</td>\n",
              "    </tr>\n",
              "    <tr>\n",
              "      <th>min</th>\n",
              "      <td>77.000000</td>\n",
              "      <td>71.000000</td>\n",
              "      <td>72.000000</td>\n",
              "      <td>106.000000</td>\n",
              "      <td>62.000000</td>\n",
              "      <td>7.906190e+05</td>\n",
              "    </tr>\n",
              "    <tr>\n",
              "      <th>25%</th>\n",
              "      <td>90.250000</td>\n",
              "      <td>90.250000</td>\n",
              "      <td>89.250000</td>\n",
              "      <td>135.250000</td>\n",
              "      <td>66.000000</td>\n",
              "      <td>8.548115e+05</td>\n",
              "    </tr>\n",
              "    <tr>\n",
              "      <th>50%</th>\n",
              "      <td>116.500000</td>\n",
              "      <td>113.000000</td>\n",
              "      <td>115.000000</td>\n",
              "      <td>146.500000</td>\n",
              "      <td>68.000000</td>\n",
              "      <td>9.053990e+05</td>\n",
              "    </tr>\n",
              "    <tr>\n",
              "      <th>75%</th>\n",
              "      <td>135.000000</td>\n",
              "      <td>129.000000</td>\n",
              "      <td>128.000000</td>\n",
              "      <td>172.000000</td>\n",
              "      <td>70.375000</td>\n",
              "      <td>9.495405e+05</td>\n",
              "    </tr>\n",
              "    <tr>\n",
              "      <th>max</th>\n",
              "      <td>144.000000</td>\n",
              "      <td>150.000000</td>\n",
              "      <td>150.000000</td>\n",
              "      <td>192.000000</td>\n",
              "      <td>77.000000</td>\n",
              "      <td>1.079549e+06</td>\n",
              "    </tr>\n",
              "  </tbody>\n",
              "</table>\n",
              "</div>"
            ],
            "text/plain": [
              "             FSIQ         VIQ         PIQ      Weight     Height     MRI_Count\n",
              "count   38.000000   38.000000   38.000000   38.000000  38.000000  3.800000e+01\n",
              "mean   113.552632  112.131579  111.342105  151.052632  68.421053  9.067542e+05\n",
              "std     23.815391   22.939605   22.597867   23.478509   3.993790  7.256175e+04\n",
              "min     77.000000   71.000000   72.000000  106.000000  62.000000  7.906190e+05\n",
              "25%     90.250000   90.250000   89.250000  135.250000  66.000000  8.548115e+05\n",
              "50%    116.500000  113.000000  115.000000  146.500000  68.000000  9.053990e+05\n",
              "75%    135.000000  129.000000  128.000000  172.000000  70.375000  9.495405e+05\n",
              "max    144.000000  150.000000  150.000000  192.000000  77.000000  1.079549e+06"
            ]
          },
          "metadata": {
            "tags": []
          },
          "execution_count": 32
        }
      ]
    },
    {
      "cell_type": "markdown",
      "metadata": {
        "id": "U_kOGgBhi602"
      },
      "source": [
        "Xuất các thông tin thống kê dữ liệu"
      ]
    },
    {
      "cell_type": "code",
      "metadata": {
        "colab": {
          "base_uri": "https://localhost:8080/",
          "height": 173
        },
        "id": "tZleSTylhgkM",
        "outputId": "1f20e0a7-c368-4592-915c-16b780623adf"
      },
      "source": [
        "df.describe(include=['O'])"
      ],
      "execution_count": null,
      "outputs": [
        {
          "output_type": "execute_result",
          "data": {
            "text/html": [
              "<div>\n",
              "<style scoped>\n",
              "    .dataframe tbody tr th:only-of-type {\n",
              "        vertical-align: middle;\n",
              "    }\n",
              "\n",
              "    .dataframe tbody tr th {\n",
              "        vertical-align: top;\n",
              "    }\n",
              "\n",
              "    .dataframe thead th {\n",
              "        text-align: right;\n",
              "    }\n",
              "</style>\n",
              "<table border=\"1\" class=\"dataframe\">\n",
              "  <thead>\n",
              "    <tr style=\"text-align: right;\">\n",
              "      <th></th>\n",
              "      <th>Gender</th>\n",
              "    </tr>\n",
              "  </thead>\n",
              "  <tbody>\n",
              "    <tr>\n",
              "      <th>count</th>\n",
              "      <td>38</td>\n",
              "    </tr>\n",
              "    <tr>\n",
              "      <th>unique</th>\n",
              "      <td>2</td>\n",
              "    </tr>\n",
              "    <tr>\n",
              "      <th>top</th>\n",
              "      <td>Female</td>\n",
              "    </tr>\n",
              "    <tr>\n",
              "      <th>freq</th>\n",
              "      <td>20</td>\n",
              "    </tr>\n",
              "  </tbody>\n",
              "</table>\n",
              "</div>"
            ],
            "text/plain": [
              "        Gender\n",
              "count       38\n",
              "unique       2\n",
              "top     Female\n",
              "freq        20"
            ]
          },
          "metadata": {
            "tags": []
          },
          "execution_count": 33
        }
      ]
    },
    {
      "cell_type": "markdown",
      "metadata": {
        "id": "4GfUrILHjPj8"
      },
      "source": [
        "Xuất thông tin thống kê của cột Gender #0"
      ]
    },
    {
      "cell_type": "code",
      "metadata": {
        "colab": {
          "base_uri": "https://localhost:8080/",
          "height": 173
        },
        "id": "gbcJhjLfhldM",
        "outputId": "9879daf4-905a-4e17-ac13-86a3b68c9229"
      },
      "source": [
        "df['GenderCat'] = df['Gender'].astype('category')\r\n",
        "df.describe(include=['category'])"
      ],
      "execution_count": null,
      "outputs": [
        {
          "output_type": "execute_result",
          "data": {
            "text/html": [
              "<div>\n",
              "<style scoped>\n",
              "    .dataframe tbody tr th:only-of-type {\n",
              "        vertical-align: middle;\n",
              "    }\n",
              "\n",
              "    .dataframe tbody tr th {\n",
              "        vertical-align: top;\n",
              "    }\n",
              "\n",
              "    .dataframe thead th {\n",
              "        text-align: right;\n",
              "    }\n",
              "</style>\n",
              "<table border=\"1\" class=\"dataframe\">\n",
              "  <thead>\n",
              "    <tr style=\"text-align: right;\">\n",
              "      <th></th>\n",
              "      <th>GenderCat</th>\n",
              "    </tr>\n",
              "  </thead>\n",
              "  <tbody>\n",
              "    <tr>\n",
              "      <th>count</th>\n",
              "      <td>38</td>\n",
              "    </tr>\n",
              "    <tr>\n",
              "      <th>unique</th>\n",
              "      <td>2</td>\n",
              "    </tr>\n",
              "    <tr>\n",
              "      <th>top</th>\n",
              "      <td>Female</td>\n",
              "    </tr>\n",
              "    <tr>\n",
              "      <th>freq</th>\n",
              "      <td>20</td>\n",
              "    </tr>\n",
              "  </tbody>\n",
              "</table>\n",
              "</div>"
            ],
            "text/plain": [
              "       GenderCat\n",
              "count         38\n",
              "unique         2\n",
              "top       Female\n",
              "freq          20"
            ]
          },
          "metadata": {
            "tags": []
          },
          "execution_count": 48
        }
      ]
    },
    {
      "cell_type": "markdown",
      "metadata": {
        "id": "xbM6KqIxkkiU"
      },
      "source": [
        "Chuyển kiểu dữ liệu của cột Gender thành dạng phân nhóm và xuất thông tin"
      ]
    },
    {
      "cell_type": "code",
      "metadata": {
        "colab": {
          "base_uri": "https://localhost:8080/"
        },
        "id": "-1US47XXhmks",
        "outputId": "153a0182-c2e6-4bef-c4be-6cc572338752"
      },
      "source": [
        "df.columns"
      ],
      "execution_count": null,
      "outputs": [
        {
          "output_type": "execute_result",
          "data": {
            "text/plain": [
              "Index(['Gender', 'FSIQ', 'VIQ', 'PIQ', 'Weight', 'Height', 'MRI_Count',\n",
              "       'GenderCat'],\n",
              "      dtype='object')"
            ]
          },
          "metadata": {
            "tags": []
          },
          "execution_count": 35
        }
      ]
    },
    {
      "cell_type": "markdown",
      "metadata": {
        "id": "Jz4-FCuaksbj"
      },
      "source": [
        "Các cột của dataset"
      ]
    },
    {
      "cell_type": "code",
      "metadata": {
        "colab": {
          "base_uri": "https://localhost:8080/",
          "height": 204
        },
        "id": "WgoB45Yahnjc",
        "outputId": "7e8ff6e8-e4b2-4c0e-ef3f-1b683cabcbb5"
      },
      "source": [
        "df.head()"
      ],
      "execution_count": null,
      "outputs": [
        {
          "output_type": "execute_result",
          "data": {
            "text/html": [
              "<div>\n",
              "<style scoped>\n",
              "    .dataframe tbody tr th:only-of-type {\n",
              "        vertical-align: middle;\n",
              "    }\n",
              "\n",
              "    .dataframe tbody tr th {\n",
              "        vertical-align: top;\n",
              "    }\n",
              "\n",
              "    .dataframe thead th {\n",
              "        text-align: right;\n",
              "    }\n",
              "</style>\n",
              "<table border=\"1\" class=\"dataframe\">\n",
              "  <thead>\n",
              "    <tr style=\"text-align: right;\">\n",
              "      <th></th>\n",
              "      <th>Gender</th>\n",
              "      <th>FSIQ</th>\n",
              "      <th>VIQ</th>\n",
              "      <th>PIQ</th>\n",
              "      <th>Weight</th>\n",
              "      <th>Height</th>\n",
              "      <th>MRI_Count</th>\n",
              "      <th>GenderCat</th>\n",
              "    </tr>\n",
              "  </thead>\n",
              "  <tbody>\n",
              "    <tr>\n",
              "      <th>0</th>\n",
              "      <td>Female</td>\n",
              "      <td>133</td>\n",
              "      <td>132</td>\n",
              "      <td>124</td>\n",
              "      <td>118</td>\n",
              "      <td>64.5</td>\n",
              "      <td>816932</td>\n",
              "      <td>Female</td>\n",
              "    </tr>\n",
              "    <tr>\n",
              "      <th>1</th>\n",
              "      <td>Male</td>\n",
              "      <td>139</td>\n",
              "      <td>123</td>\n",
              "      <td>150</td>\n",
              "      <td>143</td>\n",
              "      <td>73.3</td>\n",
              "      <td>1038437</td>\n",
              "      <td>Male</td>\n",
              "    </tr>\n",
              "    <tr>\n",
              "      <th>2</th>\n",
              "      <td>Male</td>\n",
              "      <td>133</td>\n",
              "      <td>129</td>\n",
              "      <td>128</td>\n",
              "      <td>172</td>\n",
              "      <td>68.8</td>\n",
              "      <td>965353</td>\n",
              "      <td>Male</td>\n",
              "    </tr>\n",
              "    <tr>\n",
              "      <th>3</th>\n",
              "      <td>Female</td>\n",
              "      <td>137</td>\n",
              "      <td>132</td>\n",
              "      <td>134</td>\n",
              "      <td>147</td>\n",
              "      <td>65.0</td>\n",
              "      <td>951545</td>\n",
              "      <td>Female</td>\n",
              "    </tr>\n",
              "    <tr>\n",
              "      <th>4</th>\n",
              "      <td>Female</td>\n",
              "      <td>99</td>\n",
              "      <td>90</td>\n",
              "      <td>110</td>\n",
              "      <td>146</td>\n",
              "      <td>69.0</td>\n",
              "      <td>928799</td>\n",
              "      <td>Female</td>\n",
              "    </tr>\n",
              "  </tbody>\n",
              "</table>\n",
              "</div>"
            ],
            "text/plain": [
              "   Gender  FSIQ  VIQ  PIQ  Weight  Height  MRI_Count GenderCat\n",
              "0  Female   133  132  124     118    64.5     816932    Female\n",
              "1    Male   139  123  150     143    73.3    1038437      Male\n",
              "2    Male   133  129  128     172    68.8     965353      Male\n",
              "3  Female   137  132  134     147    65.0     951545    Female\n",
              "4  Female    99   90  110     146    69.0     928799    Female"
            ]
          },
          "metadata": {
            "tags": []
          },
          "execution_count": 36
        }
      ]
    },
    {
      "cell_type": "markdown",
      "metadata": {
        "id": "ETt_iu6_kvsj"
      },
      "source": [
        "Xuất các dòng đầu tiên"
      ]
    },
    {
      "cell_type": "code",
      "metadata": {
        "colab": {
          "base_uri": "https://localhost:8080/",
          "height": 204
        },
        "id": "-6h8PBb3hort",
        "outputId": "abf474d0-0e88-49bd-9913-58a4fd3e541a"
      },
      "source": [
        "df.tail()"
      ],
      "execution_count": null,
      "outputs": [
        {
          "output_type": "execute_result",
          "data": {
            "text/html": [
              "<div>\n",
              "<style scoped>\n",
              "    .dataframe tbody tr th:only-of-type {\n",
              "        vertical-align: middle;\n",
              "    }\n",
              "\n",
              "    .dataframe tbody tr th {\n",
              "        vertical-align: top;\n",
              "    }\n",
              "\n",
              "    .dataframe thead th {\n",
              "        text-align: right;\n",
              "    }\n",
              "</style>\n",
              "<table border=\"1\" class=\"dataframe\">\n",
              "  <thead>\n",
              "    <tr style=\"text-align: right;\">\n",
              "      <th></th>\n",
              "      <th>Gender</th>\n",
              "      <th>FSIQ</th>\n",
              "      <th>VIQ</th>\n",
              "      <th>PIQ</th>\n",
              "      <th>Weight</th>\n",
              "      <th>Height</th>\n",
              "      <th>MRI_Count</th>\n",
              "      <th>GenderCat</th>\n",
              "    </tr>\n",
              "  </thead>\n",
              "  <tbody>\n",
              "    <tr>\n",
              "      <th>33</th>\n",
              "      <td>Female</td>\n",
              "      <td>133</td>\n",
              "      <td>129</td>\n",
              "      <td>128</td>\n",
              "      <td>153</td>\n",
              "      <td>66.5</td>\n",
              "      <td>948066</td>\n",
              "      <td>Female</td>\n",
              "    </tr>\n",
              "    <tr>\n",
              "      <th>34</th>\n",
              "      <td>Male</td>\n",
              "      <td>140</td>\n",
              "      <td>150</td>\n",
              "      <td>124</td>\n",
              "      <td>144</td>\n",
              "      <td>70.5</td>\n",
              "      <td>949395</td>\n",
              "      <td>Male</td>\n",
              "    </tr>\n",
              "    <tr>\n",
              "      <th>35</th>\n",
              "      <td>Female</td>\n",
              "      <td>88</td>\n",
              "      <td>86</td>\n",
              "      <td>94</td>\n",
              "      <td>139</td>\n",
              "      <td>64.5</td>\n",
              "      <td>893983</td>\n",
              "      <td>Female</td>\n",
              "    </tr>\n",
              "    <tr>\n",
              "      <th>36</th>\n",
              "      <td>Male</td>\n",
              "      <td>81</td>\n",
              "      <td>90</td>\n",
              "      <td>74</td>\n",
              "      <td>148</td>\n",
              "      <td>74.0</td>\n",
              "      <td>930016</td>\n",
              "      <td>Male</td>\n",
              "    </tr>\n",
              "    <tr>\n",
              "      <th>37</th>\n",
              "      <td>Male</td>\n",
              "      <td>89</td>\n",
              "      <td>91</td>\n",
              "      <td>89</td>\n",
              "      <td>179</td>\n",
              "      <td>75.5</td>\n",
              "      <td>935863</td>\n",
              "      <td>Male</td>\n",
              "    </tr>\n",
              "  </tbody>\n",
              "</table>\n",
              "</div>"
            ],
            "text/plain": [
              "    Gender  FSIQ  VIQ  PIQ  Weight  Height  MRI_Count GenderCat\n",
              "33  Female   133  129  128     153    66.5     948066    Female\n",
              "34    Male   140  150  124     144    70.5     949395      Male\n",
              "35  Female    88   86   94     139    64.5     893983    Female\n",
              "36    Male    81   90   74     148    74.0     930016      Male\n",
              "37    Male    89   91   89     179    75.5     935863      Male"
            ]
          },
          "metadata": {
            "tags": []
          },
          "execution_count": 37
        }
      ]
    },
    {
      "cell_type": "markdown",
      "metadata": {
        "id": "ufxbCX_2kxE7"
      },
      "source": [
        "Xuất các dòng cuối cùng"
      ]
    },
    {
      "cell_type": "code",
      "metadata": {
        "colab": {
          "base_uri": "https://localhost:8080/",
          "height": 297
        },
        "id": "K_PApmjChpq8",
        "outputId": "ebff3b1f-5cc4-49b3-b4bf-3078b7bcd2f8"
      },
      "source": [
        "df[['FSIQ']].describe()"
      ],
      "execution_count": null,
      "outputs": [
        {
          "output_type": "execute_result",
          "data": {
            "text/html": [
              "<div>\n",
              "<style scoped>\n",
              "    .dataframe tbody tr th:only-of-type {\n",
              "        vertical-align: middle;\n",
              "    }\n",
              "\n",
              "    .dataframe tbody tr th {\n",
              "        vertical-align: top;\n",
              "    }\n",
              "\n",
              "    .dataframe thead th {\n",
              "        text-align: right;\n",
              "    }\n",
              "</style>\n",
              "<table border=\"1\" class=\"dataframe\">\n",
              "  <thead>\n",
              "    <tr style=\"text-align: right;\">\n",
              "      <th></th>\n",
              "      <th>FSIQ</th>\n",
              "    </tr>\n",
              "  </thead>\n",
              "  <tbody>\n",
              "    <tr>\n",
              "      <th>count</th>\n",
              "      <td>38.000000</td>\n",
              "    </tr>\n",
              "    <tr>\n",
              "      <th>mean</th>\n",
              "      <td>113.552632</td>\n",
              "    </tr>\n",
              "    <tr>\n",
              "      <th>std</th>\n",
              "      <td>23.815391</td>\n",
              "    </tr>\n",
              "    <tr>\n",
              "      <th>min</th>\n",
              "      <td>77.000000</td>\n",
              "    </tr>\n",
              "    <tr>\n",
              "      <th>25%</th>\n",
              "      <td>90.250000</td>\n",
              "    </tr>\n",
              "    <tr>\n",
              "      <th>50%</th>\n",
              "      <td>116.500000</td>\n",
              "    </tr>\n",
              "    <tr>\n",
              "      <th>75%</th>\n",
              "      <td>135.000000</td>\n",
              "    </tr>\n",
              "    <tr>\n",
              "      <th>max</th>\n",
              "      <td>144.000000</td>\n",
              "    </tr>\n",
              "  </tbody>\n",
              "</table>\n",
              "</div>"
            ],
            "text/plain": [
              "             FSIQ\n",
              "count   38.000000\n",
              "mean   113.552632\n",
              "std     23.815391\n",
              "min     77.000000\n",
              "25%     90.250000\n",
              "50%    116.500000\n",
              "75%    135.000000\n",
              "max    144.000000"
            ]
          },
          "metadata": {
            "tags": []
          },
          "execution_count": 38
        }
      ]
    },
    {
      "cell_type": "markdown",
      "metadata": {
        "id": "cuONfaFUkzjc"
      },
      "source": [
        "Xuất thông tin thống kê của cột FSIQ"
      ]
    },
    {
      "cell_type": "code",
      "metadata": {
        "colab": {
          "base_uri": "https://localhost:8080/",
          "height": 235
        },
        "id": "pE8dKdl5hsXe",
        "outputId": "5be1ef85-d6b6-4ddd-e313-e15c73fe9832"
      },
      "source": [
        "df = pd.read_csv('http://www.statslab.cam.ac.uk/~rds37/teaching/statistical_modelling/BrainSize.csv')\r\n",
        "df.corr()"
      ],
      "execution_count": null,
      "outputs": [
        {
          "output_type": "execute_result",
          "data": {
            "text/html": [
              "<div>\n",
              "<style scoped>\n",
              "    .dataframe tbody tr th:only-of-type {\n",
              "        vertical-align: middle;\n",
              "    }\n",
              "\n",
              "    .dataframe tbody tr th {\n",
              "        vertical-align: top;\n",
              "    }\n",
              "\n",
              "    .dataframe thead th {\n",
              "        text-align: right;\n",
              "    }\n",
              "</style>\n",
              "<table border=\"1\" class=\"dataframe\">\n",
              "  <thead>\n",
              "    <tr style=\"text-align: right;\">\n",
              "      <th></th>\n",
              "      <th>FSIQ</th>\n",
              "      <th>VIQ</th>\n",
              "      <th>PIQ</th>\n",
              "      <th>Weight</th>\n",
              "      <th>Height</th>\n",
              "      <th>MRI_Count</th>\n",
              "    </tr>\n",
              "  </thead>\n",
              "  <tbody>\n",
              "    <tr>\n",
              "      <th>FSIQ</th>\n",
              "      <td>1.000000</td>\n",
              "      <td>0.945114</td>\n",
              "      <td>0.934427</td>\n",
              "      <td>-0.051483</td>\n",
              "      <td>-0.118448</td>\n",
              "      <td>0.333714</td>\n",
              "    </tr>\n",
              "    <tr>\n",
              "      <th>VIQ</th>\n",
              "      <td>0.945114</td>\n",
              "      <td>1.000000</td>\n",
              "      <td>0.776020</td>\n",
              "      <td>-0.076088</td>\n",
              "      <td>-0.118976</td>\n",
              "      <td>0.300279</td>\n",
              "    </tr>\n",
              "    <tr>\n",
              "      <th>PIQ</th>\n",
              "      <td>0.934427</td>\n",
              "      <td>0.776020</td>\n",
              "      <td>1.000000</td>\n",
              "      <td>0.002512</td>\n",
              "      <td>-0.093156</td>\n",
              "      <td>0.377782</td>\n",
              "    </tr>\n",
              "    <tr>\n",
              "      <th>Weight</th>\n",
              "      <td>-0.051483</td>\n",
              "      <td>-0.076088</td>\n",
              "      <td>0.002512</td>\n",
              "      <td>1.000000</td>\n",
              "      <td>0.699614</td>\n",
              "      <td>0.513378</td>\n",
              "    </tr>\n",
              "    <tr>\n",
              "      <th>Height</th>\n",
              "      <td>-0.118448</td>\n",
              "      <td>-0.118976</td>\n",
              "      <td>-0.093156</td>\n",
              "      <td>0.699614</td>\n",
              "      <td>1.000000</td>\n",
              "      <td>0.588377</td>\n",
              "    </tr>\n",
              "    <tr>\n",
              "      <th>MRI_Count</th>\n",
              "      <td>0.333714</td>\n",
              "      <td>0.300279</td>\n",
              "      <td>0.377782</td>\n",
              "      <td>0.513378</td>\n",
              "      <td>0.588377</td>\n",
              "      <td>1.000000</td>\n",
              "    </tr>\n",
              "  </tbody>\n",
              "</table>\n",
              "</div>"
            ],
            "text/plain": [
              "               FSIQ       VIQ       PIQ    Weight    Height  MRI_Count\n",
              "FSIQ       1.000000  0.945114  0.934427 -0.051483 -0.118448   0.333714\n",
              "VIQ        0.945114  1.000000  0.776020 -0.076088 -0.118976   0.300279\n",
              "PIQ        0.934427  0.776020  1.000000  0.002512 -0.093156   0.377782\n",
              "Weight    -0.051483 -0.076088  0.002512  1.000000  0.699614   0.513378\n",
              "Height    -0.118448 -0.118976 -0.093156  0.699614  1.000000   0.588377\n",
              "MRI_Count  0.333714  0.300279  0.377782  0.513378  0.588377   1.000000"
            ]
          },
          "metadata": {
            "tags": []
          },
          "execution_count": 39
        }
      ]
    },
    {
      "cell_type": "markdown",
      "metadata": {
        "id": "cAC8bHcBk4mW"
      },
      "source": [
        "Tạo ma trận so sánh chéo các cột"
      ]
    },
    {
      "cell_type": "code",
      "metadata": {
        "colab": {
          "base_uri": "https://localhost:8080/",
          "height": 315
        },
        "id": "SGbqGRdKhupc",
        "outputId": "2362990d-82c0-40c9-9a5b-dbe3bf013722"
      },
      "source": [
        "df = pd.read_csv('http://www.statslab.cam.ac.uk/~rds37/teaching/statistical_modelling/Cycling.csv')\r\n",
        "df.hist(column='passing.distance')"
      ],
      "execution_count": null,
      "outputs": [
        {
          "output_type": "execute_result",
          "data": {
            "text/plain": [
              "array([[<matplotlib.axes._subplots.AxesSubplot object at 0x7f0c91ec6a58>]],\n",
              "      dtype=object)"
            ]
          },
          "metadata": {
            "tags": []
          },
          "execution_count": 50
        },
        {
          "output_type": "display_data",
          "data": {
            "image/png": "[encoded data removed]",
            "text/plain": [
              "<Figure size 432x288 with 1 Axes>"
            ]
          },
          "metadata": {
            "tags": [],
            "needs_background": "light"
          }
        }
      ]
    },
    {
      "cell_type": "markdown",
      "metadata": {
        "id": "AIEDFcCllGys"
      },
      "source": [
        "Vẽ histogram"
      ]
    },
    {
      "cell_type": "code",
      "metadata": {
        "id": "3MWdCFdhh1p8"
      },
      "source": [
        ""
      ],
      "execution_count": null,
      "outputs": []
    }
  ]
}