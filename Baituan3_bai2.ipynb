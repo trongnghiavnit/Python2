{
  "nbformat": 4,
  "nbformat_minor": 0,
  "metadata": {
    "colab": {
      "name": "Baituan3_bai2.ipynb",
      "provenance": [],
      "collapsed_sections": []
    },
    "kernelspec": {
      "name": "python3",
      "display_name": "Python 3"
    }
  },
  "cells": [
    {
      "cell_type": "code",
      "metadata": {
        "id": "-oBaKjXfK-pG"
      },
      "source": [
        "import pandas as pd\n",
        "from numpy import random\n",
        "import matplotlib.pyplot as plt\n",
        "import sys #only needed to determine Python version number\n",
        "import matplotlib #only needed to determine Matplotlib version number\n",
        "\n",
        "# Enable inline plotting\n",
        "%matplotlib inline"
      ],
      "execution_count": 1,
      "outputs": []
    },
    {
      "cell_type": "code",
      "metadata": {
        "id": "tRjeoZ8lLIxx"
      },
      "source": [
        "print('Python version ' + sys.version)\n",
        "print('Pandas version ' + pd.__version__)\n",
        "print('Matplotlib version ' + matplotlib.__version__)"
      ],
      "execution_count": null,
      "outputs": []
    },
    {
      "cell_type": "code",
      "metadata": {
        "id": "Ejbcl2RLLLIE"
      },
      "source": [
        "names = ['Bob','Jessica','Mary','John','Mel']"
      ],
      "execution_count": 3,
      "outputs": []
    },
    {
      "cell_type": "code",
      "metadata": {
        "id": "RH4zOdhnLPBK"
      },
      "source": [
        "random.seed(500)\n",
        "random_names = [names[random.randint(low=0,high=len(names))] for i in range(1000)]\n",
        "\n",
        "# Print first 10 records\n",
        "random_names[:10]"
      ],
      "execution_count": null,
      "outputs": []
    },
    {
      "cell_type": "code",
      "metadata": {
        "id": "h_7Ud1ZLLRO8"
      },
      "source": [
        "births = [random.randint(low=0,high=1000) for i in range(1000)]\n",
        "births[:10]"
      ],
      "execution_count": null,
      "outputs": []
    },
    {
      "cell_type": "code",
      "metadata": {
        "id": "rC012KoDLTpH"
      },
      "source": [
        "BabyDataSet = list(zip(random_names,births))\n",
        "BabyDataSet[:10]"
      ],
      "execution_count": null,
      "outputs": []
    },
    {
      "cell_type": "code",
      "metadata": {
        "id": "ngXHs7NALV3F"
      },
      "source": [
        "df = pd.DataFrame(data = BabyDataSet, columns=['Names', 'Births'])\n",
        "df[:10]"
      ],
      "execution_count": null,
      "outputs": []
    },
    {
      "cell_type": "code",
      "metadata": {
        "id": "oX4uteHeLsf6"
      },
      "source": [
        "df.to_csv('Modules_Pandas_births1880.txt',index=False,header=False)"
      ],
      "execution_count": 8,
      "outputs": []
    },
    {
      "cell_type": "code",
      "metadata": {
        "id": "rhGvI3elL0w-"
      },
      "source": [
        "Location = r'Modules_Pandas_births1880.txt'\n",
        "df = pd.read_csv(Location)"
      ],
      "execution_count": 9,
      "outputs": []
    },
    {
      "cell_type": "code",
      "metadata": {
        "id": "syZvlfIhNw3c"
      },
      "source": [
        "df.info()"
      ],
      "execution_count": null,
      "outputs": []
    },
    {
      "cell_type": "code",
      "metadata": {
        "id": "3mfQwxs6NzsF"
      },
      "source": [
        "df.head()"
      ],
      "execution_count": null,
      "outputs": []
    },
    {
      "cell_type": "code",
      "metadata": {
        "id": "UYrc-P9EN2Fm"
      },
      "source": [
        "df = pd.read_csv(Location, header=None)\n",
        "df.info()"
      ],
      "execution_count": null,
      "outputs": []
    },
    {
      "cell_type": "code",
      "metadata": {
        "id": "XNs960j8N7aB"
      },
      "source": [
        "df.tail()"
      ],
      "execution_count": null,
      "outputs": []
    },
    {
      "cell_type": "code",
      "metadata": {
        "id": "WCEWKntCN92V"
      },
      "source": [
        "df = pd.read_csv(Location, names=['Names','Births'])\n",
        "df.head(5)"
      ],
      "execution_count": null,
      "outputs": []
    },
    {
      "cell_type": "code",
      "metadata": {
        "id": "x-fZgKAmN-g7"
      },
      "source": [
        "import os\n",
        "os.remove(Location)"
      ],
      "execution_count": 15,
      "outputs": []
    },
    {
      "cell_type": "code",
      "metadata": {
        "id": "NaIOoHdcOC9U"
      },
      "source": [
        "df['Names'].unique()"
      ],
      "execution_count": null,
      "outputs": []
    },
    {
      "cell_type": "code",
      "metadata": {
        "id": "kxFeycapOFH4"
      },
      "source": [
        "for x in df['Names'].unique():\n",
        "    print(x)"
      ],
      "execution_count": null,
      "outputs": []
    },
    {
      "cell_type": "code",
      "metadata": {
        "id": "V4NPpLJNOILF"
      },
      "source": [
        "print(df['Names'].describe())"
      ],
      "execution_count": null,
      "outputs": []
    },
    {
      "cell_type": "code",
      "metadata": {
        "id": "4E7obB4nOL0Q"
      },
      "source": [
        "# Create a groupby object\n",
        "name = df.groupby('Names')\n",
        "\n",
        "# Apply the sum function to the groupby object\n",
        "df = name.sum()\n",
        "df"
      ],
      "execution_count": null,
      "outputs": []
    },
    {
      "cell_type": "code",
      "metadata": {
        "id": "kESYKbaZOOU2"
      },
      "source": [
        "Sorted = df.sort_values(['Births'], ascending=False)\n",
        "Sorted.head(1)"
      ],
      "execution_count": null,
      "outputs": []
    },
    {
      "cell_type": "code",
      "metadata": {
        "id": "TN6dZu9dORRD"
      },
      "source": [
        "df['Births'].max()"
      ],
      "execution_count": null,
      "outputs": []
    },
    {
      "cell_type": "code",
      "metadata": {
        "id": "okqsrCUiOT_i"
      },
      "source": [
        "df['Births'].plot.bar()\n",
        "\n",
        "print(\"The most popular name\")\n",
        "df.sort_values(by='Births', ascending=False)"
      ],
      "execution_count": null,
      "outputs": []
    }
  ]
}