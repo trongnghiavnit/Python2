{
  "nbformat": 4,
  "nbformat_minor": 0,
  "metadata": {
    "colab": {
      "name": "births1880list.ipynb",
      "provenance": [],
      "collapsed_sections": []
    },
    "kernelspec": {
      "name": "python3",
      "display_name": "Python 3"
    }
  },
  "cells": [
    {
      "cell_type": "code",
      "metadata": {
        "id": "bv3r9wo9BuUh"
      },
      "source": [
        "# Nhập các thư viện cần thiết\n",
        "\n",
        "# Cú pháp chung để nhập các hàm cụ thể trong thư viện:\n",
        "##from (library) import (specific library function)\n",
        "from pandas import DataFrame, read_csv\n",
        "\n",
        "# Cú pháp chung để nhập thư viện nhưng không có chức năng:\n",
        "##import (library) as (give the library a nickname/alias)\n",
        "import matplotlib.pyplot as plt\n",
        "import pandas as pd #this is how I usually import pandas\n",
        "import sys #only needed to determine Python version number\n",
        "import matplotlib #only needed to determine Matplotlib version number\n",
        "\n",
        "# Bật tính năng vẽ nội tuyến\n",
        "%matplotlib inline"
      ],
      "execution_count": null,
      "outputs": []
    },
    {
      "cell_type": "code",
      "metadata": {
        "id": "Vdd_gXt1C_3H",
        "colab": {
          "base_uri": "https://localhost:8080/"
        },
        "outputId": "3d4ca556-f8e5-4c6a-807a-d8027f252636"
      },
      "source": [
        "print('Python version ' + sys.version)\n",
        "print('Pandas version ' + pd.__version__)\n",
        "print('Matplotlib version ' + matplotlib.__version__)"
      ],
      "execution_count": null,
      "outputs": [
        {
          "output_type": "stream",
          "text": [
            "Python version 3.6.9 (default, Oct  8 2020, 12:12:24) \n",
            "[GCC 8.4.0]\n",
            "Pandas version 1.1.4\n",
            "Matplotlib version 3.2.2\n"
          ],
          "name": "stdout"
        }
      ]
    },
    {
      "cell_type": "markdown",
      "metadata": {
        "id": "C1Rd_lVQIW6O"
      },
      "source": [
        "Dữ liệu sẽ bao gồm 5 tên em bé và số lần sinh được ghi lại trong năm 1880"
      ]
    },
    {
      "cell_type": "code",
      "metadata": {
        "id": "cLMC8bDODSTe"
      },
      "source": [
        "# Tập hợp ban đầu từ em bé và tỉ lệ sinh\n",
        "names = ['Bob','Jessica','Mary','John','Mel']\n",
        "births = [968, 155, 77, 578, 973]"
      ],
      "execution_count": null,
      "outputs": []
    },
    {
      "cell_type": "markdown",
      "metadata": {
        "id": "_jv8nBZgIwBs"
      },
      "source": [
        "Sử dụng  hàm zip để hợp 2 danh sách với nhau"
      ]
    },
    {
      "cell_type": "code",
      "metadata": {
        "id": "-hVl935yDY09"
      },
      "source": [
        "zip?"
      ],
      "execution_count": null,
      "outputs": []
    },
    {
      "cell_type": "code",
      "metadata": {
        "id": "AAD0gWmqDdxe",
        "colab": {
          "base_uri": "https://localhost:8080/"
        },
        "outputId": "38d051cc-08aa-4324-c5b9-60fb804aabc4"
      },
      "source": [
        "BabyDataSet = list(zip(names,births))\n",
        "BabyDataSet"
      ],
      "execution_count": null,
      "outputs": [
        {
          "output_type": "execute_result",
          "data": {
            "text/plain": [
              "[('Bob', 968), ('Jessica', 155), ('Mary', 77), ('John', 578), ('Mel', 973)]"
            ]
          },
          "metadata": {
            "tags": []
          },
          "execution_count": 8
        }
      ]
    },
    {
      "cell_type": "markdown",
      "metadata": {
        "id": "X8h9FFJOJdC8"
      },
      "source": [
        "Sử dụng thư viện pandas để xuất từ dữ liệu này thành tệp .csv"
      ]
    },
    {
      "cell_type": "markdown",
      "metadata": {
        "id": "9CmwhM02J1DL"
      },
      "source": [
        "df sẽ là 1 đối tượng DataFram .\n",
        "Xem nội dung bên trong df bên dưới."
      ]
    },
    {
      "cell_type": "code",
      "metadata": {
        "id": "kKb-r76bDful",
        "colab": {
          "base_uri": "https://localhost:8080/",
          "height": 204
        },
        "outputId": "9f573dc9-d46f-4c1c-8a37-594c41419141"
      },
      "source": [
        "df = pd.DataFrame(data = BabyDataSet, columns=['Names', 'Births'])\n",
        "df"
      ],
      "execution_count": null,
      "outputs": [
        {
          "output_type": "execute_result",
          "data": {
            "text/html": [
              "<div>\n",
              "<style scoped>\n",
              "    .dataframe tbody tr th:only-of-type {\n",
              "        vertical-align: middle;\n",
              "    }\n",
              "\n",
              "    .dataframe tbody tr th {\n",
              "        vertical-align: top;\n",
              "    }\n",
              "\n",
              "    .dataframe thead th {\n",
              "        text-align: right;\n",
              "    }\n",
              "</style>\n",
              "<table border=\"1\" class=\"dataframe\">\n",
              "  <thead>\n",
              "    <tr style=\"text-align: right;\">\n",
              "      <th></th>\n",
              "      <th>Names</th>\n",
              "      <th>Births</th>\n",
              "    </tr>\n",
              "  </thead>\n",
              "  <tbody>\n",
              "    <tr>\n",
              "      <th>0</th>\n",
              "      <td>Bob</td>\n",
              "      <td>968</td>\n",
              "    </tr>\n",
              "    <tr>\n",
              "      <th>1</th>\n",
              "      <td>Jessica</td>\n",
              "      <td>155</td>\n",
              "    </tr>\n",
              "    <tr>\n",
              "      <th>2</th>\n",
              "      <td>Mary</td>\n",
              "      <td>77</td>\n",
              "    </tr>\n",
              "    <tr>\n",
              "      <th>3</th>\n",
              "      <td>John</td>\n",
              "      <td>578</td>\n",
              "    </tr>\n",
              "    <tr>\n",
              "      <th>4</th>\n",
              "      <td>Mel</td>\n",
              "      <td>973</td>\n",
              "    </tr>\n",
              "  </tbody>\n",
              "</table>\n",
              "</div>"
            ],
            "text/plain": [
              "     Names  Births\n",
              "0      Bob     968\n",
              "1  Jessica     155\n",
              "2     Mary      77\n",
              "3     John     578\n",
              "4      Mel     973"
            ]
          },
          "metadata": {
            "tags": []
          },
          "execution_count": 9
        }
      ]
    },
    {
      "cell_type": "markdown",
      "metadata": {
        "id": "_WGRg-e6KcT-"
      },
      "source": [
        "Xuất khung dữ liệu sang tệp csv. Có thể đặt tên là sinh1880.csv"
      ]
    },
    {
      "cell_type": "markdown",
      "metadata": {
        "id": "ButHdsnvKovS"
      },
      "source": [
        "Hàm to_csv sẽ được sử dụng để xuất tệp."
      ]
    },
    {
      "cell_type": "markdown",
      "metadata": {
        "id": "VRvg5naDKzH0"
      },
      "source": [
        "Tệp sẽ được lưu ở cùng 1 vị trí của cửa sổ ghi chép trừ khi có chỉ định khác."
      ]
    },
    {
      "cell_type": "code",
      "metadata": {
        "id": "dyGVSulHDlO2"
      },
      "source": [
        "df.to_csv?"
      ],
      "execution_count": null,
      "outputs": []
    },
    {
      "cell_type": "markdown",
      "metadata": {
        "id": "tE3ynoWULH_r"
      },
      "source": [
        "Các tham số duy nhất có thể sử dụng là index và header.\n",
        "Đặt các tham số này thành False sẽ ngăn không cho xuất tên index và header. Thay đổi giá trị của các tham số này để hiểu rõ hơn về việc sử dụng chúng."
      ]
    },
    {
      "cell_type": "markdown",
      "metadata": {
        "id": "5tMDwDRWLvWb"
      },
      "source": [
        "Để kéo tệp csv vào, ta sử dụng hàm pandas read_csv.\n",
        "Xem xét chức năng này và những gì đầu vào của nó có."
      ]
    },
    {
      "cell_type": "code",
      "metadata": {
        "id": "eflktqiEDpE2"
      },
      "source": [
        "df.to_csv('births1880.csv',index=False,header=False)"
      ],
      "execution_count": null,
      "outputs": []
    },
    {
      "cell_type": "code",
      "metadata": {
        "id": "Gj39OLVPDq-G"
      },
      "source": [
        "read_csv?"
      ],
      "execution_count": null,
      "outputs": []
    },
    {
      "cell_type": "markdown",
      "metadata": {
        "id": "ehrldzzUMe3S"
      },
      "source": [
        "Mặc dù các hàm này có nhiều tham số, ta chỉ đơn giản là chuyển nó vào vị trí của tệp văn bản."
      ]
    },
    {
      "cell_type": "markdown",
      "metadata": {
        "id": "XpgPSKTHMzCj"
      },
      "source": [
        "Location=/content/births1880.csv"
      ]
    },
    {
      "cell_type": "code",
      "metadata": {
        "id": "7qGPLgKhDunl"
      },
      "source": [
        "Location = r'/content/births1880.csv'\n",
        "df = pd.read_csv(Location)"
      ],
      "execution_count": null,
      "outputs": []
    },
    {
      "cell_type": "markdown",
      "metadata": {
        "id": "vcV96hGZNJHH"
      },
      "source": [
        "Chú ý lí tự \"r\" trước chuỗi. Khi các dấu gạch chéo là các lý tự đặc biệt, tiền tố của chuỗi bằng một r sẽ thoát khỏi toàn bộ chuỗi."
      ]
    },
    {
      "cell_type": "code",
      "metadata": {
        "id": "7hyLU0mRGjfm",
        "colab": {
          "base_uri": "https://localhost:8080/",
          "height": 173
        },
        "outputId": "55d50d07-75bd-44c4-b33f-e3ae1441bcf4"
      },
      "source": [
        "df"
      ],
      "execution_count": null,
      "outputs": [
        {
          "output_type": "execute_result",
          "data": {
            "text/html": [
              "<div>\n",
              "<style scoped>\n",
              "    .dataframe tbody tr th:only-of-type {\n",
              "        vertical-align: middle;\n",
              "    }\n",
              "\n",
              "    .dataframe tbody tr th {\n",
              "        vertical-align: top;\n",
              "    }\n",
              "\n",
              "    .dataframe thead th {\n",
              "        text-align: right;\n",
              "    }\n",
              "</style>\n",
              "<table border=\"1\" class=\"dataframe\">\n",
              "  <thead>\n",
              "    <tr style=\"text-align: right;\">\n",
              "      <th></th>\n",
              "      <th>Bob</th>\n",
              "      <th>968</th>\n",
              "    </tr>\n",
              "  </thead>\n",
              "  <tbody>\n",
              "    <tr>\n",
              "      <th>0</th>\n",
              "      <td>Jessica</td>\n",
              "      <td>155</td>\n",
              "    </tr>\n",
              "    <tr>\n",
              "      <th>1</th>\n",
              "      <td>Mary</td>\n",
              "      <td>77</td>\n",
              "    </tr>\n",
              "    <tr>\n",
              "      <th>2</th>\n",
              "      <td>John</td>\n",
              "      <td>578</td>\n",
              "    </tr>\n",
              "    <tr>\n",
              "      <th>3</th>\n",
              "      <td>Mel</td>\n",
              "      <td>973</td>\n",
              "    </tr>\n",
              "  </tbody>\n",
              "</table>\n",
              "</div>"
            ],
            "text/plain": [
              "       Bob  968\n",
              "0  Jessica  155\n",
              "1     Mary   77\n",
              "2     John  578\n",
              "3      Mel  973"
            ]
          },
          "metadata": {
            "tags": []
          },
          "execution_count": 27
        }
      ]
    },
    {
      "cell_type": "code",
      "metadata": {
        "id": "qe8OK9I4GpPc",
        "colab": {
          "base_uri": "https://localhost:8080/",
          "height": 204
        },
        "outputId": "b1a0809f-7cf4-4a10-8662-1ccbe18739ed"
      },
      "source": [
        "df = pd.read_csv(Location, header=None)\n",
        "df"
      ],
      "execution_count": null,
      "outputs": [
        {
          "output_type": "execute_result",
          "data": {
            "text/html": [
              "<div>\n",
              "<style scoped>\n",
              "    .dataframe tbody tr th:only-of-type {\n",
              "        vertical-align: middle;\n",
              "    }\n",
              "\n",
              "    .dataframe tbody tr th {\n",
              "        vertical-align: top;\n",
              "    }\n",
              "\n",
              "    .dataframe thead th {\n",
              "        text-align: right;\n",
              "    }\n",
              "</style>\n",
              "<table border=\"1\" class=\"dataframe\">\n",
              "  <thead>\n",
              "    <tr style=\"text-align: right;\">\n",
              "      <th></th>\n",
              "      <th>0</th>\n",
              "      <th>1</th>\n",
              "    </tr>\n",
              "  </thead>\n",
              "  <tbody>\n",
              "    <tr>\n",
              "      <th>0</th>\n",
              "      <td>Bob</td>\n",
              "      <td>968</td>\n",
              "    </tr>\n",
              "    <tr>\n",
              "      <th>1</th>\n",
              "      <td>Jessica</td>\n",
              "      <td>155</td>\n",
              "    </tr>\n",
              "    <tr>\n",
              "      <th>2</th>\n",
              "      <td>Mary</td>\n",
              "      <td>77</td>\n",
              "    </tr>\n",
              "    <tr>\n",
              "      <th>3</th>\n",
              "      <td>John</td>\n",
              "      <td>578</td>\n",
              "    </tr>\n",
              "    <tr>\n",
              "      <th>4</th>\n",
              "      <td>Mel</td>\n",
              "      <td>973</td>\n",
              "    </tr>\n",
              "  </tbody>\n",
              "</table>\n",
              "</div>"
            ],
            "text/plain": [
              "         0    1\n",
              "0      Bob  968\n",
              "1  Jessica  155\n",
              "2     Mary   77\n",
              "3     John  578\n",
              "4      Mel  973"
            ]
          },
          "metadata": {
            "tags": []
          },
          "execution_count": 28
        }
      ]
    },
    {
      "cell_type": "code",
      "metadata": {
        "id": "zOlDrP4mGsYU",
        "colab": {
          "base_uri": "https://localhost:8080/",
          "height": 204
        },
        "outputId": "a5661e72-e199-4318-eb44-73d0dab7ae6e"
      },
      "source": [
        "df = pd.read_csv(Location, names=['Names','Births'])\n",
        "df"
      ],
      "execution_count": null,
      "outputs": [
        {
          "output_type": "execute_result",
          "data": {
            "text/html": [
              "<div>\n",
              "<style scoped>\n",
              "    .dataframe tbody tr th:only-of-type {\n",
              "        vertical-align: middle;\n",
              "    }\n",
              "\n",
              "    .dataframe tbody tr th {\n",
              "        vertical-align: top;\n",
              "    }\n",
              "\n",
              "    .dataframe thead th {\n",
              "        text-align: right;\n",
              "    }\n",
              "</style>\n",
              "<table border=\"1\" class=\"dataframe\">\n",
              "  <thead>\n",
              "    <tr style=\"text-align: right;\">\n",
              "      <th></th>\n",
              "      <th>Names</th>\n",
              "      <th>Births</th>\n",
              "    </tr>\n",
              "  </thead>\n",
              "  <tbody>\n",
              "    <tr>\n",
              "      <th>0</th>\n",
              "      <td>Bob</td>\n",
              "      <td>968</td>\n",
              "    </tr>\n",
              "    <tr>\n",
              "      <th>1</th>\n",
              "      <td>Jessica</td>\n",
              "      <td>155</td>\n",
              "    </tr>\n",
              "    <tr>\n",
              "      <th>2</th>\n",
              "      <td>Mary</td>\n",
              "      <td>77</td>\n",
              "    </tr>\n",
              "    <tr>\n",
              "      <th>3</th>\n",
              "      <td>John</td>\n",
              "      <td>578</td>\n",
              "    </tr>\n",
              "    <tr>\n",
              "      <th>4</th>\n",
              "      <td>Mel</td>\n",
              "      <td>973</td>\n",
              "    </tr>\n",
              "  </tbody>\n",
              "</table>\n",
              "</div>"
            ],
            "text/plain": [
              "     Names  Births\n",
              "0      Bob     968\n",
              "1  Jessica     155\n",
              "2     Mary      77\n",
              "3     John     578\n",
              "4      Mel     973"
            ]
          },
          "metadata": {
            "tags": []
          },
          "execution_count": 29
        }
      ]
    },
    {
      "cell_type": "markdown",
      "metadata": {
        "id": "lHvlv1URNqWT"
      },
      "source": [
        "\n",
        "Bạn có thể coi các số [0,1,2,3,4] là số hàng trong tệp Excel. Ở pandas, chúng là một phần của index của khung dữ liệu. Bạn có thể coi index là khóa chính của bảng sql với ngoại lệ là index được phép có các bản sao."
      ]
    },
    {
      "cell_type": "markdown",
      "metadata": {
        "id": "KbvGRV85N8ny"
      },
      "source": [
        "Dữ liệu chúng tôi có bao gồm tên em bé và số lần sinh vào năm 1880. Chúng tôi đã biết rằng chúng tôi có 5 bản ghi và không bản ghi nào bị thiếu (giá trị không rỗng)."
      ]
    },
    {
      "cell_type": "markdown",
      "metadata": {
        "id": "OA05GmVOOCsx"
      },
      "source": [
        "Cột Names tại thời điểm này không có gì đáng lo ngại vì rất có thể nó chỉ bao gồm các chuỗi số chữ cái (tên con). Có thể có dữ liệu xấu trong cột này nhưng chúng tôi sẽ không lo lắng về điều đó tại thời điểm phân tích này. Cột Births chỉ nên chứa các số nguyên đại diện cho số trẻ sinh ra trong một năm cụ thể với một tên cụ thể. Chúng ta có thể kiểm tra xem tất cả dữ liệu có thuộc kiểu dữ liệu số nguyên hay không. Sẽ không hợp lý nếu cột này có kiểu dữ liệu là float. Tôi sẽ không lo lắng về bất kỳ ngoại lệ nào có thể xảy ra vào thời điểm này của phân tích."
      ]
    },
    {
      "cell_type": "code",
      "metadata": {
        "id": "O7IaclHlGvQ1"
      },
      "source": [
        "import os\n",
        "os.remove(Location)"
      ],
      "execution_count": null,
      "outputs": []
    },
    {
      "cell_type": "code",
      "metadata": {
        "id": "LdrSBTeLGz3d",
        "colab": {
          "base_uri": "https://localhost:8080/"
        },
        "outputId": "edc189a1-e2d2-4a16-b7d3-c5e5ead9ad76"
      },
      "source": [
        "# Check data type of the columns\n",
        "df.dtypes"
      ],
      "execution_count": null,
      "outputs": [
        {
          "output_type": "execute_result",
          "data": {
            "text/plain": [
              "Names     object\n",
              "Births     int64\n",
              "dtype: object"
            ]
          },
          "metadata": {
            "tags": []
          },
          "execution_count": 31
        }
      ]
    },
    {
      "cell_type": "code",
      "metadata": {
        "id": "-XUQ1fOnG3AN",
        "colab": {
          "base_uri": "https://localhost:8080/"
        },
        "outputId": "905894ad-bdff-4671-da8c-9a8d9d2ad9e4"
      },
      "source": [
        "# Check data type of Births column\n",
        "df.Births.dtype"
      ],
      "execution_count": null,
      "outputs": [
        {
          "output_type": "execute_result",
          "data": {
            "text/plain": [
              "dtype('int64')"
            ]
          },
          "metadata": {
            "tags": []
          },
          "execution_count": 32
        }
      ]
    },
    {
      "cell_type": "markdown",
      "metadata": {
        "id": "erF8wzk4OSqa"
      },
      "source": [
        "Như bạn có thể thấy, cột Births là kiểu int64, do đó sẽ không có dấu nổi (số thập phân) hoặc ký tự số alpha nào trong cột này."
      ]
    },
    {
      "cell_type": "markdown",
      "metadata": {
        "id": "BByOX3idOdmh"
      },
      "source": [
        "Để tìm tên phổ biến nhất hoặc tên trẻ có tỷ lệ sinh cao nhất, chúng ta có thể thực hiện một trong các thao tác sau.\n",
        "\n",
        "\n",
        "> Sắp xếp khung dữ liệu và chọn hàng trên cùng\n",
        "\n",
        "\n",
        "> Sử dụng thuộc tính max () để tìm giá trị lớn nhất\n",
        "\n",
        "\n",
        "\n"
      ]
    },
    {
      "cell_type": "code",
      "metadata": {
        "id": "DMVRSFL9G9Xu",
        "colab": {
          "base_uri": "https://localhost:8080/",
          "height": 80
        },
        "outputId": "1afd7352-3369-4eea-a4b5-2a451005debc"
      },
      "source": [
        "# Method 1:\n",
        "Sorted = df.sort_values(['Births'], ascending=False)\n",
        "Sorted.head(1)"
      ],
      "execution_count": null,
      "outputs": [
        {
          "output_type": "execute_result",
          "data": {
            "text/html": [
              "<div>\n",
              "<style scoped>\n",
              "    .dataframe tbody tr th:only-of-type {\n",
              "        vertical-align: middle;\n",
              "    }\n",
              "\n",
              "    .dataframe tbody tr th {\n",
              "        vertical-align: top;\n",
              "    }\n",
              "\n",
              "    .dataframe thead th {\n",
              "        text-align: right;\n",
              "    }\n",
              "</style>\n",
              "<table border=\"1\" class=\"dataframe\">\n",
              "  <thead>\n",
              "    <tr style=\"text-align: right;\">\n",
              "      <th></th>\n",
              "      <th>Names</th>\n",
              "      <th>Births</th>\n",
              "    </tr>\n",
              "  </thead>\n",
              "  <tbody>\n",
              "    <tr>\n",
              "      <th>4</th>\n",
              "      <td>Mel</td>\n",
              "      <td>973</td>\n",
              "    </tr>\n",
              "  </tbody>\n",
              "</table>\n",
              "</div>"
            ],
            "text/plain": [
              "  Names  Births\n",
              "4   Mel     973"
            ]
          },
          "metadata": {
            "tags": []
          },
          "execution_count": 33
        }
      ]
    },
    {
      "cell_type": "code",
      "metadata": {
        "id": "InvByl9tHIek",
        "colab": {
          "base_uri": "https://localhost:8080/"
        },
        "outputId": "5298d00d-6745-4264-d432-75635e4f2058"
      },
      "source": [
        "# Method 2:\n",
        "df['Births'].max()"
      ],
      "execution_count": null,
      "outputs": [
        {
          "output_type": "execute_result",
          "data": {
            "text/plain": [
              "973"
            ]
          },
          "metadata": {
            "tags": []
          },
          "execution_count": 34
        }
      ]
    },
    {
      "cell_type": "markdown",
      "metadata": {
        "id": "fsIm4bbIOugi"
      },
      "source": [
        "Tại đây chúng ta có thể vẽ biểu đồ cột Births và gắn nhãn biểu đồ để hiển thị cho người dùng cuối điểm cao nhất trên biểu đồ. Kết hợp với bảng, người dùng cuối có một bức tranh rõ ràng rằng Mel là tên em bé phổ biến nhất trong tập dữ liệu."
      ]
    },
    {
      "cell_type": "markdown",
      "metadata": {
        "id": "pa6hsaPfPA3Z"
      },
      "source": [
        "**Giải thích các phần:**\n",
        "\n",
        "\n",
        "> df ['Names'] - Đây là toàn bộ danh sách tên con, toàn bộ cột Names\n",
        "\n",
        "> df ['Births'] - Đây là toàn bộ danh sách Sinh vào năm 1880, toàn bộ cột Births\n",
        "\n",
        "\n",
        "> df ['Births']. max () - Đây là giá trị lớn nhất được tìm thấy trong cột Births\n",
        "\n",
        "> [df ['Births'] == df ['Births']. max ()] CẦN CÓ [Tìm tất cả các bản ghi trong cột Births có giá trị bằng 973]\n",
        "df ['Names'] [df ['Births'] == df ['Births']. max ()] LÀ BẮT BUỘC Chọn tất cả các bản ghi trong cột Tên WHERE [Cột Sinh bằng 973]\n",
        "\n",
        "\n",
        "\n",
        "\n",
        "\n",
        "\n",
        "\n"
      ]
    },
    {
      "cell_type": "markdown",
      "metadata": {
        "id": "FgNmPioYPj-i"
      },
      "source": [
        "Một cách thay thế có thể là sử dụng khung dữ liệu Đã sắp xếp:\n",
        "Sorted['Names'].Head(1).value"
      ]
    },
    {
      "cell_type": "markdown",
      "metadata": {
        "id": "_yXr7NAPP1vJ"
      },
      "source": [
        "Hàm str() chỉ đơn giản là chuyển đổi một đối tượng thành một chuỗi."
      ]
    },
    {
      "cell_type": "code",
      "metadata": {
        "id": "rfcBaRUXHOAM",
        "colab": {
          "base_uri": "https://localhost:8080/",
          "height": 345
        },
        "outputId": "aaf207c5-ecae-47a3-bbeb-c8c30ba43804"
      },
      "source": [
        "# Create graph\n",
        "df['Births'].plot()\n",
        "\n",
        "# Maximum value in the data set\n",
        "MaxValue = df['Births'].max()\n",
        "\n",
        "# Name associated with the maximum value\n",
        "MaxName = df['Names'][df['Births'] == df['Births'].max()].values\n",
        "\n",
        "# Text to display on graph\n",
        "Text = str(MaxValue) + \" - \" + MaxName\n",
        "\n",
        "# Add text to graph\n",
        "plt.annotate(Text, xy=(1, MaxValue), \n",
        "                   xytext=(25, 0), \n",
        "                   xycoords=('axes fraction', 'data'), \n",
        "                   textcoords='offset points',\n",
        "                   arrowprops=dict(arrowstyle='-|>'))\n",
        "\n",
        "print(\"The most popular name\")\n",
        "df[df['Births'] == df['Births'].max()]\n",
        "#Sorted.head(1) can also be used"
      ],
      "execution_count": null,
      "outputs": [
        {
          "output_type": "stream",
          "text": [
            "The most popular name\n"
          ],
          "name": "stdout"
        },
        {
          "output_type": "execute_result",
          "data": {
            "text/html": [
              "<div>\n",
              "<style scoped>\n",
              "    .dataframe tbody tr th:only-of-type {\n",
              "        vertical-align: middle;\n",
              "    }\n",
              "\n",
              "    .dataframe tbody tr th {\n",
              "        vertical-align: top;\n",
              "    }\n",
              "\n",
              "    .dataframe thead th {\n",
              "        text-align: right;\n",
              "    }\n",
              "</style>\n",
              "<table border=\"1\" class=\"dataframe\">\n",
              "  <thead>\n",
              "    <tr style=\"text-align: right;\">\n",
              "      <th></th>\n",
              "      <th>Names</th>\n",
              "      <th>Births</th>\n",
              "    </tr>\n",
              "  </thead>\n",
              "  <tbody>\n",
              "    <tr>\n",
              "      <th>4</th>\n",
              "      <td>Mel</td>\n",
              "      <td>973</td>\n",
              "    </tr>\n",
              "  </tbody>\n",
              "</table>\n",
              "</div>"
            ],
            "text/plain": [
              "  Names  Births\n",
              "4   Mel     973"
            ]
          },
          "metadata": {
            "tags": []
          },
          "execution_count": 35
        },
        {
          "output_type": "display_data",
          "data": {
            "image/png": "[encoded data removed]",
            "text/plain": [
              "<Figure size 432x288 with 1 Axes>"
            ]
          },
          "metadata": {
            "tags": [],
            "needs_background": "light"
          }
        }
      ]
    }
  ]
}