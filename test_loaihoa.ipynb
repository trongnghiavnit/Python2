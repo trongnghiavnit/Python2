{
  "nbformat": 4,
  "nbformat_minor": 0,
  "metadata": {
    "colab": {
      "name": "test_loaihoa.ipynb",
      "provenance": []
    },
    "kernelspec": {
      "name": "python3",
      "display_name": "Python 3"
    }
  },
  "cells": [
    {
      "cell_type": "code",
      "metadata": {
        "colab": {
          "base_uri": "https://localhost:8080/"
        },
        "id": "jFdkf6Dw2TFd",
        "outputId": "02ae9dfd-258a-4ea6-fa0d-f0ae75e431cd"
      },
      "source": [
        "from sklearn.datasets import load_iris\r\n",
        "iris = load_iris()\r\n",
        "iris.data[0:5]"
      ],
      "execution_count": 1,
      "outputs": [
        {
          "output_type": "execute_result",
          "data": {
            "text/plain": [
              "array([[5.1, 3.5, 1.4, 0.2],\n",
              "       [4.9, 3. , 1.4, 0.2],\n",
              "       [4.7, 3.2, 1.3, 0.2],\n",
              "       [4.6, 3.1, 1.5, 0.2],\n",
              "       [5. , 3.6, 1.4, 0.2]])"
            ]
          },
          "metadata": {
            "tags": []
          },
          "execution_count": 1
        }
      ]
    },
    {
      "cell_type": "code",
      "metadata": {
        "colab": {
          "base_uri": "https://localhost:8080/"
        },
        "id": "iYuauS7J2n_i",
        "outputId": "309eb5c6-09f0-4887-f292-d712eceffea1"
      },
      "source": [
        "iris.target_names"
      ],
      "execution_count": 2,
      "outputs": [
        {
          "output_type": "execute_result",
          "data": {
            "text/plain": [
              "array(['setosa', 'versicolor', 'virginica'], dtype='<U10')"
            ]
          },
          "metadata": {
            "tags": []
          },
          "execution_count": 2
        }
      ]
    },
    {
      "cell_type": "code",
      "metadata": {
        "colab": {
          "base_uri": "https://localhost:8080/"
        },
        "id": "kqqjldol2rpA",
        "outputId": "e8cc0593-dc24-411f-bc62-049c796e6064"
      },
      "source": [
        "iris.target"
      ],
      "execution_count": 3,
      "outputs": [
        {
          "output_type": "execute_result",
          "data": {
            "text/plain": [
              "array([0, 0, 0, 0, 0, 0, 0, 0, 0, 0, 0, 0, 0, 0, 0, 0, 0, 0, 0, 0, 0, 0,\n",
              "       0, 0, 0, 0, 0, 0, 0, 0, 0, 0, 0, 0, 0, 0, 0, 0, 0, 0, 0, 0, 0, 0,\n",
              "       0, 0, 0, 0, 0, 0, 1, 1, 1, 1, 1, 1, 1, 1, 1, 1, 1, 1, 1, 1, 1, 1,\n",
              "       1, 1, 1, 1, 1, 1, 1, 1, 1, 1, 1, 1, 1, 1, 1, 1, 1, 1, 1, 1, 1, 1,\n",
              "       1, 1, 1, 1, 1, 1, 1, 1, 1, 1, 1, 1, 2, 2, 2, 2, 2, 2, 2, 2, 2, 2,\n",
              "       2, 2, 2, 2, 2, 2, 2, 2, 2, 2, 2, 2, 2, 2, 2, 2, 2, 2, 2, 2, 2, 2,\n",
              "       2, 2, 2, 2, 2, 2, 2, 2, 2, 2, 2, 2, 2, 2, 2, 2, 2, 2])"
            ]
          },
          "metadata": {
            "tags": []
          },
          "execution_count": 3
        }
      ]
    },
    {
      "cell_type": "code",
      "metadata": {
        "colab": {
          "base_uri": "https://localhost:8080/"
        },
        "id": "W2DqqsTx2vKA",
        "outputId": "097f4236-8cd6-495f-bfc0-b72082da6e48"
      },
      "source": [
        "n_samples, n_features = iris.data.shape\r\n",
        "n_samples, n_features\r\n"
      ],
      "execution_count": 4,
      "outputs": [
        {
          "output_type": "execute_result",
          "data": {
            "text/plain": [
              "(150, 4)"
            ]
          },
          "metadata": {
            "tags": []
          },
          "execution_count": 4
        }
      ]
    },
    {
      "cell_type": "code",
      "metadata": {
        "colab": {
          "base_uri": "https://localhost:8080/"
        },
        "id": "3anrrqk12wCf",
        "outputId": "b32b7682-57db-492a-d9f3-3fc3913b0a8c"
      },
      "source": [
        "iris.feature_names"
      ],
      "execution_count": 5,
      "outputs": [
        {
          "output_type": "execute_result",
          "data": {
            "text/plain": [
              "['sepal length (cm)',\n",
              " 'sepal width (cm)',\n",
              " 'petal length (cm)',\n",
              " 'petal width (cm)']"
            ]
          },
          "metadata": {
            "tags": []
          },
          "execution_count": 5
        }
      ]
    },
    {
      "cell_type": "code",
      "metadata": {
        "id": "pyCsewgj21cR"
      },
      "source": [
        "from matplotlib import pyplot as plt\r\n",
        "# The indices of the features that we are plotting\r\n",
        "x_index = 0\r\n",
        "y_index = 1"
      ],
      "execution_count": 6,
      "outputs": []
    },
    {
      "cell_type": "code",
      "metadata": {
        "id": "pOloAAn027l_"
      },
      "source": [
        "formatter = plt.FuncFormatter(lambda i, *args: iris.target_names[int(i)])\r\n"
      ],
      "execution_count": 7,
      "outputs": []
    },
    {
      "cell_type": "code",
      "metadata": {
        "colab": {
          "base_uri": "https://localhost:8080/",
          "height": 297
        },
        "id": "geIt4usG2_Bb",
        "outputId": "38fb0653-8fdb-4bcd-aac7-ae26e75ca14c"
      },
      "source": [
        "plt.figure(figsize=(5, 4))\r\n",
        "plt.scatter(iris.data[:, x_index], iris.data[:, y_index], c=iris.target)\r\n",
        "plt.colorbar(ticks=[0, 1, 2], format=formatter)\r\n",
        "plt.xlabel(iris.feature_names[x_index])\r\n",
        "plt.ylabel(iris.feature_names[y_index])\r\n",
        "\r\n",
        "plt.tight_layout()\r\n",
        "plt.show()"
      ],
      "execution_count": 8,
      "outputs": [
        {
          "output_type": "display_data",
          "data": {
            "image/png": "[encoded data removed]",
            "text/plain": [
              "<Figure size 360x288 with 2 Axes>"
            ]
          },
          "metadata": {
            "tags": [],
            "needs_background": "light"
          }
        }
      ]
    },
    {
      "cell_type": "code",
      "metadata": {
        "colab": {
          "base_uri": "https://localhost:8080/"
        },
        "id": "aPsQi8y_3HCi",
        "outputId": "75bebb46-8831-4119-a32c-1491081f2236"
      },
      "source": [
        "from sklearn import neighbors, datasets\r\n",
        "iris = datasets.load_iris()\r\n",
        "X, y = iris.data, iris.target\r\n",
        "knn = neighbors.KNeighborsClassifier(n_neighbors=1)\r\n",
        "knn.fit(X, y)\r\n",
        "# What kind of iris has 3cm x 5cm sepal and 4cm x 2cm petal?\r\n",
        "print(iris.target_names[knn.predict([[5, 5, 6, 4]])])"
      ],
      "execution_count": 9,
      "outputs": [
        {
          "output_type": "stream",
          "text": [
            "['virginica']\n"
          ],
          "name": "stdout"
        }
      ]
    },
    {
      "cell_type": "code",
      "metadata": {
        "colab": {
          "base_uri": "https://localhost:8080/"
        },
        "id": "FVKdnHNE4AD4",
        "outputId": "af390dd8-b4c0-4423-e690-82912b7406ac"
      },
      "source": [
        "print(iris.target_names[knn.predict([[0, 1, 3, 1.5]])])"
      ],
      "execution_count": 13,
      "outputs": [
        {
          "output_type": "stream",
          "text": [
            "['setosa']\n"
          ],
          "name": "stdout"
        }
      ]
    }
  ]
}