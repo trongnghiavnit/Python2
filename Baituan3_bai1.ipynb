{
  "nbformat": 4,
  "nbformat_minor": 0,
  "metadata": {
    "colab": {
      "name": "Baituan3_bai1.ipynb",
      "provenance": [],
      "collapsed_sections": []
    },
    "kernelspec": {
      "name": "python3",
      "display_name": "Python 3"
    }
  },
  "cells": [
    {
      "cell_type": "code",
      "metadata": {
        "id": "SEdQJCjxGI3E"
      },
      "source": [
        "from pandas import DataFrame, read_csv\n",
        "\n",
        "# General syntax to import a library but no functions: \n",
        "##import (library) as (give the library a nickname/alias)\n",
        "import matplotlib.pyplot as plt\n",
        "import pandas as pd #this is how I usually import pandas\n",
        "import sys #only needed to determine Python version number\n",
        "import matplotlib #only needed to determine Matplotlib version number\n",
        "\n",
        "# Enable inline plotting\n",
        "%matplotlib inline"
      ],
      "execution_count": 1,
      "outputs": []
    },
    {
      "cell_type": "code",
      "metadata": {
        "id": "dwSWrXCGIJ53"
      },
      "source": [
        "print('Python version ' + sys.version)\n",
        "print('Pandas version ' + pd.__version__)\n",
        "print('Matplotlib version ' + matplotlib.__version__)"
      ],
      "execution_count": null,
      "outputs": []
    },
    {
      "cell_type": "code",
      "metadata": {
        "id": "hGoGVyzhI8Pj"
      },
      "source": [
        "names = ['Bob','Jessica','Mary','John','Mel']\n",
        "births = [968, 155, 77, 578, 973]"
      ],
      "execution_count": 3,
      "outputs": []
    },
    {
      "cell_type": "code",
      "metadata": {
        "id": "4OuJS9ZiJAJM"
      },
      "source": [
        "BabyDataSet = list(zip(names,births))\n",
        "BabyDataSet"
      ],
      "execution_count": null,
      "outputs": []
    },
    {
      "cell_type": "code",
      "metadata": {
        "id": "u9oCIr39JSaX"
      },
      "source": [
        "df = pd.DataFrame(data = BabyDataSet, columns=['Names', 'Births'])\n",
        "df"
      ],
      "execution_count": null,
      "outputs": []
    },
    {
      "cell_type": "code",
      "metadata": {
        "id": "mKHUh6KuKPCs"
      },
      "source": [
        "df.to_csv('Modules_Pandas_births1880.csv',index=False,header=False)"
      ],
      "execution_count": 6,
      "outputs": []
    },
    {
      "cell_type": "code",
      "metadata": {
        "id": "nwKRELUMKZuU"
      },
      "source": [
        "Location = r'Modules_Pandas_births1880.csv'\n",
        "df = pd.read_csv(Location)"
      ],
      "execution_count": 7,
      "outputs": []
    },
    {
      "cell_type": "code",
      "metadata": {
        "id": "6jLQVuSwKgDs"
      },
      "source": [
        "df"
      ],
      "execution_count": null,
      "outputs": []
    },
    {
      "cell_type": "code",
      "metadata": {
        "id": "r_BGX0eVKjLd"
      },
      "source": [
        "df = pd.read_csv(Location, header=None)\n",
        "df"
      ],
      "execution_count": null,
      "outputs": []
    },
    {
      "cell_type": "code",
      "metadata": {
        "id": "__GcOakaKlWk"
      },
      "source": [
        "df = pd.read_csv(Location, names=['Names','Births'])\n",
        "df"
      ],
      "execution_count": null,
      "outputs": []
    },
    {
      "cell_type": "code",
      "metadata": {
        "id": "NN7O9QaSKoIb"
      },
      "source": [
        "import os\n",
        "os.remove(Location)"
      ],
      "execution_count": 11,
      "outputs": []
    },
    {
      "cell_type": "code",
      "metadata": {
        "id": "Y7cbfWzzKpWl"
      },
      "source": [
        "df.dtypes"
      ],
      "execution_count": null,
      "outputs": []
    },
    {
      "cell_type": "code",
      "metadata": {
        "id": "j7eWPqjSKtZd"
      },
      "source": [
        "df.Births.dtype"
      ],
      "execution_count": null,
      "outputs": []
    },
    {
      "cell_type": "code",
      "metadata": {
        "id": "uYa5ZQjuKvnu"
      },
      "source": [
        "Sorted = df.sort_values(['Births'], ascending=False)\n",
        "Sorted.head(1)"
      ],
      "execution_count": null,
      "outputs": []
    },
    {
      "cell_type": "code",
      "metadata": {
        "id": "s53MAIIjKxx5"
      },
      "source": [
        "df['Births'].max()"
      ],
      "execution_count": null,
      "outputs": []
    },
    {
      "cell_type": "code",
      "metadata": {
        "id": "hNI2-zclK0p3"
      },
      "source": [
        "df['Births'].plot()\n",
        "\n",
        "# Maximum value in the data set\n",
        "MaxValue = df['Births'].max()\n",
        "\n",
        "# Name associated with the maximum value\n",
        "MaxName = df['Names'][df['Births'] == df['Births'].max()].values\n",
        "\n",
        "# Text to display on graph\n",
        "Text = str(MaxValue) + \" - \" + MaxName\n",
        "\n",
        "# Add text to graph\n",
        "plt.annotate(Text, xy=(1, MaxValue), \n",
        "                   xytext=(25, 0), \n",
        "                   xycoords=('axes fraction', 'data'), \n",
        "                   textcoords='offset points',\n",
        "                   arrowprops=dict(arrowstyle='-|>'))\n",
        "\n",
        "print(\"The most popular name\")\n",
        "df[df['Births'] == df['Births'].max()]\n",
        "#Sorted.head(1) can also be used"
      ],
      "execution_count": null,
      "outputs": []
    }
  ]
}