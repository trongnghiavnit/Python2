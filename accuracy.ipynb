{
  "nbformat": 4,
  "nbformat_minor": 0,
  "metadata": {
    "colab": {
      "name": "accuracy.ipynb",
      "provenance": [],
      "collapsed_sections": []
    },
    "kernelspec": {
      "name": "python3",
      "display_name": "Python 3"
    }
  },
  "cells": [
    {
      "cell_type": "code",
      "metadata": {
        "id": "VLhsUL4-yOYm",
        "colab": {
          "base_uri": "https://localhost:8080/"
        },
        "outputId": "c75f0847-132f-491a-f774-48dcb9cfcdfd"
      },
      "source": [
        "from __future__ import print_function\n",
        "import numpy as np \n",
        "\n",
        "def acc(y_true, y_pred):\n",
        "    correct = np.sum(y_true == y_pred)\n",
        "    return float(correct)/y_true.shape[0]\n",
        "\n",
        "y_true = np.array([0, 0, 0, 0, 1, 1, 1, 2, 2, 2])\n",
        "y_pred = np.array([0, 1, 0, 2, 1, 1, 0, 2, 1, 2])\n",
        "print('accuracy = ', acc(y_true, y_pred))"
      ],
      "execution_count": null,
      "outputs": [
        {
          "output_type": "stream",
          "text": [
            "accuracy =  0.6\n"
          ],
          "name": "stdout"
        }
      ]
    },
    {
      "cell_type": "code",
      "metadata": {
        "id": "Acd1Z6mQzRgu",
        "colab": {
          "base_uri": "https://localhost:8080/"
        },
        "outputId": "5ba69d23-dd2d-4eb2-982a-d160b5ad22f5"
      },
      "source": [
        "from sklearn.metrics import accuracy_score\n",
        "print('accuracy = ',accuracy_score(y_true, y_pred))"
      ],
      "execution_count": null,
      "outputs": [
        {
          "output_type": "stream",
          "text": [
            "accuracy =  0.6\n"
          ],
          "name": "stdout"
        }
      ]
    },
    {
      "cell_type": "code",
      "metadata": {
        "id": "d0jI4JLwzX40",
        "colab": {
          "base_uri": "https://localhost:8080/"
        },
        "outputId": "295c95ed-c425-402c-a3b0-390d48b9651f"
      },
      "source": [
        "def my_confusion_matrix(y_true, y_pred):\n",
        "    N = np.unique(y_true).shape[0] # number of classes \n",
        "    cm = np.zeros((N, N))\n",
        "    for n in range(y_true.shape[0]):\n",
        "        cm[y_true[n], y_pred[n]] += 1\n",
        "    return cm \n",
        "\n",
        "cnf_matrix = my_confusion_matrix(y_true, y_pred)\n",
        "print('Confusion matrix:')\n",
        "print(cnf_matrix)\n",
        "print('\\nAccuracy:', np.diagonal(cnf_matrix).sum()/cnf_matrix.sum())"
      ],
      "execution_count": null,
      "outputs": [
        {
          "output_type": "stream",
          "text": [
            "Confusion matrix:\n",
            "[[2. 1. 1.]\n",
            " [1. 2. 0.]\n",
            " [0. 1. 2.]]\n",
            "\n",
            "Accuracy: 0.6\n"
          ],
          "name": "stdout"
        }
      ]
    },
    {
      "cell_type": "code",
      "metadata": {
        "id": "CKpRvIjEzZSV",
        "colab": {
          "base_uri": "https://localhost:8080/"
        },
        "outputId": "a912be00-4949-43b1-d0c6-cb4e8ccb58d4"
      },
      "source": [
        "normalized_confusion_matrix = cnf_matrix/cnf_matrix.sum(axis = 1, keepdims = True)\n",
        "print('\\nConfusion matrix (with normalizatrion:)')\n",
        "print(normalized_confusion_matrix)"
      ],
      "execution_count": null,
      "outputs": [
        {
          "output_type": "stream",
          "text": [
            "\n",
            "Confusion matrix (with normalizatrion:)\n",
            "[[0.5        0.25       0.25      ]\n",
            " [0.33333333 0.66666667 0.        ]\n",
            " [0.         0.33333333 0.66666667]]\n"
          ],
          "name": "stdout"
        }
      ]
    },
    {
      "cell_type": "code",
      "metadata": {
        "id": "QWQzCABYzcfU",
        "colab": {
          "base_uri": "https://localhost:8080/"
        },
        "outputId": "848f77dd-7524-4c0c-98ae-03fcdaab6784"
      },
      "source": [
        "from sklearn.metrics import confusion_matrix\n",
        "cnf_matrix = confusion_matrix(y_true, y_pred)\n",
        "print('Confusion matrix:')\n",
        "print(cnf_matrix)"
      ],
      "execution_count": null,
      "outputs": [
        {
          "output_type": "stream",
          "text": [
            "Confusion matrix:\n",
            "[[2 1 1]\n",
            " [1 2 0]\n",
            " [0 1 2]]\n"
          ],
          "name": "stdout"
        }
      ]
    },
    {
      "cell_type": "code",
      "metadata": {
        "id": "MLkABZi8ze3k",
        "colab": {
          "base_uri": "https://localhost:8080/",
          "height": 604
        },
        "outputId": "fd63726f-0a49-4d8b-a862-25f43839a4a8"
      },
      "source": [
        "import matplotlib.pyplot as plt\n",
        "import itertools\n",
        "def plot_confusion_matrix(cm, classes,\n",
        "                          normalize=False,\n",
        "                          title='Confusion matrix',\n",
        "                          cmap=plt.cm.Blues):\n",
        "    \"\"\"\n",
        "    This function prints and plots the confusion matrix.\n",
        "    Normalization can be applied by setting `normalize=True`.\n",
        "    \"\"\"\n",
        "    if normalize:\n",
        "        cm = cm.astype('float') / cm.sum(axis=1, keepdims = True)\n",
        "\n",
        "    plt.imshow(cm, interpolation='nearest', cmap=cmap)\n",
        "    plt.title(title)\n",
        "    plt.colorbar()\n",
        "    tick_marks = np.arange(len(classes))\n",
        "    plt.xticks(tick_marks, classes, rotation=45)\n",
        "    plt.yticks(tick_marks, classes)\n",
        "\n",
        "    fmt = '.2f' if normalize else 'd'\n",
        "    thresh = cm.max() / 2.\n",
        "    for i, j in itertools.product(range(cm.shape[0]), range(cm.shape[1])):\n",
        "        plt.text(j, i, format(cm[i, j], fmt),\n",
        "                 horizontalalignment=\"center\",\n",
        "                 color=\"white\" if cm[i, j] > thresh else \"black\")\n",
        "\n",
        "    plt.tight_layout()\n",
        "    plt.ylabel('True label')\n",
        "    plt.xlabel('Predicted label')\n",
        "\n",
        "\n",
        "class_names = [0, 1, 2]\n",
        "plt.figure()\n",
        "plot_confusion_matrix(cnf_matrix, classes=class_names,\n",
        "                      title='Confusion matrix, without normalization')\n",
        "\n",
        "\n",
        "plt.figure()\n",
        "plot_confusion_matrix(cnf_matrix, classes=class_names, normalize=True,\n",
        "                      title='Normalized confusion matrix')\n",
        "\n",
        "plt.show()"
      ],
      "execution_count": null,
      "outputs": [
        {
          "output_type": "display_data",
          "data": {
            "image/png": "[encoded data removed]",
            "text/plain": [
              "<Figure size 432x288 with 2 Axes>"
            ]
          },
          "metadata": {
            "tags": [],
            "needs_background": "light"
          }
        },
        {
          "output_type": "display_data",
          "data": {
            "image/png": "[encoded data removed]",
            "text/plain": [
              "<Figure size 432x288 with 2 Axes>"
            ]
          },
          "metadata": {
            "tags": [],
            "needs_background": "light"
          }
        }
      ]
    },
    {
      "cell_type": "code",
      "metadata": {
        "id": "BwPPxx3RzoyE",
        "colab": {
          "base_uri": "https://localhost:8080/"
        },
        "outputId": "256dda4b-3c89-45e2-a6f2-94bd67944993"
      },
      "source": [
        "n0, n1 = 20, 30\n",
        "score0 = np.random.rand(n0)/2\n",
        "label0 = np.zeros(n0, dtype = int)\n",
        "score1  = np.random.rand(n1)/2 + .2\n",
        "label1 = np.ones(n1, dtype = int)\n",
        "scores = np.concatenate((score0, score1))\n",
        "y_true = np.concatenate((label0, label1))\n",
        "\n",
        "print('True labels:')\n",
        "print(y_true)\n",
        "print('\\nScores:')\n",
        "print(scores)"
      ],
      "execution_count": null,
      "outputs": [
        {
          "output_type": "stream",
          "text": [
            "True labels:\n",
            "[0 0 0 0 0 0 0 0 0 0 0 0 0 0 0 0 0 0 0 0 1 1 1 1 1 1 1 1 1 1 1 1 1 1 1 1 1\n",
            " 1 1 1 1 1 1 1 1 1 1 1 1 1]\n",
            "\n",
            "Scores:\n",
            "[0.43346807 0.22181323 0.04097301 0.02006296 0.19767248 0.18890991\n",
            " 0.03044728 0.00421588 0.10692047 0.00489569 0.32552614 0.11124628\n",
            " 0.45330015 0.32948721 0.24795253 0.019615   0.47631452 0.1843615\n",
            " 0.1739098  0.49187609 0.57600973 0.68702381 0.54066895 0.28299571\n",
            " 0.53210226 0.27366873 0.44836426 0.49862322 0.46218822 0.29088697\n",
            " 0.50695484 0.24528048 0.36360793 0.59387722 0.2173684  0.24256902\n",
            " 0.67874307 0.36726355 0.52291811 0.33022179 0.55212629 0.37417738\n",
            " 0.47554358 0.55064017 0.27534616 0.23800164 0.28495166 0.48293264\n",
            " 0.47288978 0.32492386]\n"
          ],
          "name": "stdout"
        }
      ]
    },
    {
      "cell_type": "code",
      "metadata": {
        "id": "H4RFR-4WzrHN",
        "colab": {
          "base_uri": "https://localhost:8080/"
        },
        "outputId": "59bc7439-20c7-46da-c279-d7d7dec59ddf"
      },
      "source": [
        "from sklearn.metrics import roc_curve, auc\n",
        "fpr, tpr, thresholds = roc_curve(y_true, scores, pos_label = 1)\n",
        "print('Thresholds:')\n",
        "print(thresholds)"
      ],
      "execution_count": null,
      "outputs": [
        {
          "output_type": "stream",
          "text": [
            "Thresholds:\n",
            "[1.68702381 0.68702381 0.49862322 0.49187609 0.48293264 0.47631452\n",
            " 0.46218822 0.45330015 0.44836426 0.43346807 0.33022179 0.32552614\n",
            " 0.27366873 0.24795253 0.23800164 0.22181323 0.2173684  0.00421588]\n"
          ],
          "name": "stdout"
        }
      ]
    },
    {
      "cell_type": "code",
      "metadata": {
        "id": "H23_AzIUztQs",
        "colab": {
          "base_uri": "https://localhost:8080/"
        },
        "outputId": "fd153dff-6cdb-4c7c-f319-3a80f42bcac3"
      },
      "source": [
        "print('False Positive Rate:')\n",
        "print(fpr)"
      ],
      "execution_count": null,
      "outputs": [
        {
          "output_type": "stream",
          "text": [
            "False Positive Rate:\n",
            "[0.   0.   0.   0.05 0.05 0.1  0.1  0.15 0.15 0.2  0.2  0.3  0.3  0.35\n",
            " 0.35 0.4  0.4  1.  ]\n"
          ],
          "name": "stdout"
        }
      ]
    },
    {
      "cell_type": "code",
      "metadata": {
        "id": "YsTInCJIzwjE",
        "colab": {
          "base_uri": "https://localhost:8080/"
        },
        "outputId": "bdeb37ea-8d28-4a02-8aaf-c111b50302d5"
      },
      "source": [
        "print('True Positive Rate:')\n",
        "tpr"
      ],
      "execution_count": null,
      "outputs": [
        {
          "output_type": "stream",
          "text": [
            "True Positive Rate:\n"
          ],
          "name": "stdout"
        },
        {
          "output_type": "execute_result",
          "data": {
            "text/plain": [
              "array([0.        , 0.03333333, 0.36666667, 0.36666667, 0.4       ,\n",
              "       0.4       , 0.5       , 0.5       , 0.53333333, 0.53333333,\n",
              "       0.66666667, 0.66666667, 0.86666667, 0.86666667, 0.96666667,\n",
              "       0.96666667, 1.        , 1.        ])"
            ]
          },
          "metadata": {
            "tags": []
          },
          "execution_count": 10
        }
      ]
    },
    {
      "cell_type": "code",
      "metadata": {
        "id": "lkZ-XcybzyFV",
        "colab": {
          "base_uri": "https://localhost:8080/",
          "height": 294
        },
        "outputId": "c2a3fda3-fc9f-45fa-f002-464353e644f4"
      },
      "source": [
        "import matplotlib.pyplot as plt\n",
        "from itertools import cycle\n",
        "plt.figure()\n",
        "lw = 2\n",
        "plt.plot(fpr, tpr, color='darkorange',\n",
        "         lw=lw, label='ROC curve (area = %0.2f)' % auc(fpr, tpr))\n",
        "plt.plot([0, 1], [0, 1], color='navy', lw=lw, linestyle='--')\n",
        "plt.xlim([0.0, 1.0])\n",
        "plt.ylim([0.0, 1.05])\n",
        "plt.xlabel('False Positive Rate')\n",
        "plt.ylabel('True Positive Rate')\n",
        "plt.title('Receiver operating characteristic example')\n",
        "plt.legend(loc=\"lower right\")\n",
        "plt.show()"
      ],
      "execution_count": null,
      "outputs": [
        {
          "output_type": "display_data",
          "data": {
            "image/png": "[encoded data removed]",
            "text/plain": [
              "<Figure size 432x288 with 1 Axes>"
            ]
          },
          "metadata": {
            "tags": [],
            "needs_background": "light"
          }
        }
      ]
    },
    {
      "cell_type": "code",
      "metadata": {
        "id": "QDXLK3lSz2uE",
        "colab": {
          "base_uri": "https://localhost:8080/"
        },
        "outputId": "59fef559-bab1-4607-a83f-394d1deb9119"
      },
      "source": [
        "from __future__ import print_function\n",
        "import numpy as np \n",
        "# confusion matrix to precision + recall\n",
        "def cm2pr_binary(cm):\n",
        "    p = cm[0,0]/np.sum(cm[:,0])\n",
        "    r = cm[0,0]/np.sum(cm[0])\n",
        "    return (p, r)\n",
        "\n",
        "# example of a confusion matrix for binary classification problem \n",
        "cm = np.array([[100., 10], [20, 70]])\n",
        "p,r = cm2pr_binary(cm)\n",
        "print(\"precition = {0:.2f}, recall = {1:.2f}\".format(p, r))"
      ],
      "execution_count": null,
      "outputs": [
        {
          "output_type": "stream",
          "text": [
            "precition = 0.83, recall = 0.91\n"
          ],
          "name": "stdout"
        }
      ]
    },
    {
      "cell_type": "code",
      "metadata": {
        "id": "FOQvIBMez6tU",
        "colab": {
          "base_uri": "https://localhost:8080/"
        },
        "outputId": "46baa33d-2f28-498b-a8d0-35137a327179"
      },
      "source": [
        "tp1, fp1, fn1 = 10, 5, 3\n",
        "tp2, fp2, fn2 = 17, 7, 10\n",
        "tp3, fp3, fn3 = 25, 2, 4 \n",
        "def PR(tp, fp, fn):\n",
        "    P = float(tp)/(tp + fp)\n",
        "    R = float(tp)/(tp + fn)\n",
        "    return (P, R)\n",
        "\n",
        "(P1, R1) = PR(tp1, fp1, fn1)\n",
        "(P2, R2) = PR(tp2, fp2, fn2)\n",
        "(P3, R3) = PR(tp3, fp3, fn2)\n",
        "\n",
        "print('(P1, R1) = (%.2f, %.2f)'%(P1, R1))\n",
        "print('(P2, R2) = (%.2f, %.2f)'%(P2, R2))\n",
        "print('(P3, R3) = (%.2f, %.2f)'%(P3, R3))"
      ],
      "execution_count": null,
      "outputs": [
        {
          "output_type": "stream",
          "text": [
            "(P1, R1) = (0.67, 0.77)\n",
            "(P2, R2) = (0.71, 0.63)\n",
            "(P3, R3) = (0.93, 0.71)\n"
          ],
          "name": "stdout"
        }
      ]
    },
    {
      "cell_type": "code",
      "metadata": {
        "id": "cSZyL65p0Bwl",
        "colab": {
          "base_uri": "https://localhost:8080/"
        },
        "outputId": "1e554741-5a32-4661-8cfd-f87b6e6f4ee2"
      },
      "source": [
        "total_tp = tp1 + tp2 + tp3\n",
        "total_fp = fp1 + fp2 + fp3 \n",
        "total_fn = fn1 + fn2 + fn3 \n",
        "micro_ap = float(total_tp)/(total_tp + total_fp)\n",
        "micro_ar = float(total_tp)/(total_tp + total_fn)\n",
        "print('(micro_ap, micro_ar) = (%.2f, %.2f)' % (micro_ap, micro_ar))"
      ],
      "execution_count": null,
      "outputs": [
        {
          "output_type": "stream",
          "text": [
            "(micro_ap, micro_ar) = (0.79, 0.75)\n"
          ],
          "name": "stdout"
        }
      ]
    },
    {
      "cell_type": "code",
      "metadata": {
        "id": "uhu_SKMh0DEz",
        "colab": {
          "base_uri": "https://localhost:8080/"
        },
        "outputId": "15b39251-e2df-41c5-dc0b-9bf602f74a71"
      },
      "source": [
        "macro_ap = (P1 + P2 + P3)/3\n",
        "macro_ar = (R1 + R2 + R3)/3\n",
        "print('(micro_ap, micro_ar) = (%.2f, %.2f)' % (macro_ap, macro_ar))"
      ],
      "execution_count": null,
      "outputs": [
        {
          "output_type": "stream",
          "text": [
            "(micro_ap, micro_ar) = (0.77, 0.70)\n"
          ],
          "name": "stdout"
        }
      ]
    }
  ]
}