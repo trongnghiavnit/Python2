{
  "nbformat": 4,
  "nbformat_minor": 0,
  "metadata": {
    "colab": {
      "name": "xulymissing.ipynb",
      "provenance": [],
      "collapsed_sections": [],
      "include_colab_link": true
    },
    "kernelspec": {
      "name": "python3",
      "display_name": "Python 3"
    }
  },
  "cells": [
    {
      "cell_type": "markdown",
      "metadata": {
        "id": "view-in-github",
        "colab_type": "text"
      },
      "source": [
        "<a href=\"https://colab.research.google.com/github/danthunguyenh/baitap/blob/main/xulymissing.ipynb\" target=\"_parent\"><img src=\"https://colab.research.google.com/assets/colab-badge.svg\" alt=\"Open In Colab\"/></a>"
      ]
    },
    {
      "cell_type": "code",
      "metadata": {
        "colab": {
          "base_uri": "https://localhost:8080/"
        },
        "id": "qiL-REMBUvWc",
        "outputId": "b9e7dba5-7fe7-432c-b440-ad59034f7722"
      },
      "source": [
        "import pandas as pd\r\n",
        "\r\n",
        "reviews = pd.read_csv(\"https://gist.githubusercontent.com/clairehq/79acab35be50eaf1c383948ed3fd1129/raw/407a02139ae1e134992b90b4b2b8c329b3d73a6a/winemag-data-130k-v2.csv\", index_col=0)\r\n",
        "reviews.price.dtype"
      ],
      "execution_count": null,
      "outputs": [
        {
          "output_type": "execute_result",
          "data": {
            "text/plain": [
              "dtype('float64')"
            ]
          },
          "metadata": {
            "tags": []
          },
          "execution_count": 2
        }
      ]
    },
    {
      "cell_type": "markdown",
      "metadata": {
        "id": "HK_4-JCrZnDN"
      },
      "source": [
        "Xem kiểu dữ liệu của cột Price"
      ]
    },
    {
      "cell_type": "code",
      "metadata": {
        "colab": {
          "base_uri": "https://localhost:8080/"
        },
        "id": "3RB1bCGQWAW-",
        "outputId": "d1449b49-d65b-4837-d9a1-b3264d87b376"
      },
      "source": [
        "reviews.dtypes"
      ],
      "execution_count": null,
      "outputs": [
        {
          "output_type": "execute_result",
          "data": {
            "text/plain": [
              "country                   object\n",
              "description               object\n",
              "designation               object\n",
              "points                     int64\n",
              "price                    float64\n",
              "province                  object\n",
              "region_1                  object\n",
              "region_2                  object\n",
              "taster_name               object\n",
              "taster_twitter_handle     object\n",
              "title                     object\n",
              "variety                   object\n",
              "winery                    object\n",
              "dtype: object"
            ]
          },
          "metadata": {
            "tags": []
          },
          "execution_count": 3
        }
      ]
    },
    {
      "cell_type": "markdown",
      "metadata": {
        "id": "8TMKvQVgZwW8"
      },
      "source": [
        "Xem kiểu dữ liệu các cột"
      ]
    },
    {
      "cell_type": "code",
      "metadata": {
        "colab": {
          "base_uri": "https://localhost:8080/"
        },
        "id": "KOc_PIZ1Yjn1",
        "outputId": "2bfbbbe9-c57f-446f-ef1d-58ea66fdefd6"
      },
      "source": [
        "reviews.points.astype('float64')"
      ],
      "execution_count": null,
      "outputs": [
        {
          "output_type": "execute_result",
          "data": {
            "text/plain": [
              "0        87.0\n",
              "1        87.0\n",
              "2        87.0\n",
              "3        87.0\n",
              "4        87.0\n",
              "         ... \n",
              "65494    90.0\n",
              "65495    90.0\n",
              "65496    90.0\n",
              "65497    90.0\n",
              "65498    90.0\n",
              "Name: points, Length: 65499, dtype: float64"
            ]
          },
          "metadata": {
            "tags": []
          },
          "execution_count": 4
        }
      ]
    },
    {
      "cell_type": "markdown",
      "metadata": {
        "id": "ugnf1KZYaGJN"
      },
      "source": [
        "Chuyển kiểu dữ liệu cột Point thành float64"
      ]
    },
    {
      "cell_type": "code",
      "metadata": {
        "colab": {
          "base_uri": "https://localhost:8080/"
        },
        "id": "wYkrOZ0EYnPc",
        "outputId": "5888c692-4ea4-417a-d67e-0b82867e05e5"
      },
      "source": [
        "reviews.index.dtype"
      ],
      "execution_count": null,
      "outputs": [
        {
          "output_type": "execute_result",
          "data": {
            "text/plain": [
              "dtype('int64')"
            ]
          },
          "metadata": {
            "tags": []
          },
          "execution_count": 5
        }
      ]
    },
    {
      "cell_type": "markdown",
      "metadata": {
        "id": "npzodb3-ay8N"
      },
      "source": [
        "Xem kiểu dữ liệu của index"
      ]
    },
    {
      "cell_type": "code",
      "metadata": {
        "colab": {
          "base_uri": "https://localhost:8080/",
          "height": 1000
        },
        "id": "ZKEgw0rAYzIs",
        "outputId": "6526d894-deec-493f-bf05-9223af40f4c6"
      },
      "source": [
        "reviews[pd.isnull(reviews.country)]"
      ],
      "execution_count": null,
      "outputs": [
        {
          "output_type": "execute_result",
          "data": {
            "text/html": [
              "<div>\n",
              "<style scoped>\n",
              "    .dataframe tbody tr th:only-of-type {\n",
              "        vertical-align: middle;\n",
              "    }\n",
              "\n",
              "    .dataframe tbody tr th {\n",
              "        vertical-align: top;\n",
              "    }\n",
              "\n",
              "    .dataframe thead th {\n",
              "        text-align: right;\n",
              "    }\n",
              "</style>\n",
              "<table border=\"1\" class=\"dataframe\">\n",
              "  <thead>\n",
              "    <tr style=\"text-align: right;\">\n",
              "      <th></th>\n",
              "      <th>country</th>\n",
              "      <th>description</th>\n",
              "      <th>designation</th>\n",
              "      <th>points</th>\n",
              "      <th>price</th>\n",
              "      <th>province</th>\n",
              "      <th>region_1</th>\n",
              "      <th>region_2</th>\n",
              "      <th>taster_name</th>\n",
              "      <th>taster_twitter_handle</th>\n",
              "      <th>title</th>\n",
              "      <th>variety</th>\n",
              "      <th>winery</th>\n",
              "    </tr>\n",
              "  </thead>\n",
              "  <tbody>\n",
              "    <tr>\n",
              "      <th>913</th>\n",
              "      <td>NaN</td>\n",
              "      <td>Amber in color, this wine has aromas of peach ...</td>\n",
              "      <td>Asureti Valley</td>\n",
              "      <td>87</td>\n",
              "      <td>30.0</td>\n",
              "      <td>NaN</td>\n",
              "      <td>NaN</td>\n",
              "      <td>NaN</td>\n",
              "      <td>Mike DeSimone</td>\n",
              "      <td>@worldwineguys</td>\n",
              "      <td>Gotsa Family Wines 2014 Asureti Valley Chinuri</td>\n",
              "      <td>Chinuri</td>\n",
              "      <td>Gotsa Family Wines</td>\n",
              "    </tr>\n",
              "    <tr>\n",
              "      <th>3131</th>\n",
              "      <td>NaN</td>\n",
              "      <td>Soft, fruity and juicy, this is a pleasant, si...</td>\n",
              "      <td>Partager</td>\n",
              "      <td>83</td>\n",
              "      <td>NaN</td>\n",
              "      <td>NaN</td>\n",
              "      <td>NaN</td>\n",
              "      <td>NaN</td>\n",
              "      <td>Roger Voss</td>\n",
              "      <td>@vossroger</td>\n",
              "      <td>Barton &amp; Guestier NV Partager Red</td>\n",
              "      <td>Red Blend</td>\n",
              "      <td>Barton &amp; Guestier</td>\n",
              "    </tr>\n",
              "    <tr>\n",
              "      <th>4243</th>\n",
              "      <td>NaN</td>\n",
              "      <td>Violet-red in color, this semisweet wine has a...</td>\n",
              "      <td>Red Naturally Semi-Sweet</td>\n",
              "      <td>88</td>\n",
              "      <td>18.0</td>\n",
              "      <td>NaN</td>\n",
              "      <td>NaN</td>\n",
              "      <td>NaN</td>\n",
              "      <td>Mike DeSimone</td>\n",
              "      <td>@worldwineguys</td>\n",
              "      <td>Kakhetia Traditional Winemaking 2012 Red Natur...</td>\n",
              "      <td>Ojaleshi</td>\n",
              "      <td>Kakhetia Traditional Winemaking</td>\n",
              "    </tr>\n",
              "    <tr>\n",
              "      <th>9509</th>\n",
              "      <td>NaN</td>\n",
              "      <td>This mouthwatering blend starts with a nose of...</td>\n",
              "      <td>Theopetra Malagouzia-Assyrtiko</td>\n",
              "      <td>92</td>\n",
              "      <td>28.0</td>\n",
              "      <td>NaN</td>\n",
              "      <td>NaN</td>\n",
              "      <td>NaN</td>\n",
              "      <td>Susan Kostrzewa</td>\n",
              "      <td>@suskostrzewa</td>\n",
              "      <td>Tsililis 2015 Theopetra Malagouzia-Assyrtiko W...</td>\n",
              "      <td>White Blend</td>\n",
              "      <td>Tsililis</td>\n",
              "    </tr>\n",
              "    <tr>\n",
              "      <th>9750</th>\n",
              "      <td>NaN</td>\n",
              "      <td>This orange-style wine has a cloudy yellow-gol...</td>\n",
              "      <td>Orange Nikolaevo Vineyard</td>\n",
              "      <td>89</td>\n",
              "      <td>28.0</td>\n",
              "      <td>NaN</td>\n",
              "      <td>NaN</td>\n",
              "      <td>NaN</td>\n",
              "      <td>Jeff Jenssen</td>\n",
              "      <td>@worldwineguys</td>\n",
              "      <td>Ross-idi 2015 Orange Nikolaevo Vineyard Chardo...</td>\n",
              "      <td>Chardonnay</td>\n",
              "      <td>Ross-idi</td>\n",
              "    </tr>\n",
              "    <tr>\n",
              "      <th>11150</th>\n",
              "      <td>NaN</td>\n",
              "      <td>A blend of 85% Melnik, 10% Grenache Noir and 5...</td>\n",
              "      <td>NaN</td>\n",
              "      <td>89</td>\n",
              "      <td>20.0</td>\n",
              "      <td>NaN</td>\n",
              "      <td>NaN</td>\n",
              "      <td>NaN</td>\n",
              "      <td>Jeff Jenssen</td>\n",
              "      <td>@worldwineguys</td>\n",
              "      <td>Orbelus 2013 Melnik</td>\n",
              "      <td>Melnik</td>\n",
              "      <td>Orbelus</td>\n",
              "    </tr>\n",
              "    <tr>\n",
              "      <th>11348</th>\n",
              "      <td>NaN</td>\n",
              "      <td>Light and fruity, this is a wine that has some...</td>\n",
              "      <td>Partager</td>\n",
              "      <td>82</td>\n",
              "      <td>NaN</td>\n",
              "      <td>NaN</td>\n",
              "      <td>NaN</td>\n",
              "      <td>NaN</td>\n",
              "      <td>Roger Voss</td>\n",
              "      <td>@vossroger</td>\n",
              "      <td>Barton &amp; Guestier NV Partager White</td>\n",
              "      <td>White Blend</td>\n",
              "      <td>Barton &amp; Guestier</td>\n",
              "    </tr>\n",
              "    <tr>\n",
              "      <th>14030</th>\n",
              "      <td>NaN</td>\n",
              "      <td>This Furmint, grown in marl soils, has aromas ...</td>\n",
              "      <td>Márga</td>\n",
              "      <td>88</td>\n",
              "      <td>25.0</td>\n",
              "      <td>NaN</td>\n",
              "      <td>NaN</td>\n",
              "      <td>NaN</td>\n",
              "      <td>Jeff Jenssen</td>\n",
              "      <td>@worldwineguys</td>\n",
              "      <td>St. Donat 2013 Márga White</td>\n",
              "      <td>White Blend</td>\n",
              "      <td>St. Donat</td>\n",
              "    </tr>\n",
              "    <tr>\n",
              "      <th>16000</th>\n",
              "      <td>NaN</td>\n",
              "      <td>Jumpy, jammy aromas of foxy black fruits are s...</td>\n",
              "      <td>Valle de los Manantiales Vineyard</td>\n",
              "      <td>86</td>\n",
              "      <td>40.0</td>\n",
              "      <td>NaN</td>\n",
              "      <td>NaN</td>\n",
              "      <td>NaN</td>\n",
              "      <td>Michael Schachner</td>\n",
              "      <td>@wineschach</td>\n",
              "      <td>Familia Deicas 2015 Valle de los Manantiales V...</td>\n",
              "      <td>Tannat</td>\n",
              "      <td>Familia Deicas</td>\n",
              "    </tr>\n",
              "    <tr>\n",
              "      <th>16749</th>\n",
              "      <td>NaN</td>\n",
              "      <td>Winemaker: Bartho Eksteen. This wooded Sauvy s...</td>\n",
              "      <td>Cape Winemakers Guild Vloekskoot Wooded</td>\n",
              "      <td>91</td>\n",
              "      <td>NaN</td>\n",
              "      <td>NaN</td>\n",
              "      <td>NaN</td>\n",
              "      <td>NaN</td>\n",
              "      <td>Lauren Buzzeo</td>\n",
              "      <td>@laurbuzz</td>\n",
              "      <td>Bartho Eksteen 2016 Cape Winemakers Guild Vloe...</td>\n",
              "      <td>Sauvignon Blanc</td>\n",
              "      <td>Bartho Eksteen</td>\n",
              "    </tr>\n",
              "    <tr>\n",
              "      <th>18075</th>\n",
              "      <td>NaN</td>\n",
              "      <td>Delicate white flowers and a spin of lemon pee...</td>\n",
              "      <td>Askitikos</td>\n",
              "      <td>90</td>\n",
              "      <td>17.0</td>\n",
              "      <td>NaN</td>\n",
              "      <td>NaN</td>\n",
              "      <td>NaN</td>\n",
              "      <td>Susan Kostrzewa</td>\n",
              "      <td>@suskostrzewa</td>\n",
              "      <td>Tsililis 2015 Askitikos Assyrtiko</td>\n",
              "      <td>Assyrtiko</td>\n",
              "      <td>Tsililis</td>\n",
              "    </tr>\n",
              "    <tr>\n",
              "      <th>26485</th>\n",
              "      <td>NaN</td>\n",
              "      <td>This wine has aromas of black berry, dried red...</td>\n",
              "      <td>NaN</td>\n",
              "      <td>87</td>\n",
              "      <td>13.0</td>\n",
              "      <td>NaN</td>\n",
              "      <td>NaN</td>\n",
              "      <td>NaN</td>\n",
              "      <td>Jeff Jenssen</td>\n",
              "      <td>@worldwineguys</td>\n",
              "      <td>Stone Castle 2013 Shiraz</td>\n",
              "      <td>Shiraz</td>\n",
              "      <td>Stone Castle</td>\n",
              "    </tr>\n",
              "    <tr>\n",
              "      <th>26486</th>\n",
              "      <td>NaN</td>\n",
              "      <td>Aromas of green apple and white flowers prepar...</td>\n",
              "      <td>NaN</td>\n",
              "      <td>87</td>\n",
              "      <td>14.0</td>\n",
              "      <td>NaN</td>\n",
              "      <td>NaN</td>\n",
              "      <td>NaN</td>\n",
              "      <td>Mike DeSimone</td>\n",
              "      <td>@worldwineguys</td>\n",
              "      <td>Teliani Valley 2015 Tsolikouri</td>\n",
              "      <td>Tsolikouri</td>\n",
              "      <td>Teliani Valley</td>\n",
              "    </tr>\n",
              "    <tr>\n",
              "      <th>26489</th>\n",
              "      <td>NaN</td>\n",
              "      <td>Balanced aromas of green herbs and citrus zest...</td>\n",
              "      <td>Aliwen Reserva</td>\n",
              "      <td>87</td>\n",
              "      <td>12.0</td>\n",
              "      <td>NaN</td>\n",
              "      <td>NaN</td>\n",
              "      <td>NaN</td>\n",
              "      <td>Michael Schachner</td>\n",
              "      <td>@wineschach</td>\n",
              "      <td>Undurraga 2016 Aliwen Reserva Sauvignon Blanc</td>\n",
              "      <td>Sauvignon Blanc</td>\n",
              "      <td>Undurraga</td>\n",
              "    </tr>\n",
              "    <tr>\n",
              "      <th>27822</th>\n",
              "      <td>NaN</td>\n",
              "      <td>This is a reasonably rich, concentrated exampl...</td>\n",
              "      <td>NaN</td>\n",
              "      <td>86</td>\n",
              "      <td>19.0</td>\n",
              "      <td>NaN</td>\n",
              "      <td>NaN</td>\n",
              "      <td>NaN</td>\n",
              "      <td>Joe Czerwinski</td>\n",
              "      <td>@JoeCz</td>\n",
              "      <td>Mt. Beautiful 2014 Pinot Gris</td>\n",
              "      <td>Pinot Gris</td>\n",
              "      <td>Mt. Beautiful</td>\n",
              "    </tr>\n",
              "    <tr>\n",
              "      <th>36112</th>\n",
              "      <td>NaN</td>\n",
              "      <td>An interesting blend of indigenous Bulgarian a...</td>\n",
              "      <td>Hrumki Melnik 55 Mourvèdre Marselan</td>\n",
              "      <td>89</td>\n",
              "      <td>25.0</td>\n",
              "      <td>NaN</td>\n",
              "      <td>NaN</td>\n",
              "      <td>NaN</td>\n",
              "      <td>Jeff Jenssen</td>\n",
              "      <td>@worldwineguys</td>\n",
              "      <td>Orbelus 2012 Hrumki Melnik 55 Mourvèdre Marsel...</td>\n",
              "      <td>Red Blend</td>\n",
              "      <td>Orbelus</td>\n",
              "    </tr>\n",
              "    <tr>\n",
              "      <th>38240</th>\n",
              "      <td>NaN</td>\n",
              "      <td>Subdued citrus and pear notes on the nose find...</td>\n",
              "      <td>Steirische Klassik</td>\n",
              "      <td>89</td>\n",
              "      <td>24.0</td>\n",
              "      <td>NaN</td>\n",
              "      <td>NaN</td>\n",
              "      <td>NaN</td>\n",
              "      <td>Anne Krebiehl MW</td>\n",
              "      <td>@AnneInVino</td>\n",
              "      <td>Neumeister 2015 Steirische Klassik Grauburgunder</td>\n",
              "      <td>Grauburgunder</td>\n",
              "      <td>Neumeister</td>\n",
              "    </tr>\n",
              "    <tr>\n",
              "      <th>38898</th>\n",
              "      <td>NaN</td>\n",
              "      <td>Scents of clover, stem, green herb and red cur...</td>\n",
              "      <td>Wismer-Parke Vineyard</td>\n",
              "      <td>89</td>\n",
              "      <td>34.0</td>\n",
              "      <td>NaN</td>\n",
              "      <td>NaN</td>\n",
              "      <td>NaN</td>\n",
              "      <td>Paul Gregutt</td>\n",
              "      <td>@paulgwine</td>\n",
              "      <td>Bachelder 2014 Wismer-Parke Vineyard Pinot Noir</td>\n",
              "      <td>Pinot Noir</td>\n",
              "      <td>Bachelder</td>\n",
              "    </tr>\n",
              "    <tr>\n",
              "      <th>44674</th>\n",
              "      <td>NaN</td>\n",
              "      <td>Crisp apple freshness almost tips into full ci...</td>\n",
              "      <td>Steirische Klassik</td>\n",
              "      <td>91</td>\n",
              "      <td>25.0</td>\n",
              "      <td>NaN</td>\n",
              "      <td>NaN</td>\n",
              "      <td>NaN</td>\n",
              "      <td>Anne Krebiehl MW</td>\n",
              "      <td>@AnneInVino</td>\n",
              "      <td>Neumeister 2016 Steirische Klassik Grauburgunder</td>\n",
              "      <td>Grauburgunder</td>\n",
              "      <td>Neumeister</td>\n",
              "    </tr>\n",
              "    <tr>\n",
              "      <th>44850</th>\n",
              "      <td>NaN</td>\n",
              "      <td>This blend of Gamay and Prokupe has aromas of ...</td>\n",
              "      <td>Amphora</td>\n",
              "      <td>84</td>\n",
              "      <td>6.0</td>\n",
              "      <td>NaN</td>\n",
              "      <td>NaN</td>\n",
              "      <td>NaN</td>\n",
              "      <td>Jeff Jenssen</td>\n",
              "      <td>@worldwineguys</td>\n",
              "      <td>Stone Castle 2014 Amphora Red</td>\n",
              "      <td>Red Blend</td>\n",
              "      <td>Stone Castle</td>\n",
              "    </tr>\n",
              "    <tr>\n",
              "      <th>44851</th>\n",
              "      <td>NaN</td>\n",
              "      <td>This wine has aromas of honeysuckle and lemon ...</td>\n",
              "      <td>Royal</td>\n",
              "      <td>84</td>\n",
              "      <td>6.0</td>\n",
              "      <td>NaN</td>\n",
              "      <td>NaN</td>\n",
              "      <td>NaN</td>\n",
              "      <td>Jeff Jenssen</td>\n",
              "      <td>@worldwineguys</td>\n",
              "      <td>Stone Castle 2015 Royal Riesling</td>\n",
              "      <td>Riesling</td>\n",
              "      <td>Stone Castle</td>\n",
              "    </tr>\n",
              "    <tr>\n",
              "      <th>45247</th>\n",
              "      <td>NaN</td>\n",
              "      <td>Just a whiff of citrus shows on the restrained...</td>\n",
              "      <td>Steirische Klassik</td>\n",
              "      <td>89</td>\n",
              "      <td>25.0</td>\n",
              "      <td>NaN</td>\n",
              "      <td>NaN</td>\n",
              "      <td>NaN</td>\n",
              "      <td>Anne Krebiehl MW</td>\n",
              "      <td>@AnneInVino</td>\n",
              "      <td>Neumeister 2016 Steirische Klassik Sauvignon B...</td>\n",
              "      <td>Sauvignon Blanc</td>\n",
              "      <td>Neumeister</td>\n",
              "    </tr>\n",
              "    <tr>\n",
              "      <th>45402</th>\n",
              "      <td>NaN</td>\n",
              "      <td>Basic cherry aromas turn more earthy and soupy...</td>\n",
              "      <td>Reserva Estate Bottled</td>\n",
              "      <td>85</td>\n",
              "      <td>12.0</td>\n",
              "      <td>NaN</td>\n",
              "      <td>NaN</td>\n",
              "      <td>NaN</td>\n",
              "      <td>Michael Schachner</td>\n",
              "      <td>@wineschach</td>\n",
              "      <td>Chilcas 2015 Reserva Estate Bottled Pinot Noir</td>\n",
              "      <td>Pinot Noir</td>\n",
              "      <td>Chilcas</td>\n",
              "    </tr>\n",
              "    <tr>\n",
              "      <th>46352</th>\n",
              "      <td>NaN</td>\n",
              "      <td>A dark color and rich, jammy, baked aromas of ...</td>\n",
              "      <td>Catalina</td>\n",
              "      <td>91</td>\n",
              "      <td>50.0</td>\n",
              "      <td>NaN</td>\n",
              "      <td>NaN</td>\n",
              "      <td>NaN</td>\n",
              "      <td>Michael Schachner</td>\n",
              "      <td>@wineschach</td>\n",
              "      <td>Santa Ema 2014 Catalina Red</td>\n",
              "      <td>Red Blend</td>\n",
              "      <td>Santa Ema</td>\n",
              "    </tr>\n",
              "    <tr>\n",
              "      <th>49425</th>\n",
              "      <td>NaN</td>\n",
              "      <td>This blend is comprised of 55% Merlot, 21% Cab...</td>\n",
              "      <td>Getika Made With Organic Grapes</td>\n",
              "      <td>88</td>\n",
              "      <td>28.0</td>\n",
              "      <td>NaN</td>\n",
              "      <td>NaN</td>\n",
              "      <td>NaN</td>\n",
              "      <td>Jeff Jenssen</td>\n",
              "      <td>@worldwineguys</td>\n",
              "      <td>Orbelus 2011 Getika Made With Organic Grapes Red</td>\n",
              "      <td>Red Blend</td>\n",
              "      <td>Orbelus</td>\n",
              "    </tr>\n",
              "    <tr>\n",
              "      <th>49426</th>\n",
              "      <td>NaN</td>\n",
              "      <td>Enticing aromas of blueberry syrup open this b...</td>\n",
              "      <td>Getika Made With Organic Grapes</td>\n",
              "      <td>88</td>\n",
              "      <td>28.0</td>\n",
              "      <td>NaN</td>\n",
              "      <td>NaN</td>\n",
              "      <td>NaN</td>\n",
              "      <td>Jeff Jenssen</td>\n",
              "      <td>@worldwineguys</td>\n",
              "      <td>Orbelus 2012 Getika Made With Organic Grapes Red</td>\n",
              "      <td>Red Blend</td>\n",
              "      <td>Orbelus</td>\n",
              "    </tr>\n",
              "    <tr>\n",
              "      <th>49427</th>\n",
              "      <td>NaN</td>\n",
              "      <td>This dark-garnet wine has aromas of eucalyptus...</td>\n",
              "      <td>Hrumki Syrah Melnik 55 Mourvèdre Marselan</td>\n",
              "      <td>88</td>\n",
              "      <td>19.0</td>\n",
              "      <td>NaN</td>\n",
              "      <td>NaN</td>\n",
              "      <td>NaN</td>\n",
              "      <td>Jeff Jenssen</td>\n",
              "      <td>@worldwineguys</td>\n",
              "      <td>Orbelus 2013 Hrumki Syrah Melnik 55 Mourvèdre ...</td>\n",
              "      <td>Red Blend</td>\n",
              "      <td>Orbelus</td>\n",
              "    </tr>\n",
              "    <tr>\n",
              "      <th>49510</th>\n",
              "      <td>NaN</td>\n",
              "      <td>Aromas of cherry, blueberry and rose petal pre...</td>\n",
              "      <td>NaN</td>\n",
              "      <td>91</td>\n",
              "      <td>34.0</td>\n",
              "      <td>NaN</td>\n",
              "      <td>NaN</td>\n",
              "      <td>NaN</td>\n",
              "      <td>Mike DeSimone</td>\n",
              "      <td>@worldwineguys</td>\n",
              "      <td>Psagot 2013 Cabernet Sauvignon</td>\n",
              "      <td>Cabernet Sauvignon</td>\n",
              "      <td>Psagot</td>\n",
              "    </tr>\n",
              "    <tr>\n",
              "      <th>54222</th>\n",
              "      <td>NaN</td>\n",
              "      <td>Almost caramel in color, this wine offers arom...</td>\n",
              "      <td>Babaneuri Valley</td>\n",
              "      <td>87</td>\n",
              "      <td>30.0</td>\n",
              "      <td>NaN</td>\n",
              "      <td>NaN</td>\n",
              "      <td>NaN</td>\n",
              "      <td>Mike DeSimone</td>\n",
              "      <td>@worldwineguys</td>\n",
              "      <td>Gotsa Family Wines 2013 Babaneuri Valley Mtsvane</td>\n",
              "      <td>Mtsvane</td>\n",
              "      <td>Gotsa Family Wines</td>\n",
              "    </tr>\n",
              "    <tr>\n",
              "      <th>57612</th>\n",
              "      <td>NaN</td>\n",
              "      <td>Winemaker: Gordon Newton Johnson. This is such...</td>\n",
              "      <td>Cape Winemakers Guild Windansea</td>\n",
              "      <td>92</td>\n",
              "      <td>NaN</td>\n",
              "      <td>NaN</td>\n",
              "      <td>NaN</td>\n",
              "      <td>NaN</td>\n",
              "      <td>Lauren Buzzeo</td>\n",
              "      <td>@laurbuzz</td>\n",
              "      <td>Newton Johnson 2016 Cape Winemakers Guild Wind...</td>\n",
              "      <td>Pinot Noir</td>\n",
              "      <td>Newton Johnson</td>\n",
              "    </tr>\n",
              "    <tr>\n",
              "      <th>59670</th>\n",
              "      <td>NaN</td>\n",
              "      <td>The heady florality of damask rose is joined b...</td>\n",
              "      <td>Steintal</td>\n",
              "      <td>92</td>\n",
              "      <td>38.0</td>\n",
              "      <td>NaN</td>\n",
              "      <td>NaN</td>\n",
              "      <td>NaN</td>\n",
              "      <td>Anne Krebiehl MW</td>\n",
              "      <td>@AnneInVino</td>\n",
              "      <td>Neumeister 2015 Steintal Roter Traminer</td>\n",
              "      <td>Roter Traminer</td>\n",
              "      <td>Neumeister</td>\n",
              "    </tr>\n",
              "    <tr>\n",
              "      <th>60678</th>\n",
              "      <td>NaN</td>\n",
              "      <td>This wine was made for grilled meats, with its...</td>\n",
              "      <td>Dry</td>\n",
              "      <td>86</td>\n",
              "      <td>17.0</td>\n",
              "      <td>NaN</td>\n",
              "      <td>NaN</td>\n",
              "      <td>NaN</td>\n",
              "      <td>Susan Kostrzewa</td>\n",
              "      <td>@suskostrzewa</td>\n",
              "      <td>Ktima Voyatzi 2015 Dry Rosé</td>\n",
              "      <td>Rosé</td>\n",
              "      <td>Ktima Voyatzi</td>\n",
              "    </tr>\n",
              "  </tbody>\n",
              "</table>\n",
              "</div>"
            ],
            "text/plain": [
              "      country  ...                           winery\n",
              "913       NaN  ...               Gotsa Family Wines\n",
              "3131      NaN  ...                Barton & Guestier\n",
              "4243      NaN  ...  Kakhetia Traditional Winemaking\n",
              "9509      NaN  ...                         Tsililis\n",
              "9750      NaN  ...                         Ross-idi\n",
              "11150     NaN  ...                          Orbelus\n",
              "11348     NaN  ...                Barton & Guestier\n",
              "14030     NaN  ...                        St. Donat\n",
              "16000     NaN  ...                   Familia Deicas\n",
              "16749     NaN  ...                   Bartho Eksteen\n",
              "18075     NaN  ...                         Tsililis\n",
              "26485     NaN  ...                     Stone Castle\n",
              "26486     NaN  ...                   Teliani Valley\n",
              "26489     NaN  ...                        Undurraga\n",
              "27822     NaN  ...                    Mt. Beautiful\n",
              "36112     NaN  ...                          Orbelus\n",
              "38240     NaN  ...                       Neumeister\n",
              "38898     NaN  ...                        Bachelder\n",
              "44674     NaN  ...                       Neumeister\n",
              "44850     NaN  ...                     Stone Castle\n",
              "44851     NaN  ...                     Stone Castle\n",
              "45247     NaN  ...                       Neumeister\n",
              "45402     NaN  ...                          Chilcas\n",
              "46352     NaN  ...                        Santa Ema\n",
              "49425     NaN  ...                          Orbelus\n",
              "49426     NaN  ...                          Orbelus\n",
              "49427     NaN  ...                          Orbelus\n",
              "49510     NaN  ...                           Psagot\n",
              "54222     NaN  ...               Gotsa Family Wines\n",
              "57612     NaN  ...                   Newton Johnson\n",
              "59670     NaN  ...                       Neumeister\n",
              "60678     NaN  ...                    Ktima Voyatzi\n",
              "\n",
              "[32 rows x 13 columns]"
            ]
          },
          "metadata": {
            "tags": []
          },
          "execution_count": 6
        }
      ]
    },
    {
      "cell_type": "markdown",
      "metadata": {
        "id": "a6s2PotMcCeu"
      },
      "source": [
        "Xuất các dữ liệu null ở cột Country"
      ]
    },
    {
      "cell_type": "code",
      "metadata": {
        "colab": {
          "base_uri": "https://localhost:8080/"
        },
        "id": "ZE0NuHrOY19M",
        "outputId": "63db72b1-3817-41d4-dc6a-79c6bef02bb6"
      },
      "source": [
        "reviews.region_2.fillna(\"Unknown\")"
      ],
      "execution_count": null,
      "outputs": [
        {
          "output_type": "execute_result",
          "data": {
            "text/plain": [
              "0                  Unknown\n",
              "1                  Unknown\n",
              "2        Willamette Valley\n",
              "3                  Unknown\n",
              "4        Willamette Valley\n",
              "               ...        \n",
              "65494              Unknown\n",
              "65495              Unknown\n",
              "65496               Sonoma\n",
              "65497                 Napa\n",
              "65498              Unknown\n",
              "Name: region_2, Length: 65499, dtype: object"
            ]
          },
          "metadata": {
            "tags": []
          },
          "execution_count": 7
        }
      ]
    },
    {
      "cell_type": "markdown",
      "metadata": {
        "id": "McdflUQjcXsM"
      },
      "source": [
        "Điền Unknown vào các dữ liệu null"
      ]
    },
    {
      "cell_type": "code",
      "metadata": {
        "colab": {
          "base_uri": "https://localhost:8080/"
        },
        "id": "yy6_Hjo0Y5UM",
        "outputId": "eacc94d1-d288-4562-e4f3-8a99624daffe"
      },
      "source": [
        "reviews.taster_twitter_handle.replace(\"@kerinokeefe\", \"@kerino\")"
      ],
      "execution_count": null,
      "outputs": [
        {
          "output_type": "execute_result",
          "data": {
            "text/plain": [
              "0            @kerino\n",
              "1         @vossroger\n",
              "2        @paulgwine \n",
              "3                NaN\n",
              "4        @paulgwine \n",
              "            ...     \n",
              "65494     @vossroger\n",
              "65495         @JoeCz\n",
              "65496            NaN\n",
              "65497            NaN\n",
              "65498    @wineschach\n",
              "Name: taster_twitter_handle, Length: 65499, dtype: object"
            ]
          },
          "metadata": {
            "tags": []
          },
          "execution_count": 8
        }
      ]
    },
    {
      "cell_type": "markdown",
      "metadata": {
        "id": "T0YohuhKcuCc"
      },
      "source": [
        "Thay thế các giá trị kerinokeefe = kerino"
      ]
    },
    {
      "cell_type": "code",
      "metadata": {
        "id": "qe24MEbGY6or"
      },
      "source": [
        ""
      ],
      "execution_count": null,
      "outputs": []
    }
  ]
}