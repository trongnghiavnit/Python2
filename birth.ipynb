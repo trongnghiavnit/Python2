{
  "nbformat": 4,
  "nbformat_minor": 0,
  "metadata": {
    "colab": {
      "name": "birth.ipynb",
      "provenance": [],
      "collapsed_sections": []
    },
    "kernelspec": {
      "name": "python3",
      "display_name": "Python 3"
    }
  },
  "cells": [
    {
      "cell_type": "code",
      "metadata": {
        "id": "ckJHkbGZQhtY"
      },
      "source": [
        "n# Nhập tất cả các thư viện cần thiết\n",
        "import pandas as pd\n",
        "from numpy import random\n",
        "import matplotlib.pyplot as plt\n",
        "import sys #chỉ cần thiết để xác định số phiên bản Python\n",
        "import matplotlib #chỉ cần thiết để xác định số phiên bản Matplotlib\n",
        "\n",
        "# Bật tính năng vẽ nội tuyến\n",
        "%matplotlib inline"
      ],
      "execution_count": null,
      "outputs": []
    },
    {
      "cell_type": "code",
      "metadata": {
        "id": "vOXRKgnGQ4nH",
        "colab": {
          "base_uri": "https://localhost:8080/"
        },
        "outputId": "aad73047-d627-4566-922c-1066fa2f9cb5"
      },
      "source": [
        "print('Python version ' + sys.version)\n",
        "print('Pandas version ' + pd.__version__)\n",
        "print('Matplotlib version ' + matplotlib.__version__)"
      ],
      "execution_count": null,
      "outputs": [
        {
          "output_type": "stream",
          "text": [
            "Python version 3.6.9 (default, Oct  8 2020, 12:12:24) \n",
            "[GCC 8.4.0]\n",
            "Pandas version 1.1.4\n",
            "Matplotlib version 3.2.2\n"
          ],
          "name": "stdout"
        }
      ]
    },
    {
      "cell_type": "markdown",
      "metadata": {
        "id": "H3CfDY5xRB6O"
      },
      "source": [
        "**Create Data**"
      ]
    },
    {
      "cell_type": "markdown",
      "metadata": {
        "id": "cDWT_zghRISn"
      },
      "source": [
        "Bộ dữ liệu sẽ bao gồm 1.000 tên em bé và số lượng ca sinh được ghi lại trong năm đó (1880). Ta cũng sẽ thêm nhiều bản sao để bạn sẽ thấy cùng một tên con nhiều lần.Bạn có thể nghĩ về nhiều mục nhập cho mỗi tên đơn giản là các bệnh viện khác nhau trên toàn quốc báo cáo số lần sinh trên mỗi tên trẻ. Vì vậy, nếu hai bệnh viện báo cáo tên em bé là \"Bob\", dữ liệu sẽ có hai giá trị cho tên Bob. Chúng tôi sẽ bắt đầu bằng cách tạo tập hợp ngẫu nhiên các tên em bé."
      ]
    },
    {
      "cell_type": "code",
      "metadata": {
        "id": "PCWuXPITRgl_"
      },
      "source": [
        "# Bộ tên trẻ sơ sinh ban đầu\n",
        "names = ['Bob','Jessica','Mary','John','Mel']"
      ],
      "execution_count": null,
      "outputs": []
    },
    {
      "cell_type": "markdown",
      "metadata": {
        "id": "vU1mST3BRuLP"
      },
      "source": [
        "Để tạo một danh sách ngẫu nhiên gồm 1.000 tên con bằng cách sử dụng năm tên trên, chúng ta sẽ thực hiện như sau:\n",
        "\n",
        "*  Tạo một số ngẫu nhiên từ 0 đến 4\n",
        "\n",
        "\n",
        "\n",
        "Để làm điều này, chúng tôi sẽ sử dụng các hàm seed, randint, len, range và zip.\n",
        "\n"
      ]
    },
    {
      "cell_type": "code",
      "metadata": {
        "id": "fOJOzOFTSQMv"
      },
      "source": [
        "random.randint?"
      ],
      "execution_count": null,
      "outputs": []
    },
    {
      "cell_type": "code",
      "metadata": {
        "id": "oX9SpHV2STuN"
      },
      "source": [
        "len?"
      ],
      "execution_count": null,
      "outputs": []
    },
    {
      "cell_type": "code",
      "metadata": {
        "id": "eL_FJSVMSWRt"
      },
      "source": [
        "range?"
      ],
      "execution_count": null,
      "outputs": []
    },
    {
      "cell_type": "code",
      "metadata": {
        "id": "hikbuy8CSYWv"
      },
      "source": [
        "zip?"
      ],
      "execution_count": null,
      "outputs": []
    },
    {
      "cell_type": "markdown",
      "metadata": {
        "id": "SbNhuDDhSr_V"
      },
      "source": [
        "\n",
        "\n",
        "*   **seed(500)** - Create seed\n",
        "*   **randint(low=0,high=len(names))** - Tạo một số nguyên ngẫu nhiên giữa 0 và độ dài của danh sách \"names\"\n",
        "\n",
        "\n",
        "*   **names[n]** - Chọn tên mà chỉ số của nó bằng n.\n",
        "*   **for i in range(n)** - \n",
        "Lặp lại cho đến khi i bằng n, tức là 1,2,3, .... n.\n",
        "\n",
        "*   **random_names** = Chọn một tên ngẫu nhiên từ danh sách tên và thực hiện điều này n lần.\n",
        "\n",
        "\n",
        "\n",
        "\n",
        "\n"
      ]
    },
    {
      "cell_type": "code",
      "metadata": {
        "id": "QYTkU52ESDjv"
      },
      "source": [
        "# Điều này sẽ đảm bảo các mẫu ngẫu nhiên bên dưới có thể được tái tạo. \n",
        "# Điều này có nghĩa là các mẫu ngẫu nhiên sẽ luôn giống hệt nhau.\n",
        "\n",
        "random.seed?"
      ],
      "execution_count": null,
      "outputs": []
    },
    {
      "cell_type": "code",
      "metadata": {
        "id": "DgCG68AwTwuA",
        "colab": {
          "base_uri": "https://localhost:8080/"
        },
        "outputId": "0c6ccfdc-6427-4d2d-b8c2-6afad7b8e80c"
      },
      "source": [
        "random.seed(500)\n",
        "random_names = [names[random.randint(low=0,high=len(names))] for i in range(1000)]\n",
        "\n",
        "# In 10 bản ghi đầu tiên\n",
        "random_names[:10]"
      ],
      "execution_count": null,
      "outputs": [
        {
          "output_type": "execute_result",
          "data": {
            "text/plain": [
              "['Mary',\n",
              " 'Jessica',\n",
              " 'Jessica',\n",
              " 'Bob',\n",
              " 'Jessica',\n",
              " 'Jessica',\n",
              " 'Jessica',\n",
              " 'Mary',\n",
              " 'Mary',\n",
              " 'Mary']"
            ]
          },
          "metadata": {
            "tags": []
          },
          "execution_count": 9
        }
      ]
    },
    {
      "cell_type": "markdown",
      "metadata": {
        "id": "TdyLZZJhT4j2"
      },
      "source": [
        "Tạo một số ngẫu nhiên từ 0 đến 1000\n"
      ]
    },
    {
      "cell_type": "code",
      "metadata": {
        "id": "7AcN6NddT7Cm",
        "colab": {
          "base_uri": "https://localhost:8080/"
        },
        "outputId": "b83b1aa5-07a1-4e6a-9cf8-cb1761efcb73"
      },
      "source": [
        "# Số lần sinh trên mỗi tên cho năm 1880\n",
        "births = [random.randint(low=0,high=1000) for i in range(1000)]\n",
        "births[:10]"
      ],
      "execution_count": null,
      "outputs": [
        {
          "output_type": "execute_result",
          "data": {
            "text/plain": [
              "[968, 155, 77, 578, 973, 124, 155, 403, 199, 191]"
            ]
          },
          "metadata": {
            "tags": []
          },
          "execution_count": 10
        }
      ]
    },
    {
      "cell_type": "markdown",
      "metadata": {
        "id": "oKtjyzehUIcu"
      },
      "source": [
        "Hợp nhất **names** và tập dữ liệu **births** bằng hàm **zip**."
      ]
    },
    {
      "cell_type": "code",
      "metadata": {
        "id": "barfmjlBUYPt",
        "colab": {
          "base_uri": "https://localhost:8080/"
        },
        "outputId": "575969a0-368f-4563-c243-0878d5995c56"
      },
      "source": [
        "BabyDataSet = list(zip(random_names,births))\n",
        "BabyDataSet[:10]"
      ],
      "execution_count": null,
      "outputs": [
        {
          "output_type": "execute_result",
          "data": {
            "text/plain": [
              "[('Mary', 968),\n",
              " ('Jessica', 155),\n",
              " ('Jessica', 77),\n",
              " ('Bob', 578),\n",
              " ('Jessica', 973),\n",
              " ('Jessica', 124),\n",
              " ('Jessica', 155),\n",
              " ('Mary', 403),\n",
              " ('Mary', 199),\n",
              " ('Mary', 191)]"
            ]
          },
          "metadata": {
            "tags": []
          },
          "execution_count": 11
        }
      ]
    },
    {
      "cell_type": "markdown",
      "metadata": {
        "id": "fxXkKt93UglO"
      },
      "source": [
        " Sử dụng thư viện **pandas** để xuất tập dữ liệu này thành tệp csv."
      ]
    },
    {
      "cell_type": "markdown",
      "metadata": {
        "id": "OmfQF78GUuF1"
      },
      "source": [
        "**df** sẽ là một đối tượng **DataFrame**. Bạn có thể nghĩ về đối tượng này chứa nội dung của BabyDataSet ở định dạng tương tự như bảng sql hoặc bảng tính excel. Chúng ta hãy xem nội dung bên trong **df** bên dưới."
      ]
    },
    {
      "cell_type": "code",
      "metadata": {
        "id": "3Sf5ZfwAUlDs",
        "colab": {
          "base_uri": "https://localhost:8080/",
          "height": 359
        },
        "outputId": "2a00ac62-7ce6-44fe-d41f-3f81f6f06832"
      },
      "source": [
        "df = pd.DataFrame(data = BabyDataSet, columns=['Names', 'Births'])\n",
        "df[:10]"
      ],
      "execution_count": null,
      "outputs": [
        {
          "output_type": "execute_result",
          "data": {
            "text/html": [
              "<div>\n",
              "<style scoped>\n",
              "    .dataframe tbody tr th:only-of-type {\n",
              "        vertical-align: middle;\n",
              "    }\n",
              "\n",
              "    .dataframe tbody tr th {\n",
              "        vertical-align: top;\n",
              "    }\n",
              "\n",
              "    .dataframe thead th {\n",
              "        text-align: right;\n",
              "    }\n",
              "</style>\n",
              "<table border=\"1\" class=\"dataframe\">\n",
              "  <thead>\n",
              "    <tr style=\"text-align: right;\">\n",
              "      <th></th>\n",
              "      <th>Names</th>\n",
              "      <th>Births</th>\n",
              "    </tr>\n",
              "  </thead>\n",
              "  <tbody>\n",
              "    <tr>\n",
              "      <th>0</th>\n",
              "      <td>Mary</td>\n",
              "      <td>968</td>\n",
              "    </tr>\n",
              "    <tr>\n",
              "      <th>1</th>\n",
              "      <td>Jessica</td>\n",
              "      <td>155</td>\n",
              "    </tr>\n",
              "    <tr>\n",
              "      <th>2</th>\n",
              "      <td>Jessica</td>\n",
              "      <td>77</td>\n",
              "    </tr>\n",
              "    <tr>\n",
              "      <th>3</th>\n",
              "      <td>Bob</td>\n",
              "      <td>578</td>\n",
              "    </tr>\n",
              "    <tr>\n",
              "      <th>4</th>\n",
              "      <td>Jessica</td>\n",
              "      <td>973</td>\n",
              "    </tr>\n",
              "    <tr>\n",
              "      <th>5</th>\n",
              "      <td>Jessica</td>\n",
              "      <td>124</td>\n",
              "    </tr>\n",
              "    <tr>\n",
              "      <th>6</th>\n",
              "      <td>Jessica</td>\n",
              "      <td>155</td>\n",
              "    </tr>\n",
              "    <tr>\n",
              "      <th>7</th>\n",
              "      <td>Mary</td>\n",
              "      <td>403</td>\n",
              "    </tr>\n",
              "    <tr>\n",
              "      <th>8</th>\n",
              "      <td>Mary</td>\n",
              "      <td>199</td>\n",
              "    </tr>\n",
              "    <tr>\n",
              "      <th>9</th>\n",
              "      <td>Mary</td>\n",
              "      <td>191</td>\n",
              "    </tr>\n",
              "  </tbody>\n",
              "</table>\n",
              "</div>"
            ],
            "text/plain": [
              "     Names  Births\n",
              "0     Mary     968\n",
              "1  Jessica     155\n",
              "2  Jessica      77\n",
              "3      Bob     578\n",
              "4  Jessica     973\n",
              "5  Jessica     124\n",
              "6  Jessica     155\n",
              "7     Mary     403\n",
              "8     Mary     199\n",
              "9     Mary     191"
            ]
          },
          "metadata": {
            "tags": []
          },
          "execution_count": 12
        }
      ]
    },
    {
      "cell_type": "markdown",
      "metadata": {
        "id": "jBlEuz0xVDX1"
      },
      "source": [
        "\n",
        "\n",
        "*   Xuất khung dữ liệu sang tệp văn bản. Chúng ta có thể đặt tên tệp là **Birth1880.txt**. Hàm **to_csv** sẽ được sử dụng để xuất. Tệp sẽ được lưu ở cùng một vị trí của sổ ghi chép trừ khi được chỉ định khác.\n",
        "\n"
      ]
    },
    {
      "cell_type": "markdown",
      "metadata": {
        "id": "TN2uT6arVSU9"
      },
      "source": [
        "Các tham số duy nhất chúng tôi sẽ sử dụng là **index** và **header**. Đặt các tham số này thành False sẽ ngăn không cho xuất tên index và header. Thay đổi giá trị của các tham số này để hiểu rõ hơn về việc sử dụng chúng."
      ]
    },
    {
      "cell_type": "code",
      "metadata": {
        "id": "PE0av5JsVddd"
      },
      "source": [
        "df.to_csv('births1880.txt',index=False,header=False)"
      ],
      "execution_count": null,
      "outputs": []
    },
    {
      "cell_type": "markdown",
      "metadata": {
        "id": "JmA22m3AVhqN"
      },
      "source": [
        "**Get Data**"
      ]
    },
    {
      "cell_type": "markdown",
      "metadata": {
        "id": "4FlN8r-pVmyV"
      },
      "source": [
        "Để kéo tệp văn bản vào, chúng ta sẽ sử dụng hàm pandas read_csv. Hãy để chúng tôi xem xét chức năng này và những gì đầu vào của nó."
      ]
    },
    {
      "cell_type": "code",
      "metadata": {
        "id": "hk4CMT3WVLe9"
      },
      "source": [
        "df.to_csv?"
      ],
      "execution_count": null,
      "outputs": []
    },
    {
      "cell_type": "markdown",
      "metadata": {
        "id": "TL3M4taHV4-d"
      },
      "source": [
        "Mặc dù các hàm này có nhiều tham số, chúng ta sẽ chỉ chuyển nó vào vị trí của tệp văn bản."
      ]
    },
    {
      "cell_type": "markdown",
      "metadata": {
        "id": "Tsv_U6q1V6kl"
      },
      "source": [
        "Location = /content/births1880.txt"
      ]
    },
    {
      "cell_type": "code",
      "metadata": {
        "id": "Gh8_SXRdV-5F"
      },
      "source": [
        "Location = r'/content/births1880.txt'\n",
        "df = pd.read_csv(Location)"
      ],
      "execution_count": null,
      "outputs": []
    },
    {
      "cell_type": "markdown",
      "metadata": {
        "id": "wJCQGzD7WL7M"
      },
      "source": [
        "Chú ý đến **r** trước chuỗi. Vì các dấu gạch chéo là các ký tự đặc biệt, tiền tố của chuỗi bằng một **r** sẽ thoát khỏi toàn bộ chuỗi."
      ]
    },
    {
      "cell_type": "code",
      "metadata": {
        "id": "wlRLAbMtWXtg",
        "colab": {
          "base_uri": "https://localhost:8080/"
        },
        "outputId": "6e8fe65b-8000-413d-9080-1a2bbec7a9b6"
      },
      "source": [
        "df.info()"
      ],
      "execution_count": null,
      "outputs": [
        {
          "output_type": "stream",
          "text": [
            "<class 'pandas.core.frame.DataFrame'>\n",
            "RangeIndex: 999 entries, 0 to 998\n",
            "Data columns (total 2 columns):\n",
            " #   Column  Non-Null Count  Dtype \n",
            "---  ------  --------------  ----- \n",
            " 0   Mary    999 non-null    object\n",
            " 1   968     999 non-null    int64 \n",
            "dtypes: int64(1), object(1)\n",
            "memory usage: 15.7+ KB\n"
          ],
          "name": "stdout"
        }
      ]
    },
    {
      "cell_type": "markdown",
      "metadata": {
        "id": "sroDSo8tWcNN"
      },
      "source": [
        "**Thông tin cho biết:**"
      ]
    },
    {
      "cell_type": "markdown",
      "metadata": {
        "id": "Pop81cEkWhje"
      },
      "source": [
        "\n",
        "\n",
        "*   Có **999** bản ghi trong tập dữ liệu\n",
        "\n",
        "*   Có một cột tên là **Mary** với giá trị 999\n",
        "*   Có một cột tên là **968** với 999 giá trị\n",
        "\n",
        "\n",
        "*   Trong số hai cột, một cột là số, cột kia không phải là số\n",
        "\n"
      ]
    },
    {
      "cell_type": "markdown",
      "metadata": {
        "id": "KRinxApwXC0A"
      },
      "source": [
        "Để thực sự xem nội dung của khung dữ liệu, chúng ta có thể sử dụng hàm **head()** theo mặc định sẽ trả về năm bản ghi đầu tiên. Bạn cũng có thể chuyển một số n để trả về n bản ghi trên cùng của khung dữ liệu."
      ]
    },
    {
      "cell_type": "code",
      "metadata": {
        "id": "24rr7IJ0XH5d",
        "colab": {
          "base_uri": "https://localhost:8080/",
          "height": 204
        },
        "outputId": "6faf00c8-9fb1-4673-a913-32cd42bcc9b0"
      },
      "source": [
        "df.head()"
      ],
      "execution_count": null,
      "outputs": [
        {
          "output_type": "execute_result",
          "data": {
            "text/html": [
              "<div>\n",
              "<style scoped>\n",
              "    .dataframe tbody tr th:only-of-type {\n",
              "        vertical-align: middle;\n",
              "    }\n",
              "\n",
              "    .dataframe tbody tr th {\n",
              "        vertical-align: top;\n",
              "    }\n",
              "\n",
              "    .dataframe thead th {\n",
              "        text-align: right;\n",
              "    }\n",
              "</style>\n",
              "<table border=\"1\" class=\"dataframe\">\n",
              "  <thead>\n",
              "    <tr style=\"text-align: right;\">\n",
              "      <th></th>\n",
              "      <th>Mary</th>\n",
              "      <th>968</th>\n",
              "    </tr>\n",
              "  </thead>\n",
              "  <tbody>\n",
              "    <tr>\n",
              "      <th>0</th>\n",
              "      <td>Jessica</td>\n",
              "      <td>155</td>\n",
              "    </tr>\n",
              "    <tr>\n",
              "      <th>1</th>\n",
              "      <td>Jessica</td>\n",
              "      <td>77</td>\n",
              "    </tr>\n",
              "    <tr>\n",
              "      <th>2</th>\n",
              "      <td>Bob</td>\n",
              "      <td>578</td>\n",
              "    </tr>\n",
              "    <tr>\n",
              "      <th>3</th>\n",
              "      <td>Jessica</td>\n",
              "      <td>973</td>\n",
              "    </tr>\n",
              "    <tr>\n",
              "      <th>4</th>\n",
              "      <td>Jessica</td>\n",
              "      <td>124</td>\n",
              "    </tr>\n",
              "  </tbody>\n",
              "</table>\n",
              "</div>"
            ],
            "text/plain": [
              "      Mary  968\n",
              "0  Jessica  155\n",
              "1  Jessica   77\n",
              "2      Bob  578\n",
              "3  Jessica  973\n",
              "4  Jessica  124"
            ]
          },
          "metadata": {
            "tags": []
          },
          "execution_count": 17
        }
      ]
    },
    {
      "cell_type": "markdown",
      "metadata": {
        "id": "8nHkHNwsXPxF"
      },
      "source": [
        "Điều này đưa chúng ta đến vấn đề đầu tiên của bài tập. Hàm **read_csv** coi bản ghi đầu tiên trong tệp văn bản là tên tiêu đề. Điều này rõ ràng là không chính xác vì tệp văn bản không cung cấp cho chúng tôi tên tiêu đề."
      ]
    },
    {
      "cell_type": "markdown",
      "metadata": {
        "id": "ZzaZy_HiXb_M"
      },
      "source": [
        "Để sửa lỗi này, chúng tôi sẽ chuyển tham số **header** cho hàm read_csv và đặt nó thành **None** (có nghĩa là null trong python)."
      ]
    },
    {
      "cell_type": "code",
      "metadata": {
        "id": "7tuT8CUvXlOM",
        "colab": {
          "base_uri": "https://localhost:8080/"
        },
        "outputId": "51246560-2940-4bae-b4ac-6869db29599b"
      },
      "source": [
        "df = pd.read_csv(Location, header=None)\n",
        "df.info()"
      ],
      "execution_count": null,
      "outputs": [
        {
          "output_type": "stream",
          "text": [
            "<class 'pandas.core.frame.DataFrame'>\n",
            "RangeIndex: 1000 entries, 0 to 999\n",
            "Data columns (total 2 columns):\n",
            " #   Column  Non-Null Count  Dtype \n",
            "---  ------  --------------  ----- \n",
            " 0   0       1000 non-null   object\n",
            " 1   1       1000 non-null   int64 \n",
            "dtypes: int64(1), object(1)\n",
            "memory usage: 15.8+ KB\n"
          ],
          "name": "stdout"
        }
      ]
    },
    {
      "cell_type": "markdown",
      "metadata": {
        "id": "-TjQgRcPXtg0"
      },
      "source": [
        "\n",
        "**Thông tin bây giờ cho biết:**"
      ]
    },
    {
      "cell_type": "markdown",
      "metadata": {
        "id": "tF4gs7q1XvjM"
      },
      "source": [
        "\n",
        "\n",
        "*   Có **1000** bản ghi trong tập dữ liệu\n",
        "\n",
        "*   Có một cột tên **0** với 1000 giá trị\n",
        "*   Có một cột tên là **1** với 1000 giá trị\n",
        "\n",
        "\n",
        "*   Trong số hai cột, một cột là số, cột kia không phải là số\n",
        "\n"
      ]
    },
    {
      "cell_type": "markdown",
      "metadata": {
        "id": "GamT2BsFYDXk"
      },
      "source": [
        "\n",
        "Bây giờ chúng ta hãy xem năm bản ghi cuối cùng của khung dữ liệu"
      ]
    },
    {
      "cell_type": "code",
      "metadata": {
        "id": "K14L-nyxYEaU",
        "colab": {
          "base_uri": "https://localhost:8080/",
          "height": 204
        },
        "outputId": "54b9edab-f7ac-4211-fdf8-d21cc6bef621"
      },
      "source": [
        "df.tail()"
      ],
      "execution_count": null,
      "outputs": [
        {
          "output_type": "execute_result",
          "data": {
            "text/html": [
              "<div>\n",
              "<style scoped>\n",
              "    .dataframe tbody tr th:only-of-type {\n",
              "        vertical-align: middle;\n",
              "    }\n",
              "\n",
              "    .dataframe tbody tr th {\n",
              "        vertical-align: top;\n",
              "    }\n",
              "\n",
              "    .dataframe thead th {\n",
              "        text-align: right;\n",
              "    }\n",
              "</style>\n",
              "<table border=\"1\" class=\"dataframe\">\n",
              "  <thead>\n",
              "    <tr style=\"text-align: right;\">\n",
              "      <th></th>\n",
              "      <th>0</th>\n",
              "      <th>1</th>\n",
              "    </tr>\n",
              "  </thead>\n",
              "  <tbody>\n",
              "    <tr>\n",
              "      <th>995</th>\n",
              "      <td>John</td>\n",
              "      <td>151</td>\n",
              "    </tr>\n",
              "    <tr>\n",
              "      <th>996</th>\n",
              "      <td>Jessica</td>\n",
              "      <td>511</td>\n",
              "    </tr>\n",
              "    <tr>\n",
              "      <th>997</th>\n",
              "      <td>John</td>\n",
              "      <td>756</td>\n",
              "    </tr>\n",
              "    <tr>\n",
              "      <th>998</th>\n",
              "      <td>Jessica</td>\n",
              "      <td>294</td>\n",
              "    </tr>\n",
              "    <tr>\n",
              "      <th>999</th>\n",
              "      <td>John</td>\n",
              "      <td>152</td>\n",
              "    </tr>\n",
              "  </tbody>\n",
              "</table>\n",
              "</div>"
            ],
            "text/plain": [
              "           0    1\n",
              "995     John  151\n",
              "996  Jessica  511\n",
              "997     John  756\n",
              "998  Jessica  294\n",
              "999     John  152"
            ]
          },
          "metadata": {
            "tags": []
          },
          "execution_count": 19
        }
      ]
    },
    {
      "cell_type": "markdown",
      "metadata": {
        "id": "YigQhVCfYMCU"
      },
      "source": [
        "\n",
        "Nếu chúng ta muốn đặt tên cụ thể cho các cột, chúng ta sẽ phải chuyển một tham số khác được gọi là **names**. Chúng ta cũng có thể bỏ qua tham số header."
      ]
    },
    {
      "cell_type": "code",
      "metadata": {
        "id": "1Su9T88BYVE8",
        "colab": {
          "base_uri": "https://localhost:8080/",
          "height": 204
        },
        "outputId": "a288314f-703d-420d-ed9b-d9e07f9216c3"
      },
      "source": [
        "df = pd.read_csv(Location, names=['Names','Births'])\n",
        "df.head(5)"
      ],
      "execution_count": null,
      "outputs": [
        {
          "output_type": "execute_result",
          "data": {
            "text/html": [
              "<div>\n",
              "<style scoped>\n",
              "    .dataframe tbody tr th:only-of-type {\n",
              "        vertical-align: middle;\n",
              "    }\n",
              "\n",
              "    .dataframe tbody tr th {\n",
              "        vertical-align: top;\n",
              "    }\n",
              "\n",
              "    .dataframe thead th {\n",
              "        text-align: right;\n",
              "    }\n",
              "</style>\n",
              "<table border=\"1\" class=\"dataframe\">\n",
              "  <thead>\n",
              "    <tr style=\"text-align: right;\">\n",
              "      <th></th>\n",
              "      <th>Names</th>\n",
              "      <th>Births</th>\n",
              "    </tr>\n",
              "  </thead>\n",
              "  <tbody>\n",
              "    <tr>\n",
              "      <th>0</th>\n",
              "      <td>Mary</td>\n",
              "      <td>968</td>\n",
              "    </tr>\n",
              "    <tr>\n",
              "      <th>1</th>\n",
              "      <td>Jessica</td>\n",
              "      <td>155</td>\n",
              "    </tr>\n",
              "    <tr>\n",
              "      <th>2</th>\n",
              "      <td>Jessica</td>\n",
              "      <td>77</td>\n",
              "    </tr>\n",
              "    <tr>\n",
              "      <th>3</th>\n",
              "      <td>Bob</td>\n",
              "      <td>578</td>\n",
              "    </tr>\n",
              "    <tr>\n",
              "      <th>4</th>\n",
              "      <td>Jessica</td>\n",
              "      <td>973</td>\n",
              "    </tr>\n",
              "  </tbody>\n",
              "</table>\n",
              "</div>"
            ],
            "text/plain": [
              "     Names  Births\n",
              "0     Mary     968\n",
              "1  Jessica     155\n",
              "2  Jessica      77\n",
              "3      Bob     578\n",
              "4  Jessica     973"
            ]
          },
          "metadata": {
            "tags": []
          },
          "execution_count": 20
        }
      ]
    },
    {
      "cell_type": "markdown",
      "metadata": {
        "id": "wryBaId5YZTs"
      },
      "source": [
        "\n",
        "Bạn có thể coi các số [0,1,2,3,4, ...] là số hàng trong tệp Excel. Ở gấu trúc, chúng là một phần của **index** của khung dữ liệu. Bạn có thể coi index là khóa chính của bảng sql với ngoại lệ là index được phép có các bản sao."
      ]
    },
    {
      "cell_type": "markdown",
      "metadata": {
        "id": "AyObwHfWYoZr"
      },
      "source": [
        "**[Names, Births]** có thể là header cột tương tự như tiêu đề cột được tìm thấy trong bảng tính Excel hoặc cơ sở dữ liệu sql."
      ]
    },
    {
      "cell_type": "markdown",
      "metadata": {
        "id": "TRfHOSZyYwKM"
      },
      "source": [
        "\n",
        "Xóa tệp txt bây giờ chúng ta đã sử dụng xong."
      ]
    },
    {
      "cell_type": "code",
      "metadata": {
        "id": "Yie-XU_FYxCE"
      },
      "source": [
        "import os\n",
        "os.remove(Location)"
      ],
      "execution_count": null,
      "outputs": []
    },
    {
      "cell_type": "markdown",
      "metadata": {
        "id": "lc3j3maLY3Ob"
      },
      "source": [
        "**Prepare Data**"
      ]
    },
    {
      "cell_type": "markdown",
      "metadata": {
        "id": "Yy1LJkXuY7BT"
      },
      "source": [
        "  \n",
        "Dữ liệu chúng tôi có bao gồm tên em bé và số lần sinh vào năm 1880. Chúng tôi đã biết rằng chúng tôi có 1.000 bản ghi và không bản ghi nào bị thiếu (giá trị không rỗng). Chúng tôi có thể xác minh cột \"Names\" vẫn chỉ có năm tên duy nhất."
      ]
    },
    {
      "cell_type": "markdown",
      "metadata": {
        "id": "0tWGVlt3ZFdE"
      },
      "source": [
        "Chúng ta có thể sử dụng thuộc tính **unipue** của khung dữ liệu để tìm tất cả các bản ghi duy nhất của cột \"Names\"."
      ]
    },
    {
      "cell_type": "code",
      "metadata": {
        "id": "seoEXW5LZOWs",
        "colab": {
          "base_uri": "https://localhost:8080/"
        },
        "outputId": "7daa80b0-2b7a-4665-dee4-6a8612a54700"
      },
      "source": [
        "# Method 1:\n",
        "df['Names'].unique()"
      ],
      "execution_count": null,
      "outputs": [
        {
          "output_type": "execute_result",
          "data": {
            "text/plain": [
              "array(['Mary', 'Jessica', 'Bob', 'John', 'Mel'], dtype=object)"
            ]
          },
          "metadata": {
            "tags": []
          },
          "execution_count": 23
        }
      ]
    },
    {
      "cell_type": "code",
      "metadata": {
        "id": "TfgiBivZZRQM",
        "colab": {
          "base_uri": "https://localhost:8080/"
        },
        "outputId": "e1419efa-951f-402a-ff0f-1599f7bb8cdd"
      },
      "source": [
        "# Nếu bạn thực sự muốn in các giá trị duy nhất:\n",
        "for x in df['Names'].unique():\n",
        "    print(x)"
      ],
      "execution_count": null,
      "outputs": [
        {
          "output_type": "stream",
          "text": [
            "Mary\n",
            "Jessica\n",
            "Bob\n",
            "John\n",
            "Mel\n"
          ],
          "name": "stdout"
        }
      ]
    },
    {
      "cell_type": "code",
      "metadata": {
        "id": "c206Qp1TZW8D",
        "colab": {
          "base_uri": "https://localhost:8080/"
        },
        "outputId": "46edc893-2862-48b7-eb80-5e8218c98bd9"
      },
      "source": [
        "# Method 2:\n",
        "print(df['Names'].describe())"
      ],
      "execution_count": null,
      "outputs": [
        {
          "output_type": "stream",
          "text": [
            "count     1000\n",
            "unique       5\n",
            "top        Bob\n",
            "freq       206\n",
            "Name: Names, dtype: object\n"
          ],
          "name": "stdout"
        }
      ]
    },
    {
      "cell_type": "markdown",
      "metadata": {
        "id": "wtY00M6jZdHM"
      },
      "source": [
        "\n",
        "Khi chúng ta có nhiều giá trị cho mỗi tên con, chúng tôi cần tổng hợp dữ liệu này để chúng tôi chỉ có một tên con xuất hiện một lần. Điều này có nghĩa là 1.000 hàng sẽ cần trở thành 5. Chúng ta có thể thực hiện điều này bằng cách sử dụng hàm groupby."
      ]
    },
    {
      "cell_type": "code",
      "metadata": {
        "id": "n47J-GbUZieL"
      },
      "source": [
        "df.groupby?"
      ],
      "execution_count": null,
      "outputs": []
    },
    {
      "cell_type": "code",
      "metadata": {
        "id": "fbR0TDpNZlX-",
        "colab": {
          "base_uri": "https://localhost:8080/",
          "height": 235
        },
        "outputId": "a49b1732-9acc-4275-ff8b-3cfb51e44328"
      },
      "source": [
        "# Tạo một đối tượng theo nhóm\n",
        "name = df.groupby('Names')\n",
        "\n",
        "# Áp dụng hàm sum cho đối tượng theo nhóm\n",
        "df = name.sum()\n",
        "df"
      ],
      "execution_count": null,
      "outputs": [
        {
          "output_type": "execute_result",
          "data": {
            "text/html": [
              "<div>\n",
              "<style scoped>\n",
              "    .dataframe tbody tr th:only-of-type {\n",
              "        vertical-align: middle;\n",
              "    }\n",
              "\n",
              "    .dataframe tbody tr th {\n",
              "        vertical-align: top;\n",
              "    }\n",
              "\n",
              "    .dataframe thead th {\n",
              "        text-align: right;\n",
              "    }\n",
              "</style>\n",
              "<table border=\"1\" class=\"dataframe\">\n",
              "  <thead>\n",
              "    <tr style=\"text-align: right;\">\n",
              "      <th></th>\n",
              "      <th>Births</th>\n",
              "    </tr>\n",
              "    <tr>\n",
              "      <th>Names</th>\n",
              "      <th></th>\n",
              "    </tr>\n",
              "  </thead>\n",
              "  <tbody>\n",
              "    <tr>\n",
              "      <th>Bob</th>\n",
              "      <td>106817</td>\n",
              "    </tr>\n",
              "    <tr>\n",
              "      <th>Jessica</th>\n",
              "      <td>97826</td>\n",
              "    </tr>\n",
              "    <tr>\n",
              "      <th>John</th>\n",
              "      <td>90705</td>\n",
              "    </tr>\n",
              "    <tr>\n",
              "      <th>Mary</th>\n",
              "      <td>99438</td>\n",
              "    </tr>\n",
              "    <tr>\n",
              "      <th>Mel</th>\n",
              "      <td>102319</td>\n",
              "    </tr>\n",
              "  </tbody>\n",
              "</table>\n",
              "</div>"
            ],
            "text/plain": [
              "         Births\n",
              "Names          \n",
              "Bob      106817\n",
              "Jessica   97826\n",
              "John      90705\n",
              "Mary      99438\n",
              "Mel      102319"
            ]
          },
          "metadata": {
            "tags": []
          },
          "execution_count": 27
        }
      ]
    },
    {
      "cell_type": "markdown",
      "metadata": {
        "id": "d4BcxfvhZu2c"
      },
      "source": [
        "**Analyze Data**"
      ]
    },
    {
      "cell_type": "markdown",
      "metadata": {
        "id": "yphhNf3BZxBs"
      },
      "source": [
        "Để tìm tên phổ biến nhất hoặc tên trẻ có tỷ lệ sinh cao nhất, chúng ta có thể thực hiện một trong các thao tác sau.\n",
        "\n",
        "*   Sắp xếp khung dữ liệu và chọn hàng trên cùng\n",
        "*   Sử dụng thuộc tính max() để tìm giá trị lớn nhất\n",
        "\n"
      ]
    },
    {
      "cell_type": "code",
      "metadata": {
        "id": "QDXYgG2CaAZr",
        "colab": {
          "base_uri": "https://localhost:8080/",
          "height": 111
        },
        "outputId": "ada69f38-056e-41b1-a95f-9424976d03f2"
      },
      "source": [
        "# Method 1:\n",
        "Sorted = df.sort_values(['Births'], ascending=False)\n",
        "Sorted.head(1)"
      ],
      "execution_count": null,
      "outputs": [
        {
          "output_type": "execute_result",
          "data": {
            "text/html": [
              "<div>\n",
              "<style scoped>\n",
              "    .dataframe tbody tr th:only-of-type {\n",
              "        vertical-align: middle;\n",
              "    }\n",
              "\n",
              "    .dataframe tbody tr th {\n",
              "        vertical-align: top;\n",
              "    }\n",
              "\n",
              "    .dataframe thead th {\n",
              "        text-align: right;\n",
              "    }\n",
              "</style>\n",
              "<table border=\"1\" class=\"dataframe\">\n",
              "  <thead>\n",
              "    <tr style=\"text-align: right;\">\n",
              "      <th></th>\n",
              "      <th>Births</th>\n",
              "    </tr>\n",
              "    <tr>\n",
              "      <th>Names</th>\n",
              "      <th></th>\n",
              "    </tr>\n",
              "  </thead>\n",
              "  <tbody>\n",
              "    <tr>\n",
              "      <th>Bob</th>\n",
              "      <td>106817</td>\n",
              "    </tr>\n",
              "  </tbody>\n",
              "</table>\n",
              "</div>"
            ],
            "text/plain": [
              "       Births\n",
              "Names        \n",
              "Bob    106817"
            ]
          },
          "metadata": {
            "tags": []
          },
          "execution_count": 28
        }
      ]
    },
    {
      "cell_type": "code",
      "metadata": {
        "id": "wjWK3Pj2aC0s",
        "colab": {
          "base_uri": "https://localhost:8080/"
        },
        "outputId": "06697afc-4f6a-49f4-8f40-13f3d24ff154"
      },
      "source": [
        "# Method 2:\n",
        "df['Births'].max()"
      ],
      "execution_count": null,
      "outputs": [
        {
          "output_type": "execute_result",
          "data": {
            "text/plain": [
              "106817"
            ]
          },
          "metadata": {
            "tags": []
          },
          "execution_count": 29
        }
      ]
    },
    {
      "cell_type": "markdown",
      "metadata": {
        "id": "AxCxYYeNaGM7"
      },
      "source": [
        "**Present Data**"
      ]
    },
    {
      "cell_type": "markdown",
      "metadata": {
        "id": "1qVi6-c2aRMU"
      },
      "source": [
        "Tại đây chúng ta có thể vẽ biểu đồ cột **Births** và gắn nhãn biểu đồ để hiển thị cho người dùng cuối điểm cao nhất trên biểu đồ. Kết hợp với bảng, người dùng cuối có một bức tranh rõ ràng rằng **Bob** là tên em bé phổ biến nhất trong tập dữ liệu."
      ]
    },
    {
      "cell_type": "code",
      "metadata": {
        "id": "N4b8tqRIabYS",
        "colab": {
          "base_uri": "https://localhost:8080/",
          "height": 538
        },
        "outputId": "03ae98a9-5e2c-4633-ca4e-fcf2b2ebe821"
      },
      "source": [
        "# Tạo đồ thị\n",
        "df['Births'].plot.bar()\n",
        "\n",
        "print(\"The most popular name\")\n",
        "df.sort_values(by='Births', ascending=False)"
      ],
      "execution_count": null,
      "outputs": [
        {
          "output_type": "stream",
          "text": [
            "The most popular name\n"
          ],
          "name": "stdout"
        },
        {
          "output_type": "execute_result",
          "data": {
            "text/html": [
              "<div>\n",
              "<style scoped>\n",
              "    .dataframe tbody tr th:only-of-type {\n",
              "        vertical-align: middle;\n",
              "    }\n",
              "\n",
              "    .dataframe tbody tr th {\n",
              "        vertical-align: top;\n",
              "    }\n",
              "\n",
              "    .dataframe thead th {\n",
              "        text-align: right;\n",
              "    }\n",
              "</style>\n",
              "<table border=\"1\" class=\"dataframe\">\n",
              "  <thead>\n",
              "    <tr style=\"text-align: right;\">\n",
              "      <th></th>\n",
              "      <th>Births</th>\n",
              "    </tr>\n",
              "    <tr>\n",
              "      <th>Names</th>\n",
              "      <th></th>\n",
              "    </tr>\n",
              "  </thead>\n",
              "  <tbody>\n",
              "    <tr>\n",
              "      <th>Bob</th>\n",
              "      <td>106817</td>\n",
              "    </tr>\n",
              "    <tr>\n",
              "      <th>Mel</th>\n",
              "      <td>102319</td>\n",
              "    </tr>\n",
              "    <tr>\n",
              "      <th>Mary</th>\n",
              "      <td>99438</td>\n",
              "    </tr>\n",
              "    <tr>\n",
              "      <th>Jessica</th>\n",
              "      <td>97826</td>\n",
              "    </tr>\n",
              "    <tr>\n",
              "      <th>John</th>\n",
              "      <td>90705</td>\n",
              "    </tr>\n",
              "  </tbody>\n",
              "</table>\n",
              "</div>"
            ],
            "text/plain": [
              "         Births\n",
              "Names          \n",
              "Bob      106817\n",
              "Mel      102319\n",
              "Mary      99438\n",
              "Jessica   97826\n",
              "John      90705"
            ]
          },
          "metadata": {
            "tags": []
          },
          "execution_count": 30
        },
        {
          "output_type": "display_data",
          "data": {
            "image/png": "[encoded data removed]",
            "text/plain": [
              "<Figure size 432x288 with 1 Axes>"
            ]
          },
          "metadata": {
            "tags": [],
            "needs_background": "light"
          }
        }
      ]
    }
  ]
}