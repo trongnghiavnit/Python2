{
  "nbformat": 4,
  "nbformat_minor": 0,
  "metadata": {
    "colab": {
      "name": "Baituan2_bai3.ipynb",
      "provenance": [],
      "collapsed_sections": []
    },
    "kernelspec": {
      "name": "python3",
      "display_name": "Python 3"
    }
  },
  "cells": [
    {
      "cell_type": "code",
      "metadata": {
        "id": "d-ZMkvWMqidx"
      },
      "source": [
        "import pandas as pd\n",
        "import matplotlib.pyplot as plt\n",
        "import seaborn as sns\n",
        "from sklearn import tree\n",
        "from sklearn.metrics import accuracy_score\n",
        "\n",
        "# Figures inline and set visualization style\n",
        "%matplotlib inline\n",
        "sns.set()"
      ],
      "execution_count": 1,
      "outputs": []
    },
    {
      "cell_type": "code",
      "metadata": {
        "id": "FF5vf5pxxhB6"
      },
      "source": [
        "df_train = pd.read_csv('/content/train.csv')\n",
        "df_test = pd.read_csv('/content/test.csv')\n",
        "\n",
        "# View first lines of training data\n",
        "df_train.head(n=4)"
      ],
      "execution_count": null,
      "outputs": []
    },
    {
      "cell_type": "code",
      "metadata": {
        "id": "et4rUvACxoWh"
      },
      "source": [
        "df_test.head()"
      ],
      "execution_count": null,
      "outputs": []
    },
    {
      "cell_type": "code",
      "metadata": {
        "id": "u1F7hOAux0Sz"
      },
      "source": [
        "df_train.info()"
      ],
      "execution_count": null,
      "outputs": []
    },
    {
      "cell_type": "code",
      "metadata": {
        "id": "wErXqyWIx3fi"
      },
      "source": [
        "df_train.describe()"
      ],
      "execution_count": null,
      "outputs": []
    },
    {
      "cell_type": "code",
      "metadata": {
        "id": "OXryJZHEyJls"
      },
      "source": [
        "sns.countplot(x='Survived', data=df_train);"
      ],
      "execution_count": null,
      "outputs": []
    },
    {
      "cell_type": "code",
      "metadata": {
        "id": "gHPcoZ0EyVKB"
      },
      "source": [
        "df_test['Survived'] = 0\n",
        "df_test[['PassengerId', 'Survived']].to_csv('no_survivors.csv', index=False)"
      ],
      "execution_count": 8,
      "outputs": []
    },
    {
      "cell_type": "code",
      "metadata": {
        "id": "z3BrE5gVypUM"
      },
      "source": [
        "sns.countplot(x='Sex', data=df_train);"
      ],
      "execution_count": null,
      "outputs": []
    },
    {
      "cell_type": "code",
      "metadata": {
        "id": "SXxv77zzyue6"
      },
      "source": [
        "sns.factorplot(x='Survived', col='Sex', kind='count', data=df_train);"
      ],
      "execution_count": null,
      "outputs": []
    },
    {
      "cell_type": "code",
      "metadata": {
        "id": "QG5sPvkRy5Mg"
      },
      "source": [
        "df_train.groupby(['Sex']).Survived.sum()"
      ],
      "execution_count": null,
      "outputs": []
    },
    {
      "cell_type": "code",
      "metadata": {
        "id": "MU3g2LK5y96B"
      },
      "source": [
        "print(df_train[df_train.Sex == 'female'].Survived.sum()/df_train[df_train.Sex == 'female'].Survived.count())\n",
        "print(df_train[df_train.Sex == 'male'].Survived.sum()/df_train[df_train.Sex == 'male'].Survived.count())"
      ],
      "execution_count": null,
      "outputs": []
    },
    {
      "cell_type": "code",
      "metadata": {
        "id": "o8HSuH3kzB87"
      },
      "source": [
        "df_test['Survived'] = df_test.Sex == 'female'\n",
        "df_test['Survived'] = df_test.Survived.apply(lambda x: int(x))\n",
        "df_test.head()"
      ],
      "execution_count": null,
      "outputs": []
    },
    {
      "cell_type": "code",
      "metadata": {
        "id": "hcxDLi9ozFe4"
      },
      "source": [
        "df_test[['PassengerId', 'Survived']].to_csv('women_survive.csv', index=False)"
      ],
      "execution_count": 14,
      "outputs": []
    },
    {
      "cell_type": "code",
      "metadata": {
        "id": "sgZYQ3S6zWlP"
      },
      "source": [
        "sns.factorplot(x='Survived', col='Pclass', kind='count', data=df_train);"
      ],
      "execution_count": null,
      "outputs": []
    },
    {
      "cell_type": "code",
      "metadata": {
        "id": "AeWklUDiza05"
      },
      "source": [
        "sns.factorplot(x='Survived', col='Embarked', kind='count', data=df_train);"
      ],
      "execution_count": null,
      "outputs": []
    },
    {
      "cell_type": "code",
      "metadata": {
        "id": "sLX33Ts7zqmC"
      },
      "source": [
        "sns.distplot(df_train.Fare, kde=False);"
      ],
      "execution_count": null,
      "outputs": []
    },
    {
      "cell_type": "code",
      "metadata": {
        "id": "jnEi5bYP5oEI"
      },
      "source": [
        "df_train.groupby('Survived').Fare.hist(alpha=0.6);"
      ],
      "execution_count": null,
      "outputs": []
    },
    {
      "cell_type": "code",
      "metadata": {
        "id": "AsArbiEo3x_D"
      },
      "source": [
        "df_train_drop = df_train.dropna()\n",
        "sns.distplot(df_train_drop.Age, kde=False);"
      ],
      "execution_count": null,
      "outputs": []
    },
    {
      "cell_type": "code",
      "metadata": {
        "id": "5p-Q3ZGz5vir"
      },
      "source": [
        "sns.stripplot(x='Survived', y='Fare', data=df_train, alpha=0.3, jitter=True);"
      ],
      "execution_count": null,
      "outputs": []
    },
    {
      "cell_type": "code",
      "metadata": {
        "id": "OfsgMM4P5yb4"
      },
      "source": [
        "sns.swarmplot(x='Survived', y='Fare', data=df_train);"
      ],
      "execution_count": null,
      "outputs": []
    },
    {
      "cell_type": "code",
      "metadata": {
        "id": "uwgOhIsU52OZ"
      },
      "source": [
        "df_train.groupby('Survived').Fare.describe()"
      ],
      "execution_count": null,
      "outputs": []
    },
    {
      "cell_type": "code",
      "metadata": {
        "id": "c0Dgxz0x5443"
      },
      "source": [
        "sns.lmplot(x='Age', y='Fare', hue='Survived', data=df_train, fit_reg=False, scatter_kws={'alpha':0.5});"
      ],
      "execution_count": null,
      "outputs": []
    },
    {
      "cell_type": "code",
      "metadata": {
        "id": "IPKMGVcL583h"
      },
      "source": [
        "sns.pairplot(df_train_drop, hue='Survived');"
      ],
      "execution_count": null,
      "outputs": []
    }
  ]
}