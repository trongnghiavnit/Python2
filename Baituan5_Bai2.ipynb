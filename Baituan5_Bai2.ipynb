{
  "nbformat": 4,
  "nbformat_minor": 0,
  "metadata": {
    "colab": {
      "name": "bai2_tuan6.ipynb",
      "provenance": [],
      "collapsed_sections": []
    },
    "kernelspec": {
      "name": "python3",
      "display_name": "Python 3"
    }
  },
  "cells": [
    {
      "cell_type": "code",
      "metadata": {
        "id": "5Mjkz1IKRxQ4"
      },
      "source": [
        "import pandas as pd\n",
        "import numpy as np\n",
        "from sklearn import preprocessing\n",
        "import matplotlib.pyplot as plt \n",
        "plt.rc(\"font\", size=14)\n",
        "from sklearn.linear_model import LogisticRegression\n",
        "from sklearn.model_selection import train_test_split\n",
        "import seaborn as sns\n",
        "sns.set(style=\"white\")\n",
        "sns.set(style=\"whitegrid\", color_codes=True)"
      ],
      "execution_count": null,
      "outputs": []
    },
    {
      "cell_type": "code",
      "metadata": {
        "colab": {
          "base_uri": "https://localhost:8080/"
        },
        "id": "XtXl0pAuR1am",
        "outputId": "767640e4-b345-40f7-cf4b-1aa40523fc41"
      },
      "source": [
        "data = pd.read_csv(\"banking.csv\", header=0)\n",
        "data = data.dropna()\n",
        "print(data.shape)\n",
        "print(list(data.columns))"
      ],
      "execution_count": null,
      "outputs": [
        {
          "output_type": "stream",
          "text": [
            "(8840, 21)\n",
            "['age', 'job', 'marital', 'education', 'default', 'housing', 'loan', 'contact', 'month', 'day_of_week', 'duration', 'campaign', 'pdays', 'previous', 'poutcome', 'emp_var_rate', 'cons_price_idx', 'cons_conf_idx', 'euribor3m', 'nr_employed', 'y']\n"
          ],
          "name": "stdout"
        }
      ]
    },
    {
      "cell_type": "code",
      "metadata": {
        "colab": {
          "base_uri": "https://localhost:8080/",
          "height": 224
        },
        "id": "K-DEkoNDSh07",
        "outputId": "9967feb4-c365-4a4b-beb1-438d6a03c4c0"
      },
      "source": [
        "data.head()"
      ],
      "execution_count": null,
      "outputs": [
        {
          "output_type": "execute_result",
          "data": {
            "text/html": [
              "<div>\n",
              "<style scoped>\n",
              "    .dataframe tbody tr th:only-of-type {\n",
              "        vertical-align: middle;\n",
              "    }\n",
              "\n",
              "    .dataframe tbody tr th {\n",
              "        vertical-align: top;\n",
              "    }\n",
              "\n",
              "    .dataframe thead th {\n",
              "        text-align: right;\n",
              "    }\n",
              "</style>\n",
              "<table border=\"1\" class=\"dataframe\">\n",
              "  <thead>\n",
              "    <tr style=\"text-align: right;\">\n",
              "      <th></th>\n",
              "      <th>age</th>\n",
              "      <th>job</th>\n",
              "      <th>marital</th>\n",
              "      <th>education</th>\n",
              "      <th>default</th>\n",
              "      <th>housing</th>\n",
              "      <th>loan</th>\n",
              "      <th>contact</th>\n",
              "      <th>month</th>\n",
              "      <th>day_of_week</th>\n",
              "      <th>duration</th>\n",
              "      <th>campaign</th>\n",
              "      <th>pdays</th>\n",
              "      <th>previous</th>\n",
              "      <th>poutcome</th>\n",
              "      <th>emp_var_rate</th>\n",
              "      <th>cons_price_idx</th>\n",
              "      <th>cons_conf_idx</th>\n",
              "      <th>euribor3m</th>\n",
              "      <th>nr_employed</th>\n",
              "      <th>y</th>\n",
              "    </tr>\n",
              "  </thead>\n",
              "  <tbody>\n",
              "    <tr>\n",
              "      <th>0</th>\n",
              "      <td>44</td>\n",
              "      <td>blue-collar</td>\n",
              "      <td>married</td>\n",
              "      <td>basic.4y</td>\n",
              "      <td>unknown</td>\n",
              "      <td>yes</td>\n",
              "      <td>no</td>\n",
              "      <td>cellular</td>\n",
              "      <td>aug</td>\n",
              "      <td>thu</td>\n",
              "      <td>210</td>\n",
              "      <td>1</td>\n",
              "      <td>999</td>\n",
              "      <td>0</td>\n",
              "      <td>nonexistent</td>\n",
              "      <td>1.4</td>\n",
              "      <td>93.444</td>\n",
              "      <td>-36.1</td>\n",
              "      <td>4.963</td>\n",
              "      <td>5228.1</td>\n",
              "      <td>0.0</td>\n",
              "    </tr>\n",
              "    <tr>\n",
              "      <th>1</th>\n",
              "      <td>53</td>\n",
              "      <td>technician</td>\n",
              "      <td>married</td>\n",
              "      <td>unknown</td>\n",
              "      <td>no</td>\n",
              "      <td>no</td>\n",
              "      <td>no</td>\n",
              "      <td>cellular</td>\n",
              "      <td>nov</td>\n",
              "      <td>fri</td>\n",
              "      <td>138</td>\n",
              "      <td>1</td>\n",
              "      <td>999</td>\n",
              "      <td>0</td>\n",
              "      <td>nonexistent</td>\n",
              "      <td>-0.1</td>\n",
              "      <td>93.200</td>\n",
              "      <td>-42.0</td>\n",
              "      <td>4.021</td>\n",
              "      <td>5195.8</td>\n",
              "      <td>0.0</td>\n",
              "    </tr>\n",
              "    <tr>\n",
              "      <th>2</th>\n",
              "      <td>28</td>\n",
              "      <td>management</td>\n",
              "      <td>single</td>\n",
              "      <td>university.degree</td>\n",
              "      <td>no</td>\n",
              "      <td>yes</td>\n",
              "      <td>no</td>\n",
              "      <td>cellular</td>\n",
              "      <td>jun</td>\n",
              "      <td>thu</td>\n",
              "      <td>339</td>\n",
              "      <td>3</td>\n",
              "      <td>6</td>\n",
              "      <td>2</td>\n",
              "      <td>success</td>\n",
              "      <td>-1.7</td>\n",
              "      <td>94.055</td>\n",
              "      <td>-39.8</td>\n",
              "      <td>0.729</td>\n",
              "      <td>4991.6</td>\n",
              "      <td>1.0</td>\n",
              "    </tr>\n",
              "    <tr>\n",
              "      <th>3</th>\n",
              "      <td>39</td>\n",
              "      <td>services</td>\n",
              "      <td>married</td>\n",
              "      <td>high.school</td>\n",
              "      <td>no</td>\n",
              "      <td>no</td>\n",
              "      <td>no</td>\n",
              "      <td>cellular</td>\n",
              "      <td>apr</td>\n",
              "      <td>fri</td>\n",
              "      <td>185</td>\n",
              "      <td>2</td>\n",
              "      <td>999</td>\n",
              "      <td>0</td>\n",
              "      <td>nonexistent</td>\n",
              "      <td>-1.8</td>\n",
              "      <td>93.075</td>\n",
              "      <td>-47.1</td>\n",
              "      <td>1.405</td>\n",
              "      <td>5099.1</td>\n",
              "      <td>0.0</td>\n",
              "    </tr>\n",
              "    <tr>\n",
              "      <th>4</th>\n",
              "      <td>55</td>\n",
              "      <td>retired</td>\n",
              "      <td>married</td>\n",
              "      <td>basic.4y</td>\n",
              "      <td>no</td>\n",
              "      <td>yes</td>\n",
              "      <td>no</td>\n",
              "      <td>cellular</td>\n",
              "      <td>aug</td>\n",
              "      <td>fri</td>\n",
              "      <td>137</td>\n",
              "      <td>1</td>\n",
              "      <td>3</td>\n",
              "      <td>1</td>\n",
              "      <td>success</td>\n",
              "      <td>-2.9</td>\n",
              "      <td>92.201</td>\n",
              "      <td>-31.4</td>\n",
              "      <td>0.869</td>\n",
              "      <td>5076.2</td>\n",
              "      <td>1.0</td>\n",
              "    </tr>\n",
              "  </tbody>\n",
              "</table>\n",
              "</div>"
            ],
            "text/plain": [
              "   age          job  marital  ... euribor3m nr_employed    y\n",
              "0   44  blue-collar  married  ...     4.963      5228.1  0.0\n",
              "1   53   technician  married  ...     4.021      5195.8  0.0\n",
              "2   28   management   single  ...     0.729      4991.6  1.0\n",
              "3   39     services  married  ...     1.405      5099.1  0.0\n",
              "4   55      retired  married  ...     0.869      5076.2  1.0\n",
              "\n",
              "[5 rows x 21 columns]"
            ]
          },
          "metadata": {
            "tags": []
          },
          "execution_count": 4
        }
      ]
    },
    {
      "cell_type": "code",
      "metadata": {
        "colab": {
          "base_uri": "https://localhost:8080/"
        },
        "id": "k9INhdE2S6nV",
        "outputId": "372089f2-037a-4c6c-9a1b-81516e60bd24"
      },
      "source": [
        "data[\"education\"].unique()"
      ],
      "execution_count": null,
      "outputs": [
        {
          "output_type": "execute_result",
          "data": {
            "text/plain": [
              "array(['basic.4y', 'unknown', 'university.degree', 'high.school',\n",
              "       'basic.9y', 'professional.course', 'basic.6y', 'illiterate'],\n",
              "      dtype=object)"
            ]
          },
          "metadata": {
            "tags": []
          },
          "execution_count": 5
        }
      ]
    },
    {
      "cell_type": "code",
      "metadata": {
        "id": "lpNd6656TPq9"
      },
      "source": [
        "data['education']=np.where(data['education'] =='basic.9y', 'Basic', data['education'])\n",
        "data['education']=np.where(data['education'] =='basic.6y', 'Basic', data['education'])\n",
        "data['education']=np.where(data['education'] =='basic.4y', 'Basic', data['education'])"
      ],
      "execution_count": null,
      "outputs": []
    },
    {
      "cell_type": "code",
      "metadata": {
        "colab": {
          "base_uri": "https://localhost:8080/"
        },
        "id": "KsUhqQhBTjIk",
        "outputId": "d71b527c-5259-4314-da5b-29a5f3aa0c2c"
      },
      "source": [
        "data[\"education\"].unique()"
      ],
      "execution_count": null,
      "outputs": [
        {
          "output_type": "execute_result",
          "data": {
            "text/plain": [
              "array(['Basic', 'unknown', 'university.degree', 'high.school',\n",
              "       'professional.course', 'illiterate'], dtype=object)"
            ]
          },
          "metadata": {
            "tags": []
          },
          "execution_count": 7
        }
      ]
    },
    {
      "cell_type": "code",
      "metadata": {
        "colab": {
          "base_uri": "https://localhost:8080/"
        },
        "id": "b_dtaOPXTopz",
        "outputId": "955276da-d347-4e10-d9f5-e9ecbf45c8da"
      },
      "source": [
        "data[\"y\"].value_counts()"
      ],
      "execution_count": null,
      "outputs": [
        {
          "output_type": "execute_result",
          "data": {
            "text/plain": [
              "0.0    7843\n",
              "1.0     997\n",
              "Name: y, dtype: int64"
            ]
          },
          "metadata": {
            "tags": []
          },
          "execution_count": 8
        }
      ]
    },
    {
      "cell_type": "code",
      "metadata": {
        "colab": {
          "base_uri": "https://localhost:8080/",
          "height": 302
        },
        "id": "sg2jf-_2T3f0",
        "outputId": "1c19b3e6-0096-428f-ca07-28717d556c08"
      },
      "source": [
        "sns.countplot(x=\"y\", data=data, palette=\"hls\")\n",
        "plt.show()\n",
        "plt.savefig(\"count_plot\")"
      ],
      "execution_count": null,
      "outputs": [
        {
          "output_type": "display_data",
          "data": {
            "image/png": "[encoded data removed]",
            "text/plain": [
              "<Figure size 432x288 with 1 Axes>"
            ]
          },
          "metadata": {
            "tags": [],
            "needs_background": "light"
          }
        },
        {
          "output_type": "display_data",
          "data": {
            "text/plain": [
              "<Figure size 432x288 with 0 Axes>"
            ]
          },
          "metadata": {
            "tags": []
          }
        }
      ]
    },
    {
      "cell_type": "code",
      "metadata": {
        "colab": {
          "base_uri": "https://localhost:8080/"
        },
        "id": "dsaUkoGZUPhk",
        "outputId": "6bf6180e-8ae8-4bd5-ccd8-c25e23d01b60"
      },
      "source": [
        "count_no_sub = len(data[data['y']==0])\n",
        "count_sub = len(data[data['y']==1])\n",
        "pct_of_no_sub = count_no_sub/(count_no_sub+count_sub)\n",
        "print(\"percentage of no subscription is\", pct_of_no_sub*100)\n",
        "pct_of_sub = count_sub/(count_no_sub+count_sub)\n",
        "print(\"percentage of subscription\", pct_of_sub*100)"
      ],
      "execution_count": null,
      "outputs": [
        {
          "output_type": "stream",
          "text": [
            "percentage of no subscription is 88.72171945701356\n",
            "percentage of subscription 11.278280542986426\n"
          ],
          "name": "stdout"
        }
      ]
    },
    {
      "cell_type": "code",
      "metadata": {
        "colab": {
          "base_uri": "https://localhost:8080/",
          "height": 142
        },
        "id": "Gk3OOZrGUTUE",
        "outputId": "52140731-6dc0-428a-8d2e-dacd69ce75bf"
      },
      "source": [
        "data.groupby(\"y\").mean()"
      ],
      "execution_count": null,
      "outputs": [
        {
          "output_type": "execute_result",
          "data": {
            "text/html": [
              "<div>\n",
              "<style scoped>\n",
              "    .dataframe tbody tr th:only-of-type {\n",
              "        vertical-align: middle;\n",
              "    }\n",
              "\n",
              "    .dataframe tbody tr th {\n",
              "        vertical-align: top;\n",
              "    }\n",
              "\n",
              "    .dataframe thead th {\n",
              "        text-align: right;\n",
              "    }\n",
              "</style>\n",
              "<table border=\"1\" class=\"dataframe\">\n",
              "  <thead>\n",
              "    <tr style=\"text-align: right;\">\n",
              "      <th></th>\n",
              "      <th>age</th>\n",
              "      <th>duration</th>\n",
              "      <th>campaign</th>\n",
              "      <th>pdays</th>\n",
              "      <th>previous</th>\n",
              "      <th>emp_var_rate</th>\n",
              "      <th>cons_price_idx</th>\n",
              "      <th>cons_conf_idx</th>\n",
              "      <th>euribor3m</th>\n",
              "      <th>nr_employed</th>\n",
              "    </tr>\n",
              "    <tr>\n",
              "      <th>y</th>\n",
              "      <th></th>\n",
              "      <th></th>\n",
              "      <th></th>\n",
              "      <th></th>\n",
              "      <th></th>\n",
              "      <th></th>\n",
              "      <th></th>\n",
              "      <th></th>\n",
              "      <th></th>\n",
              "      <th></th>\n",
              "    </tr>\n",
              "  </thead>\n",
              "  <tbody>\n",
              "    <tr>\n",
              "      <th>0.0</th>\n",
              "      <td>39.775469</td>\n",
              "      <td>221.331888</td>\n",
              "      <td>2.636364</td>\n",
              "      <td>983.69374</td>\n",
              "      <td>0.135662</td>\n",
              "      <td>0.250312</td>\n",
              "      <td>93.606047</td>\n",
              "      <td>-40.642012</td>\n",
              "      <td>3.806136</td>\n",
              "      <td>5176.142560</td>\n",
              "    </tr>\n",
              "    <tr>\n",
              "      <th>1.0</th>\n",
              "      <td>40.413240</td>\n",
              "      <td>542.130391</td>\n",
              "      <td>2.012036</td>\n",
              "      <td>793.89669</td>\n",
              "      <td>0.509529</td>\n",
              "      <td>-1.261886</td>\n",
              "      <td>93.377747</td>\n",
              "      <td>-40.076830</td>\n",
              "      <td>2.076707</td>\n",
              "      <td>5092.090471</td>\n",
              "    </tr>\n",
              "  </tbody>\n",
              "</table>\n",
              "</div>"
            ],
            "text/plain": [
              "           age    duration  campaign  ...  cons_conf_idx  euribor3m  nr_employed\n",
              "y                                     ...                                       \n",
              "0.0  39.775469  221.331888  2.636364  ...     -40.642012   3.806136  5176.142560\n",
              "1.0  40.413240  542.130391  2.012036  ...     -40.076830   2.076707  5092.090471\n",
              "\n",
              "[2 rows x 10 columns]"
            ]
          },
          "metadata": {
            "tags": []
          },
          "execution_count": 11
        }
      ]
    },
    {
      "cell_type": "code",
      "metadata": {
        "colab": {
          "base_uri": "https://localhost:8080/",
          "height": 452
        },
        "id": "MgkkB0S4Ua1U",
        "outputId": "d3161175-f677-456e-c808-32614fc2a76f"
      },
      "source": [
        "data.groupby(\"job\").mean()"
      ],
      "execution_count": null,
      "outputs": [
        {
          "output_type": "execute_result",
          "data": {
            "text/html": [
              "<div>\n",
              "<style scoped>\n",
              "    .dataframe tbody tr th:only-of-type {\n",
              "        vertical-align: middle;\n",
              "    }\n",
              "\n",
              "    .dataframe tbody tr th {\n",
              "        vertical-align: top;\n",
              "    }\n",
              "\n",
              "    .dataframe thead th {\n",
              "        text-align: right;\n",
              "    }\n",
              "</style>\n",
              "<table border=\"1\" class=\"dataframe\">\n",
              "  <thead>\n",
              "    <tr style=\"text-align: right;\">\n",
              "      <th></th>\n",
              "      <th>age</th>\n",
              "      <th>duration</th>\n",
              "      <th>campaign</th>\n",
              "      <th>pdays</th>\n",
              "      <th>previous</th>\n",
              "      <th>emp_var_rate</th>\n",
              "      <th>cons_price_idx</th>\n",
              "      <th>cons_conf_idx</th>\n",
              "      <th>euribor3m</th>\n",
              "      <th>nr_employed</th>\n",
              "      <th>y</th>\n",
              "    </tr>\n",
              "    <tr>\n",
              "      <th>job</th>\n",
              "      <th></th>\n",
              "      <th></th>\n",
              "      <th></th>\n",
              "      <th></th>\n",
              "      <th></th>\n",
              "      <th></th>\n",
              "      <th></th>\n",
              "      <th></th>\n",
              "      <th></th>\n",
              "      <th></th>\n",
              "      <th></th>\n",
              "    </tr>\n",
              "  </thead>\n",
              "  <tbody>\n",
              "    <tr>\n",
              "      <th>admin.</th>\n",
              "      <td>37.978752</td>\n",
              "      <td>252.000885</td>\n",
              "      <td>2.561753</td>\n",
              "      <td>953.752988</td>\n",
              "      <td>0.195219</td>\n",
              "      <td>0.018282</td>\n",
              "      <td>93.541397</td>\n",
              "      <td>-40.417530</td>\n",
              "      <td>3.542137</td>\n",
              "      <td>5163.703320</td>\n",
              "      <td>0.132802</td>\n",
              "    </tr>\n",
              "    <tr>\n",
              "      <th>blue-collar</th>\n",
              "      <td>39.410825</td>\n",
              "      <td>262.131959</td>\n",
              "      <td>2.610309</td>\n",
              "      <td>986.208247</td>\n",
              "      <td>0.121134</td>\n",
              "      <td>0.221856</td>\n",
              "      <td>93.654556</td>\n",
              "      <td>-41.479948</td>\n",
              "      <td>3.731928</td>\n",
              "      <td>5174.827423</td>\n",
              "      <td>0.072165</td>\n",
              "    </tr>\n",
              "    <tr>\n",
              "      <th>entrepreneur</th>\n",
              "      <td>41.768489</td>\n",
              "      <td>265.842444</td>\n",
              "      <td>2.700965</td>\n",
              "      <td>973.498392</td>\n",
              "      <td>0.147910</td>\n",
              "      <td>0.167524</td>\n",
              "      <td>93.626675</td>\n",
              "      <td>-41.037299</td>\n",
              "      <td>3.813347</td>\n",
              "      <td>5175.028939</td>\n",
              "      <td>0.086817</td>\n",
              "    </tr>\n",
              "    <tr>\n",
              "      <th>housemaid</th>\n",
              "      <td>45.217391</td>\n",
              "      <td>273.772947</td>\n",
              "      <td>2.632850</td>\n",
              "      <td>979.811594</td>\n",
              "      <td>0.106280</td>\n",
              "      <td>0.431401</td>\n",
              "      <td>93.677454</td>\n",
              "      <td>-40.024155</td>\n",
              "      <td>3.985609</td>\n",
              "      <td>5180.124638</td>\n",
              "      <td>0.111111</td>\n",
              "    </tr>\n",
              "    <tr>\n",
              "      <th>management</th>\n",
              "      <td>42.101190</td>\n",
              "      <td>240.269345</td>\n",
              "      <td>2.452381</td>\n",
              "      <td>953.162202</td>\n",
              "      <td>0.220238</td>\n",
              "      <td>-0.068601</td>\n",
              "      <td>93.492238</td>\n",
              "      <td>-40.271131</td>\n",
              "      <td>3.563732</td>\n",
              "      <td>5164.906101</td>\n",
              "      <td>0.108631</td>\n",
              "    </tr>\n",
              "    <tr>\n",
              "      <th>retired</th>\n",
              "      <td>61.332402</td>\n",
              "      <td>270.773743</td>\n",
              "      <td>2.391061</td>\n",
              "      <td>907.424581</td>\n",
              "      <td>0.321229</td>\n",
              "      <td>-0.545251</td>\n",
              "      <td>93.464651</td>\n",
              "      <td>-38.637709</td>\n",
              "      <td>2.927159</td>\n",
              "      <td>5129.662570</td>\n",
              "      <td>0.256983</td>\n",
              "    </tr>\n",
              "    <tr>\n",
              "      <th>self-employed</th>\n",
              "      <td>39.570533</td>\n",
              "      <td>278.197492</td>\n",
              "      <td>2.833856</td>\n",
              "      <td>974.084639</td>\n",
              "      <td>0.181818</td>\n",
              "      <td>0.013480</td>\n",
              "      <td>93.549492</td>\n",
              "      <td>-40.775549</td>\n",
              "      <td>3.608959</td>\n",
              "      <td>5167.512226</td>\n",
              "      <td>0.100313</td>\n",
              "    </tr>\n",
              "    <tr>\n",
              "      <th>services</th>\n",
              "      <td>38.071596</td>\n",
              "      <td>251.097418</td>\n",
              "      <td>2.529343</td>\n",
              "      <td>983.853286</td>\n",
              "      <td>0.127934</td>\n",
              "      <td>0.212441</td>\n",
              "      <td>93.656453</td>\n",
              "      <td>-41.250822</td>\n",
              "      <td>3.735918</td>\n",
              "      <td>5172.817606</td>\n",
              "      <td>0.078638</td>\n",
              "    </tr>\n",
              "    <tr>\n",
              "      <th>student</th>\n",
              "      <td>26.108696</td>\n",
              "      <td>294.358696</td>\n",
              "      <td>2.114130</td>\n",
              "      <td>858.945652</td>\n",
              "      <td>0.510870</td>\n",
              "      <td>-1.373370</td>\n",
              "      <td>93.360179</td>\n",
              "      <td>-40.844022</td>\n",
              "      <td>1.872668</td>\n",
              "      <td>5084.396196</td>\n",
              "      <td>0.342391</td>\n",
              "    </tr>\n",
              "    <tr>\n",
              "      <th>technician</th>\n",
              "      <td>38.437372</td>\n",
              "      <td>259.430527</td>\n",
              "      <td>2.581109</td>\n",
              "      <td>961.679671</td>\n",
              "      <td>0.170431</td>\n",
              "      <td>0.269336</td>\n",
              "      <td>93.564827</td>\n",
              "      <td>-39.936413</td>\n",
              "      <td>3.798256</td>\n",
              "      <td>5174.563587</td>\n",
              "      <td>0.101985</td>\n",
              "    </tr>\n",
              "    <tr>\n",
              "      <th>unemployed</th>\n",
              "      <td>39.329949</td>\n",
              "      <td>244.294416</td>\n",
              "      <td>2.781726</td>\n",
              "      <td>938.497462</td>\n",
              "      <td>0.167513</td>\n",
              "      <td>-0.065990</td>\n",
              "      <td>93.627934</td>\n",
              "      <td>-40.141117</td>\n",
              "      <td>3.492010</td>\n",
              "      <td>5156.149746</td>\n",
              "      <td>0.111675</td>\n",
              "    </tr>\n",
              "    <tr>\n",
              "      <th>unknown</th>\n",
              "      <td>45.400000</td>\n",
              "      <td>210.775000</td>\n",
              "      <td>2.200000</td>\n",
              "      <td>887.137500</td>\n",
              "      <td>0.275000</td>\n",
              "      <td>0.252500</td>\n",
              "      <td>93.686925</td>\n",
              "      <td>-38.402500</td>\n",
              "      <td>3.883000</td>\n",
              "      <td>5167.107500</td>\n",
              "      <td>0.112500</td>\n",
              "    </tr>\n",
              "  </tbody>\n",
              "</table>\n",
              "</div>"
            ],
            "text/plain": [
              "                     age    duration  ...  nr_employed         y\n",
              "job                                   ...                       \n",
              "admin.         37.978752  252.000885  ...  5163.703320  0.132802\n",
              "blue-collar    39.410825  262.131959  ...  5174.827423  0.072165\n",
              "entrepreneur   41.768489  265.842444  ...  5175.028939  0.086817\n",
              "housemaid      45.217391  273.772947  ...  5180.124638  0.111111\n",
              "management     42.101190  240.269345  ...  5164.906101  0.108631\n",
              "retired        61.332402  270.773743  ...  5129.662570  0.256983\n",
              "self-employed  39.570533  278.197492  ...  5167.512226  0.100313\n",
              "services       38.071596  251.097418  ...  5172.817606  0.078638\n",
              "student        26.108696  294.358696  ...  5084.396196  0.342391\n",
              "technician     38.437372  259.430527  ...  5174.563587  0.101985\n",
              "unemployed     39.329949  244.294416  ...  5156.149746  0.111675\n",
              "unknown        45.400000  210.775000  ...  5167.107500  0.112500\n",
              "\n",
              "[12 rows x 11 columns]"
            ]
          },
          "metadata": {
            "tags": []
          },
          "execution_count": 12
        }
      ]
    },
    {
      "cell_type": "code",
      "metadata": {
        "colab": {
          "base_uri": "https://localhost:8080/",
          "height": 204
        },
        "id": "iK3JW8bWUgvU",
        "outputId": "d80c61cb-0ef5-4b55-ada5-eadbd86dd2de"
      },
      "source": [
        "data.groupby(\"marital\").mean()"
      ],
      "execution_count": null,
      "outputs": [
        {
          "output_type": "execute_result",
          "data": {
            "text/html": [
              "<div>\n",
              "<style scoped>\n",
              "    .dataframe tbody tr th:only-of-type {\n",
              "        vertical-align: middle;\n",
              "    }\n",
              "\n",
              "    .dataframe tbody tr th {\n",
              "        vertical-align: top;\n",
              "    }\n",
              "\n",
              "    .dataframe thead th {\n",
              "        text-align: right;\n",
              "    }\n",
              "</style>\n",
              "<table border=\"1\" class=\"dataframe\">\n",
              "  <thead>\n",
              "    <tr style=\"text-align: right;\">\n",
              "      <th></th>\n",
              "      <th>age</th>\n",
              "      <th>duration</th>\n",
              "      <th>campaign</th>\n",
              "      <th>pdays</th>\n",
              "      <th>previous</th>\n",
              "      <th>emp_var_rate</th>\n",
              "      <th>cons_price_idx</th>\n",
              "      <th>cons_conf_idx</th>\n",
              "      <th>euribor3m</th>\n",
              "      <th>nr_employed</th>\n",
              "      <th>y</th>\n",
              "    </tr>\n",
              "    <tr>\n",
              "      <th>marital</th>\n",
              "      <th></th>\n",
              "      <th></th>\n",
              "      <th></th>\n",
              "      <th></th>\n",
              "      <th></th>\n",
              "      <th></th>\n",
              "      <th></th>\n",
              "      <th></th>\n",
              "      <th></th>\n",
              "      <th></th>\n",
              "      <th></th>\n",
              "    </tr>\n",
              "  </thead>\n",
              "  <tbody>\n",
              "    <tr>\n",
              "      <th>divorced</th>\n",
              "      <td>44.582719</td>\n",
              "      <td>251.258166</td>\n",
              "      <td>2.569020</td>\n",
              "      <td>970.730242</td>\n",
              "      <td>0.182297</td>\n",
              "      <td>0.113172</td>\n",
              "      <td>93.584650</td>\n",
              "      <td>-40.895153</td>\n",
              "      <td>3.662192</td>\n",
              "      <td>5170.139410</td>\n",
              "      <td>0.101159</td>\n",
              "    </tr>\n",
              "    <tr>\n",
              "      <th>married</th>\n",
              "      <td>42.110112</td>\n",
              "      <td>259.428090</td>\n",
              "      <td>2.571910</td>\n",
              "      <td>966.465918</td>\n",
              "      <td>0.165918</td>\n",
              "      <td>0.181554</td>\n",
              "      <td>93.603672</td>\n",
              "      <td>-40.344438</td>\n",
              "      <td>3.733643</td>\n",
              "      <td>5171.292491</td>\n",
              "      <td>0.104682</td>\n",
              "    </tr>\n",
              "    <tr>\n",
              "      <th>single</th>\n",
              "      <td>33.326241</td>\n",
              "      <td>255.989362</td>\n",
              "      <td>2.552009</td>\n",
              "      <td>950.539795</td>\n",
              "      <td>0.200552</td>\n",
              "      <td>-0.144169</td>\n",
              "      <td>93.529425</td>\n",
              "      <td>-40.955319</td>\n",
              "      <td>3.336930</td>\n",
              "      <td>5155.786879</td>\n",
              "      <td>0.133964</td>\n",
              "    </tr>\n",
              "    <tr>\n",
              "      <th>unknown</th>\n",
              "      <td>37.846154</td>\n",
              "      <td>224.538462</td>\n",
              "      <td>2.615385</td>\n",
              "      <td>923.384615</td>\n",
              "      <td>0.307692</td>\n",
              "      <td>-0.453846</td>\n",
              "      <td>93.593769</td>\n",
              "      <td>-39.884615</td>\n",
              "      <td>3.061692</td>\n",
              "      <td>5134.538462</td>\n",
              "      <td>0.153846</td>\n",
              "    </tr>\n",
              "  </tbody>\n",
              "</table>\n",
              "</div>"
            ],
            "text/plain": [
              "                age    duration  campaign  ...  euribor3m  nr_employed         y\n",
              "marital                                    ...                                  \n",
              "divorced  44.582719  251.258166  2.569020  ...   3.662192  5170.139410  0.101159\n",
              "married   42.110112  259.428090  2.571910  ...   3.733643  5171.292491  0.104682\n",
              "single    33.326241  255.989362  2.552009  ...   3.336930  5155.786879  0.133964\n",
              "unknown   37.846154  224.538462  2.615385  ...   3.061692  5134.538462  0.153846\n",
              "\n",
              "[4 rows x 11 columns]"
            ]
          },
          "metadata": {
            "tags": []
          },
          "execution_count": 13
        }
      ]
    },
    {
      "cell_type": "code",
      "metadata": {
        "colab": {
          "base_uri": "https://localhost:8080/",
          "height": 266
        },
        "id": "s49XS-JMUmok",
        "outputId": "1b3a93b3-250a-4f6f-8e94-44774222a00c"
      },
      "source": [
        "data.groupby(\"education\").mean()"
      ],
      "execution_count": null,
      "outputs": [
        {
          "output_type": "execute_result",
          "data": {
            "text/html": [
              "<div>\n",
              "<style scoped>\n",
              "    .dataframe tbody tr th:only-of-type {\n",
              "        vertical-align: middle;\n",
              "    }\n",
              "\n",
              "    .dataframe tbody tr th {\n",
              "        vertical-align: top;\n",
              "    }\n",
              "\n",
              "    .dataframe thead th {\n",
              "        text-align: right;\n",
              "    }\n",
              "</style>\n",
              "<table border=\"1\" class=\"dataframe\">\n",
              "  <thead>\n",
              "    <tr style=\"text-align: right;\">\n",
              "      <th></th>\n",
              "      <th>age</th>\n",
              "      <th>duration</th>\n",
              "      <th>campaign</th>\n",
              "      <th>pdays</th>\n",
              "      <th>previous</th>\n",
              "      <th>emp_var_rate</th>\n",
              "      <th>cons_price_idx</th>\n",
              "      <th>cons_conf_idx</th>\n",
              "      <th>euribor3m</th>\n",
              "      <th>nr_employed</th>\n",
              "      <th>y</th>\n",
              "    </tr>\n",
              "    <tr>\n",
              "      <th>education</th>\n",
              "      <th></th>\n",
              "      <th></th>\n",
              "      <th></th>\n",
              "      <th></th>\n",
              "      <th></th>\n",
              "      <th></th>\n",
              "      <th></th>\n",
              "      <th></th>\n",
              "      <th></th>\n",
              "      <th></th>\n",
              "      <th></th>\n",
              "    </tr>\n",
              "  </thead>\n",
              "  <tbody>\n",
              "    <tr>\n",
              "      <th>Basic</th>\n",
              "      <td>42.003019</td>\n",
              "      <td>266.812075</td>\n",
              "      <td>2.601132</td>\n",
              "      <td>975.775472</td>\n",
              "      <td>0.139623</td>\n",
              "      <td>0.153019</td>\n",
              "      <td>93.635331</td>\n",
              "      <td>-40.971472</td>\n",
              "      <td>3.689068</td>\n",
              "      <td>5170.698151</td>\n",
              "      <td>0.093585</td>\n",
              "    </tr>\n",
              "    <tr>\n",
              "      <th>high.school</th>\n",
              "      <td>37.900049</td>\n",
              "      <td>255.898080</td>\n",
              "      <td>2.566716</td>\n",
              "      <td>967.266864</td>\n",
              "      <td>0.179714</td>\n",
              "      <td>0.078434</td>\n",
              "      <td>93.601077</td>\n",
              "      <td>-41.077006</td>\n",
              "      <td>3.587398</td>\n",
              "      <td>5166.107730</td>\n",
              "      <td>0.098966</td>\n",
              "    </tr>\n",
              "    <tr>\n",
              "      <th>illiterate</th>\n",
              "      <td>48.000000</td>\n",
              "      <td>482.500000</td>\n",
              "      <td>2.000000</td>\n",
              "      <td>999.000000</td>\n",
              "      <td>0.000000</td>\n",
              "      <td>-0.200000</td>\n",
              "      <td>93.259500</td>\n",
              "      <td>-41.600000</td>\n",
              "      <td>3.187000</td>\n",
              "      <td>5163.600000</td>\n",
              "      <td>0.500000</td>\n",
              "    </tr>\n",
              "    <tr>\n",
              "      <th>professional.course</th>\n",
              "      <td>40.142730</td>\n",
              "      <td>258.354610</td>\n",
              "      <td>2.597518</td>\n",
              "      <td>962.072695</td>\n",
              "      <td>0.160461</td>\n",
              "      <td>0.238298</td>\n",
              "      <td>93.570503</td>\n",
              "      <td>-40.061968</td>\n",
              "      <td>3.782045</td>\n",
              "      <td>5173.877660</td>\n",
              "      <td>0.109929</td>\n",
              "    </tr>\n",
              "    <tr>\n",
              "      <th>university.degree</th>\n",
              "      <td>38.628368</td>\n",
              "      <td>246.433009</td>\n",
              "      <td>2.513099</td>\n",
              "      <td>948.081587</td>\n",
              "      <td>0.213323</td>\n",
              "      <td>-0.061901</td>\n",
              "      <td>93.499510</td>\n",
              "      <td>-40.118750</td>\n",
              "      <td>3.482225</td>\n",
              "      <td>5160.970808</td>\n",
              "      <td>0.139222</td>\n",
              "    </tr>\n",
              "    <tr>\n",
              "      <th>unknown</th>\n",
              "      <td>43.070028</td>\n",
              "      <td>276.669468</td>\n",
              "      <td>2.599440</td>\n",
              "      <td>940.647059</td>\n",
              "      <td>0.240896</td>\n",
              "      <td>0.104482</td>\n",
              "      <td>93.691003</td>\n",
              "      <td>-39.887115</td>\n",
              "      <td>3.593669</td>\n",
              "      <td>5159.692437</td>\n",
              "      <td>0.142857</td>\n",
              "    </tr>\n",
              "  </tbody>\n",
              "</table>\n",
              "</div>"
            ],
            "text/plain": [
              "                           age    duration  ...  nr_employed         y\n",
              "education                                   ...                       \n",
              "Basic                42.003019  266.812075  ...  5170.698151  0.093585\n",
              "high.school          37.900049  255.898080  ...  5166.107730  0.098966\n",
              "illiterate           48.000000  482.500000  ...  5163.600000  0.500000\n",
              "professional.course  40.142730  258.354610  ...  5173.877660  0.109929\n",
              "university.degree    38.628368  246.433009  ...  5160.970808  0.139222\n",
              "unknown              43.070028  276.669468  ...  5159.692437  0.142857\n",
              "\n",
              "[6 rows x 11 columns]"
            ]
          },
          "metadata": {
            "tags": []
          },
          "execution_count": 14
        }
      ]
    },
    {
      "cell_type": "code",
      "metadata": {
        "colab": {
          "base_uri": "https://localhost:8080/",
          "height": 369
        },
        "id": "emi2q2HCUpP0",
        "outputId": "780f9791-e46c-47fb-97c5-f338faa6b802"
      },
      "source": [
        "%matplotlib inline\n",
        "pd.crosstab(data.job,data.y).plot(kind='bar')\n",
        "plt.title('Purchase Frequency for Job Title')\n",
        "plt.xlabel('Job')\n",
        "plt.ylabel('Frequency of Purchase')\n",
        "plt.savefig('purchase_fre_job')"
      ],
      "execution_count": null,
      "outputs": [
        {
          "output_type": "display_data",
          "data": {
            "image/png": "[encoded data removed]",
            "text/plain": [
              "<Figure size 432x288 with 1 Axes>"
            ]
          },
          "metadata": {
            "tags": [],
            "needs_background": "light"
          }
        }
      ]
    },
    {
      "cell_type": "code",
      "metadata": {
        "colab": {
          "base_uri": "https://localhost:8080/",
          "height": 341
        },
        "id": "XfU9t-JKUsOi",
        "outputId": "95b9a74a-2f58-46d4-9ef7-edf6edc3f4c3"
      },
      "source": [
        "table=pd.crosstab(data.marital,data.y)\n",
        "table.div(table.sum(1).astype(float), axis=0).plot(kind='bar', stacked=True)\n",
        "plt.title('Stacked Bar Chart of Marital Status vs Purchase')\n",
        "plt.xlabel('Marital Status')\n",
        "plt.ylabel('Proportion of Customers')\n",
        "plt.savefig('mariral_vs_pur_stack')"
      ],
      "execution_count": null,
      "outputs": [
        {
          "output_type": "display_data",
          "data": {
            "image/png": "[encoded data removed]",
            "text/plain": [
              "<Figure size 432x288 with 1 Axes>"
            ]
          },
          "metadata": {
            "tags": [],
            "needs_background": "light"
          }
        }
      ]
    },
    {
      "cell_type": "code",
      "metadata": {
        "colab": {
          "base_uri": "https://localhost:8080/",
          "height": 398
        },
        "id": "Vy3qRobOU1Mj",
        "outputId": "5484dde7-13e3-4730-b9ce-947461c8d072"
      },
      "source": [
        "table=pd.crosstab(data.education,data.y)\n",
        "table.div(table.sum(1).astype(float), axis=0).plot(kind='bar', stacked=True)\n",
        "plt.title('Stacked Bar Chart of Education vs Purchase')\n",
        "plt.xlabel('Education')\n",
        "plt.ylabel('Proportion of Customers')\n",
        "plt.savefig('edu_vs_pur_stack')"
      ],
      "execution_count": null,
      "outputs": [
        {
          "output_type": "display_data",
          "data": {
            "image/png": "[encoded data removed]",
            "text/plain": [
              "<Figure size 432x288 with 1 Axes>"
            ]
          },
          "metadata": {
            "tags": [],
            "needs_background": "light"
          }
        }
      ]
    },
    {
      "cell_type": "code",
      "metadata": {
        "colab": {
          "base_uri": "https://localhost:8080/",
          "height": 315
        },
        "id": "MvMVcoDxU3bz",
        "outputId": "12dcddb3-4db9-4c32-a39d-8ce5a5d9768e"
      },
      "source": [
        "pd.crosstab(data.day_of_week,data.y).plot(kind='bar')\n",
        "plt.title('Purchase Frequency for Day of Week')\n",
        "plt.xlabel('Day of Week')\n",
        "plt.ylabel('Frequency of Purchase')\n",
        "plt.savefig('pur_dayofweek_bar')"
      ],
      "execution_count": null,
      "outputs": [
        {
          "output_type": "display_data",
          "data": {
            "image/png": "[encoded data removed]",
            "text/plain": [
              "<Figure size 432x288 with 1 Axes>"
            ]
          },
          "metadata": {
            "tags": [],
            "needs_background": "light"
          }
        }
      ]
    },
    {
      "cell_type": "code",
      "metadata": {
        "colab": {
          "base_uri": "https://localhost:8080/",
          "height": 315
        },
        "id": "OB4x-jHlU5ej",
        "outputId": "64ed34e9-6bbe-4595-a859-4b3857d47888"
      },
      "source": [
        "pd.crosstab(data.month,data.y).plot(kind='bar')\n",
        "plt.title('Purchase Frequency for Month')\n",
        "plt.xlabel('Month')\n",
        "plt.ylabel('Frequency of Purchase')\n",
        "plt.savefig('pur_fre_month_bar')"
      ],
      "execution_count": null,
      "outputs": [
        {
          "output_type": "display_data",
          "data": {
            "image/png": "[encoded data removed]",
            "text/plain": [
              "<Figure size 432x288 with 1 Axes>"
            ]
          },
          "metadata": {
            "tags": [],
            "needs_background": "light"
          }
        }
      ]
    },
    {
      "cell_type": "code",
      "metadata": {
        "colab": {
          "base_uri": "https://localhost:8080/",
          "height": 301
        },
        "id": "7Pf-OpHmVDGD",
        "outputId": "a99e2aaf-48de-4193-bae8-8a55a99099ac"
      },
      "source": [
        "data.age.hist()\n",
        "plt.title('Histogram of Age')\n",
        "plt.xlabel('Age')\n",
        "plt.ylabel('Frequency')\n",
        "plt.savefig('hist_age')\n"
      ],
      "execution_count": null,
      "outputs": [
        {
          "output_type": "display_data",
          "data": {
            "image/png": "[encoded data removed]",
            "text/plain": [
              "<Figure size 432x288 with 1 Axes>"
            ]
          },
          "metadata": {
            "tags": [],
            "needs_background": "light"
          }
        }
      ]
    },
    {
      "cell_type": "code",
      "metadata": {
        "colab": {
          "base_uri": "https://localhost:8080/",
          "height": 356
        },
        "id": "hNqrv-jdVFDE",
        "outputId": "1805b107-1492-445f-80d7-f39c608276a6"
      },
      "source": [
        "pd.crosstab(data.poutcome,data.y).plot(kind='bar')\n",
        "plt.title('Purchase Frequency for Poutcome')\n",
        "plt.xlabel('Poutcome')\n",
        "plt.ylabel('Frequency of Purchase')\n",
        "plt.savefig('pur_fre_pout_bar')"
      ],
      "execution_count": null,
      "outputs": [
        {
          "output_type": "display_data",
          "data": {
            "image/png": "[encoded data removed]",
            "text/plain": [
              "<Figure size 432x288 with 1 Axes>"
            ]
          },
          "metadata": {
            "tags": [],
            "needs_background": "light"
          }
        }
      ]
    },
    {
      "cell_type": "code",
      "metadata": {
        "id": "5btnd7QHVG0j"
      },
      "source": [
        "cat_vars=['job','marital','education','default','housing','loan','contact','month','day_of_week','poutcome']\n",
        "for var in cat_vars:\n",
        "    cat_list='var'+'_'+var\n",
        "    cat_list = pd.get_dummies(data[var], prefix=var)\n",
        "    data1=data.join(cat_list)\n",
        "    data=data1\n",
        "cat_vars=['job','marital','education','default','housing','loan','contact','month','day_of_week','poutcome']\n",
        "data_vars=data.columns.values.tolist()\n",
        "to_keep=[i for i in data_vars if i not in cat_vars]"
      ],
      "execution_count": null,
      "outputs": []
    },
    {
      "cell_type": "code",
      "metadata": {
        "colab": {
          "base_uri": "https://localhost:8080/"
        },
        "id": "xIzRD__uVJOE",
        "outputId": "8eccfc35-8d4a-407e-e9e6-7b9dba023373"
      },
      "source": [
        "data_final=data[to_keep]\n",
        "data_final.columns.values"
      ],
      "execution_count": null,
      "outputs": [
        {
          "output_type": "execute_result",
          "data": {
            "text/plain": [
              "array(['age', 'duration', 'campaign', 'pdays', 'previous', 'emp_var_rate',\n",
              "       'cons_price_idx', 'cons_conf_idx', 'euribor3m', 'nr_employed', 'y',\n",
              "       'job_admin.', 'job_blue-collar', 'job_entrepreneur',\n",
              "       'job_housemaid', 'job_management', 'job_retired',\n",
              "       'job_self-employed', 'job_services', 'job_student',\n",
              "       'job_technician', 'job_unemployed', 'job_unknown',\n",
              "       'marital_divorced', 'marital_married', 'marital_single',\n",
              "       'marital_unknown', 'education_Basic', 'education_high.school',\n",
              "       'education_illiterate', 'education_professional.course',\n",
              "       'education_university.degree', 'education_unknown', 'default_no',\n",
              "       'default_unknown', 'default_yes', 'housing_no', 'housing_unknown',\n",
              "       'housing_yes', 'loan_no', 'loan_unknown', 'loan_yes',\n",
              "       'contact_cellular', 'contact_telephone', 'month_apr', 'month_aug',\n",
              "       'month_dec', 'month_jul', 'month_jun', 'month_mar', 'month_may',\n",
              "       'month_nov', 'month_oct', 'month_sep', 'day_of_week_fri',\n",
              "       'day_of_week_mon', 'day_of_week_thu', 'day_of_week_tue',\n",
              "       'day_of_week_wed', 'poutcome_failure', 'poutcome_nonexistent',\n",
              "       'poutcome_success'], dtype=object)"
            ]
          },
          "metadata": {
            "tags": []
          },
          "execution_count": 23
        }
      ]
    },
    {
      "cell_type": "code",
      "metadata": {
        "colab": {
          "base_uri": "https://localhost:8080/"
        },
        "id": "Qh6sxBzEVKvE",
        "outputId": "ea438ef4-dc4b-40cc-894d-270737ff81c8"
      },
      "source": [
        "X = data_final.loc[:, data_final.columns != 'y']\n",
        "y = data_final.loc[:, data_final.columns == 'y']\n",
        "from imblearn.over_sampling import SMOTE\n",
        "os = SMOTE(random_state=0)\n",
        "X_train, X_test, y_train, y_test = train_test_split(X, y, test_size=0.3, random_state=0)\n",
        "columns = X_train.columns\n",
        "os_data_X,os_data_y=os.fit_sample(X_train, y_train)\n",
        "os_data_X = pd.DataFrame(data=os_data_X,columns=columns )\n",
        "os_data_y= pd.DataFrame(data=os_data_y,columns=['y'])\n",
        "# we can Check the numbers of our data\n",
        "print(\"length of oversampled data is \",len(os_data_X))\n",
        "print(\"Number of no subscription in oversampled data\",len(os_data_y[os_data_y['y']==0]))\n",
        "print(\"Number of subscription\",len(os_data_y[os_data_y['y']==1]))\n",
        "print(\"Proportion of no subscription data in oversampled data is \",len(os_data_y[os_data_y['y']==0])/len(os_data_X))\n",
        "print(\"Proportion of subscription data in oversampled data is \",len(os_data_y[os_data_y['y']==1])/len(os_data_X))"
      ],
      "execution_count": null,
      "outputs": [
        {
          "output_type": "stream",
          "text": [
            "length of oversampled data is  10994\n",
            "Number of no subscription in oversampled data 5497\n",
            "Number of subscription 5497\n",
            "Proportion of no subscription data in oversampled data is  0.5\n",
            "Proportion of subscription data in oversampled data is  0.5\n"
          ],
          "name": "stdout"
        },
        {
          "output_type": "stream",
          "text": [
            "/usr/local/lib/python3.6/dist-packages/sklearn/externals/six.py:31: FutureWarning: The module is deprecated in version 0.21 and will be removed in version 0.23 since we've dropped support for Python 2.7. Please rely on the official version of six (https://pypi.org/project/six/).\n",
            "  \"(https://pypi.org/project/six/).\", FutureWarning)\n",
            "/usr/local/lib/python3.6/dist-packages/sklearn/utils/deprecation.py:144: FutureWarning: The sklearn.neighbors.base module is  deprecated in version 0.22 and will be removed in version 0.24. The corresponding classes / functions should instead be imported from sklearn.neighbors. Anything that cannot be imported from sklearn.neighbors is now part of the private API.\n",
            "  warnings.warn(message, FutureWarning)\n",
            "/usr/local/lib/python3.6/dist-packages/sklearn/utils/validation.py:760: DataConversionWarning: A column-vector y was passed when a 1d array was expected. Please change the shape of y to (n_samples, ), for example using ravel().\n",
            "  y = column_or_1d(y, warn=True)\n",
            "/usr/local/lib/python3.6/dist-packages/sklearn/utils/deprecation.py:87: FutureWarning: Function safe_indexing is deprecated; safe_indexing is deprecated in version 0.22 and will be removed in version 0.24.\n",
            "  warnings.warn(msg, category=FutureWarning)\n"
          ],
          "name": "stderr"
        }
      ]
    },
    {
      "cell_type": "code",
      "metadata": {
        "id": "pvqc5u5mVSpE"
      },
      "source": [
        "cols=['euribor3m', 'job_blue-collar', 'job_housemaid', 'marital_unknown', 'education_illiterate', 'default_no', 'default_unknown', \n",
        "      'contact_cellular', 'contact_telephone', 'month_apr', 'month_aug', 'month_dec', 'month_jul', 'month_jun', 'month_mar', \n",
        "      'month_may', 'month_nov', 'month_oct', \"poutcome_failure\", \"poutcome_success\"] \n",
        "X=os_data_X[cols]\n",
        "y=os_data_y['y']"
      ],
      "execution_count": null,
      "outputs": []
    },
    {
      "cell_type": "code",
      "metadata": {
        "colab": {
          "base_uri": "https://localhost:8080/"
        },
        "id": "JxMirc7vVa41",
        "outputId": "cb2049b7-4014-44cf-caa4-b33462033a79"
      },
      "source": [
        "import statsmodels.api as sm\n",
        "logit_model=sm.Logit(y,X)\n",
        "result=logit_model.fit()\n",
        "print(result.summary2())"
      ],
      "execution_count": null,
      "outputs": [
        {
          "output_type": "stream",
          "text": [
            "/usr/local/lib/python3.6/dist-packages/statsmodels/tools/_testing.py:19: FutureWarning: pandas.util.testing is deprecated. Use the functions in the public API at pandas.testing instead.\n",
            "  import pandas.util.testing as tm\n"
          ],
          "name": "stderr"
        },
        {
          "output_type": "stream",
          "text": [
            "Warning: Maximum number of iterations has been exceeded.\n",
            "         Current function value: 0.546991\n",
            "         Iterations: 35\n",
            "                                      Results: Logit\n",
            "===========================================================================================\n",
            "Model:                        Logit                    Pseudo R-squared:         0.211     \n",
            "Dependent Variable:           y                        AIC:                      12067.2305\n",
            "Date:                         2020-11-28 00:51         BIC:                      12213.3326\n",
            "No. Observations:             10994                    Log-Likelihood:           -6013.6   \n",
            "Df Model:                     19                       LL-Null:                  -7620.5   \n",
            "Df Residuals:                 10974                    LLR p-value:              0.0000    \n",
            "Converged:                    0.0000                   Scale:                    1.0000    \n",
            "No. Iterations:               35.0000                                                      \n",
            "-------------------------------------------------------------------------------------------\n",
            "                      Coef.      Std.Err.       z     P>|z|       [0.025         0.975]    \n",
            "-------------------------------------------------------------------------------------------\n",
            "euribor3m             -0.5240         0.0201 -26.1149 0.0000         -0.5633        -0.4847\n",
            "job_blue-collar       -0.0529         0.0607  -0.8713 0.3836         -0.1719         0.0661\n",
            "job_housemaid         -0.1091         0.1613  -0.6762 0.4989         -0.4253         0.2071\n",
            "marital_unknown        0.7740         0.6287   1.2312 0.2182         -0.4581         2.0062\n",
            "education_illiterate -38.7415 423839680.7207  -0.0000 1.0000 -830710548.1731 830710470.6901\n",
            "default_no            19.9334     34018.8446   0.0006 0.9995     -66655.7769     66695.6437\n",
            "default_unknown       19.6484     34018.8446   0.0006 0.9995     -66656.0619     66695.3587\n",
            "contact_cellular     -18.1576     34018.8446  -0.0005 0.9996     -66693.8679     66657.5527\n",
            "contact_telephone    -18.0771     34018.8446  -0.0005 0.9996     -66693.7874     66657.6331\n",
            "month_apr             -0.2427         0.2023  -1.1997 0.2303         -0.6393         0.1538\n",
            "month_aug             -0.1099         0.2066  -0.5320 0.5947         -0.5149         0.2950\n",
            "month_dec              0.1562         0.3954   0.3950 0.6929         -0.6188         0.9312\n",
            "month_jul              0.2556         0.2088   1.2243 0.2208         -0.1536         0.6649\n",
            "month_jun              0.0409         0.2054   0.1992 0.8421         -0.3617         0.4436\n",
            "month_mar              0.9569         0.2609   3.6677 0.0002          0.4456         1.4683\n",
            "month_may             -0.8913         0.1946  -4.5801 0.0000         -1.2727        -0.5099\n",
            "month_nov             -0.1953         0.2100  -0.9297 0.3525         -0.6070         0.2164\n",
            "month_oct              1.0561         0.2531   4.1727 0.0000          0.5600         1.5522\n",
            "poutcome_failure      -0.5216         0.0786  -6.6371 0.0000         -0.6757        -0.3676\n",
            "poutcome_success       1.4459         0.1330  10.8750 0.0000          1.1853         1.7065\n",
            "===========================================================================================\n",
            "\n"
          ],
          "name": "stdout"
        },
        {
          "output_type": "stream",
          "text": [
            "/usr/local/lib/python3.6/dist-packages/statsmodels/base/model.py:512: ConvergenceWarning: Maximum Likelihood optimization failed to converge. Check mle_retvals\n",
            "  \"Check mle_retvals\", ConvergenceWarning)\n"
          ],
          "name": "stderr"
        }
      ]
    },
    {
      "cell_type": "code",
      "metadata": {
        "colab": {
          "base_uri": "https://localhost:8080/"
        },
        "id": "SV0WpYE5Vcoj",
        "outputId": "20402e47-db3e-418e-abad-147cb253e369"
      },
      "source": [
        "cols=['euribor3m', 'job_blue-collar', 'job_housemaid', 'marital_unknown', 'education_illiterate', \n",
        "      'month_apr', 'month_aug', 'month_dec', 'month_jul', 'month_jun', 'month_mar', \n",
        "      'month_may', 'month_nov', 'month_oct', \"poutcome_failure\", \"poutcome_success\"] \n",
        "X=os_data_X[cols]\n",
        "y=os_data_y['y']\n",
        "logit_model=sm.Logit(y,X)\n",
        "result=logit_model.fit()\n",
        "print(result.summary2())"
      ],
      "execution_count": null,
      "outputs": [
        {
          "output_type": "stream",
          "text": [
            "Optimization terminated successfully.\n",
            "         Current function value: 0.552831\n",
            "         Iterations 15\n",
            "                                      Results: Logit\n",
            "===========================================================================================\n",
            "Model:                        Logit                    Pseudo R-squared:         0.202     \n",
            "Dependent Variable:           y                        AIC:                      12187.6467\n",
            "Date:                         2020-11-28 00:52         BIC:                      12304.5284\n",
            "No. Observations:             10994                    Log-Likelihood:           -6077.8   \n",
            "Df Model:                     15                       LL-Null:                  -7620.5   \n",
            "Df Residuals:                 10978                    LLR p-value:              0.0000    \n",
            "Converged:                    1.0000                   Scale:                    1.0000    \n",
            "No. Iterations:               15.0000                                                      \n",
            "-------------------------------------------------------------------------------------------\n",
            "                      Coef.      Std.Err.       z     P>|z|       [0.025         0.975]    \n",
            "-------------------------------------------------------------------------------------------\n",
            "euribor3m             -0.4997         0.0163 -30.5957 0.0000         -0.5317        -0.4677\n",
            "job_blue-collar       -0.0958         0.0596  -1.6079 0.1079         -0.2127         0.0210\n",
            "job_housemaid         -0.0682         0.1583  -0.4305 0.6669         -0.3785         0.2422\n",
            "marital_unknown        0.7618         0.6304   1.2084 0.2269         -0.4738         1.9974\n",
            "education_illiterate -38.6656 423727764.2106  -0.0000 1.0000 -830491195.7680 830491118.4367\n",
            "month_apr              1.4541         0.0804  18.0888 0.0000          1.2966         1.6117\n",
            "month_aug              1.5129         0.0894  16.9150 0.0000          1.3376         1.6882\n",
            "month_dec              1.9173         0.3496   5.4848 0.0000          1.2321         2.6024\n",
            "month_jul              1.8726         0.0941  19.8978 0.0000          1.6881         2.0570\n",
            "month_jun              1.7105         0.0944  18.1192 0.0000          1.5254         1.8955\n",
            "month_mar              2.7349         0.1813  15.0886 0.0000          2.3797         3.0902\n",
            "month_may              0.7838         0.0658  11.9143 0.0000          0.6549         0.9128\n",
            "month_nov              1.4537         0.1002  14.5029 0.0000          1.2572         1.6501\n",
            "month_oct              2.8112         0.1717  16.3697 0.0000          2.4746         3.1478\n",
            "poutcome_failure      -0.3761         0.0766  -4.9083 0.0000         -0.5263        -0.2259\n",
            "poutcome_success       1.7607         0.1300  13.5417 0.0000          1.5058         2.0155\n",
            "===========================================================================================\n",
            "\n"
          ],
          "name": "stdout"
        }
      ]
    },
    {
      "cell_type": "code",
      "metadata": {
        "colab": {
          "base_uri": "https://localhost:8080/"
        },
        "id": "TvkbunNUVe5C",
        "outputId": "94c9b494-9483-47b8-bc9f-56b649fd1785"
      },
      "source": [
        "from sklearn.linear_model import LogisticRegression\n",
        "from sklearn import metrics\n",
        "X_train, X_test, y_train, y_test = train_test_split(X, y, test_size=0.3, random_state=0)\n",
        "logreg = LogisticRegression()\n",
        "logreg.fit(X_train, y_train)"
      ],
      "execution_count": null,
      "outputs": [
        {
          "output_type": "execute_result",
          "data": {
            "text/plain": [
              "LogisticRegression(C=1.0, class_weight=None, dual=False, fit_intercept=True,\n",
              "                   intercept_scaling=1, l1_ratio=None, max_iter=100,\n",
              "                   multi_class='auto', n_jobs=None, penalty='l2',\n",
              "                   random_state=None, solver='lbfgs', tol=0.0001, verbose=0,\n",
              "                   warm_start=False)"
            ]
          },
          "metadata": {
            "tags": []
          },
          "execution_count": 29
        }
      ]
    },
    {
      "cell_type": "code",
      "metadata": {
        "colab": {
          "base_uri": "https://localhost:8080/"
        },
        "id": "Ppehq56PVg1T",
        "outputId": "8613fc19-2162-48cd-c170-fce72ed01a94"
      },
      "source": [
        "y_pred = logreg.predict(X_test)\n",
        "print('Accuracy of logistic regression classifier on test set: {:.2f}'.format(logreg.score(X_test, y_test)))"
      ],
      "execution_count": null,
      "outputs": [
        {
          "output_type": "stream",
          "text": [
            "Accuracy of logistic regression classifier on test set: 0.73\n"
          ],
          "name": "stdout"
        }
      ]
    },
    {
      "cell_type": "code",
      "metadata": {
        "colab": {
          "base_uri": "https://localhost:8080/"
        },
        "id": "IKOnZGt5VjBT",
        "outputId": "e704dbfc-ccbd-41ed-a7f6-7358ea4ab71d"
      },
      "source": [
        "from sklearn.metrics import confusion_matrix\n",
        "confusion_matrix = confusion_matrix(y_test, y_pred)\n",
        "print(confusion_matrix)\n"
      ],
      "execution_count": null,
      "outputs": [
        {
          "output_type": "stream",
          "text": [
            "[[1227  407]\n",
            " [ 500 1165]]\n"
          ],
          "name": "stdout"
        }
      ]
    },
    {
      "cell_type": "code",
      "metadata": {
        "colab": {
          "base_uri": "https://localhost:8080/"
        },
        "id": "MSKf7nG3VlPz",
        "outputId": "dcc607eb-9c4e-440c-f3b8-af7275fa788f"
      },
      "source": [
        "from sklearn.metrics import classification_report\n",
        "print(classification_report(y_test, y_pred))"
      ],
      "execution_count": null,
      "outputs": [
        {
          "output_type": "stream",
          "text": [
            "              precision    recall  f1-score   support\n",
            "\n",
            "         0.0       0.71      0.75      0.73      1634\n",
            "         1.0       0.74      0.70      0.72      1665\n",
            "\n",
            "    accuracy                           0.73      3299\n",
            "   macro avg       0.73      0.73      0.72      3299\n",
            "weighted avg       0.73      0.73      0.72      3299\n",
            "\n"
          ],
          "name": "stdout"
        }
      ]
    },
    {
      "cell_type": "code",
      "metadata": {
        "colab": {
          "base_uri": "https://localhost:8080/",
          "height": 301
        },
        "id": "2Vx5BZ54VpAk",
        "outputId": "1a43943f-f704-465b-f84b-e398a67a88ca"
      },
      "source": [
        "from sklearn.metrics import roc_auc_score\n",
        "from sklearn.metrics import roc_curve\n",
        "logit_roc_auc = roc_auc_score(y_test, logreg.predict(X_test))\n",
        "fpr, tpr, thresholds = roc_curve(y_test, logreg.predict_proba(X_test)[:,1])\n",
        "plt.figure()\n",
        "plt.plot(fpr, tpr, label='Logistic Regression (area = %0.2f)' % logit_roc_auc)\n",
        "plt.plot([0, 1], [0, 1],'r--')\n",
        "plt.xlim([0.0, 1.0])\n",
        "plt.ylim([0.0, 1.05])\n",
        "plt.xlabel('False Positive Rate')\n",
        "plt.ylabel('True Positive Rate')\n",
        "plt.title('Receiver operating characteristic')\n",
        "plt.legend(loc=\"lower right\")\n",
        "plt.savefig('Log_ROC')\n",
        "plt.show()"
      ],
      "execution_count": null,
      "outputs": [
        {
          "output_type": "display_data",
          "data": {
            "image/png": "[encoded data removed]",
            "text/plain": [
              "<Figure size 432x288 with 1 Axes>"
            ]
          },
          "metadata": {
            "tags": [],
            "needs_background": "light"
          }
        }
      ]
    }
  ]
}